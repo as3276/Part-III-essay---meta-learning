{
 "cells": [
  {
   "cell_type": "code",
   "execution_count": 6,
   "id": "0a95d7e5",
   "metadata": {},
   "outputs": [],
   "source": [
    "import torch\n",
    "import torch.nn as nn\n",
    "import torch.nn.functional as F\n",
    "import numpy as np\n",
    "from collections import OrderedDict\n",
    "import matplotlib.pyplot as plt\n",
    "%matplotlib inline\n",
    "import copy\n",
    "from scipy.stats import norm\n",
    "from torch import nn"
   ]
  },
  {
   "cell_type": "code",
   "execution_count": 7,
   "id": "297fb063",
   "metadata": {},
   "outputs": [],
   "source": [
    "device=torch.device(\"cuda\" if torch.cuda.is_available() else \"cpu\")"
   ]
  },
  {
   "cell_type": "code",
   "execution_count": 8,
   "id": "0865aec5",
   "metadata": {},
   "outputs": [],
   "source": [
    "import warnings\n",
    "warnings.filterwarnings('ignore')"
   ]
  },
  {
   "cell_type": "markdown",
   "id": "2c76adf2",
   "metadata": {},
   "source": [
    "# Bandit"
   ]
  },
  {
   "cell_type": "code",
   "execution_count": 39,
   "id": "02129b59",
   "metadata": {},
   "outputs": [],
   "source": [
    "nb_arms = 3\n",
    "\n",
    "class Bandit:\n",
    "    def __init__(self, k):\n",
    "        self.k = k\n",
    "        #self.reward_means = np.random.normal(10, 5, k)\n",
    "        self.reward_means = np.array([1, 1, 1.2])\n",
    "        self.reward_variance = np.array([1, 2, 1])\n",
    "        #self.reward_variance = (np.random.normal(0, 0.5, k)**2)**(0.5)\n",
    "        self.optimal_action = np.argmax(self.reward_means)\n",
    "\n",
    "    def step(self, action):\n",
    "        #reward = np.random.normal(self.reward_means[action], 0.1)\n",
    "        reward = np.random.normal(self.reward_means[action], self.reward_variance[action])\n",
    "        return reward\n",
    "\n",
    "class BanditTask:\n",
    "    def __init__(self, bandit):\n",
    "        self.bandit = bandit\n",
    "        \n",
    "    def sample_data(self, size):\n",
    "        rewards = []\n",
    "        actions = []\n",
    "        for i in range(size):\n",
    "            action = np.random.choice(3)\n",
    "            reward = self.bandit.step(action)\n",
    "            rewards.append(reward)\n",
    "            actions.append(action)\n",
    "        return torch.Tensor(actions).unsqueeze(1), torch.Tensor(rewards)\n",
    "    \n",
    "    def comparison(self,size):\n",
    "        return bandit.optimal_action"
   ]
  },
  {
   "cell_type": "code",
   "execution_count": 40,
   "id": "30b65815",
   "metadata": {},
   "outputs": [],
   "source": [
    "ban = Bandit(5)"
   ]
  },
  {
   "cell_type": "code",
   "execution_count": 41,
   "id": "fdc248a2",
   "metadata": {},
   "outputs": [
    {
     "data": {
      "text/plain": [
       "array([1. , 1. , 1.2])"
      ]
     },
     "execution_count": 41,
     "metadata": {},
     "output_type": "execute_result"
    }
   ],
   "source": [
    "ban.reward_means"
   ]
  },
  {
   "cell_type": "code",
   "execution_count": 42,
   "id": "aa795f87",
   "metadata": {},
   "outputs": [],
   "source": [
    "task = BanditTask(ban)"
   ]
  },
  {
   "cell_type": "code",
   "execution_count": 44,
   "id": "25166c78",
   "metadata": {},
   "outputs": [
    {
     "data": {
      "text/plain": [
       "(tensor([[0.],\n",
       "         [0.],\n",
       "         [2.],\n",
       "         [2.],\n",
       "         [1.],\n",
       "         [1.],\n",
       "         [0.],\n",
       "         [0.],\n",
       "         [0.],\n",
       "         [2.]]),\n",
       " tensor([ 0.1344,  3.4516,  2.2462,  0.3411,  3.7611, -1.0010,  1.8537,  1.6303,\n",
       "         -0.8763,  0.8035]))"
      ]
     },
     "execution_count": 44,
     "metadata": {},
     "output_type": "execute_result"
    }
   ],
   "source": [
    "task.sample_data(10)"
   ]
  },
  {
   "cell_type": "markdown",
   "id": "236ea686",
   "metadata": {},
   "source": [
    "# MAML"
   ]
  },
  {
   "cell_type": "code",
   "execution_count": 32,
   "id": "8a979c3a",
   "metadata": {},
   "outputs": [],
   "source": [
    "class FNet(nn.Module):\n",
    "    def __init__(self):\n",
    "        super(FNet,self).__init__()\n",
    "        self.net=nn.Sequential(OrderedDict([\n",
    "            ('l1',nn.Linear(1,40)),\n",
    "            ('relu1',nn.ReLU()),\n",
    "            ('l2',nn.Linear(40,40)),\n",
    "            ('relu2',nn.ReLU()),\n",
    "            ('l3',nn.Linear(40,1))\n",
    "            ]))\n",
    "\n",
    "    def argforward(self,x,weights): \n",
    "        x=F.linear(x,weights[0],weights[1])\n",
    "        x=F.relu(x)\n",
    "        x=F.linear(x,weights[2],weights[3])           \n",
    "        x=F.relu(x)\n",
    "        x=F.linear(x,weights[4],weights[5])\n",
    "        return x"
   ]
  },
  {
   "cell_type": "code",
   "execution_count": 36,
   "id": "ceabcc09",
   "metadata": {},
   "outputs": [],
   "source": [
    "class FMAML():\n",
    "    def __init__(self,net,alpha,beta,k,num_metatasks, num_shots):\n",
    "        self.net=net\n",
    "        self.weights=list(net.parameters())\n",
    "        self.alpha=alpha\n",
    "        self.beta=beta\n",
    "        self.k=k \n",
    "        self.m = 5\n",
    "        self.num_tasks_meta=num_metatasks #nombre de tâches que l'on utilise\n",
    "        self.criterion=nn.MSELoss()  #criterion just to chose\n",
    "        #self.criterion=nn.GaussianNLLLoss()\n",
    "        self.meta_optimiser=torch.optim.Adam(self.weights,self.beta)\n",
    "        self.meta_losses=[]\n",
    "        self.plot_every =10\n",
    "        self.print_every = 10\n",
    "        self.num_metatasks=num_metatasks\n",
    "        self.num_shots = num_shots\n",
    "\n",
    "    def inner_loop(self,task, k):\n",
    "        temp_weights=[w.clone() for w in self.weights]\n",
    "        \n",
    "        x_, y_ = task.sample_data(size=k)\n",
    "        x_=torch.tensor(x_).float().view(-1,1).to(device)\n",
    "        y_=torch.tensor(y_).float().view(-1,1).to(device)\n",
    "        \n",
    "        output=self.net.argforward(x_,temp_weights)\n",
    "        loss=self.criterion(output,y_)/self.k\n",
    "        grads=torch.autograd.grad(loss,temp_weights)\n",
    "        temp_weights=[w-self.alpha*g for w,g in zip(temp_weights,grads)] #temporary update of weights\n",
    "        \n",
    "        x_,y_=task.sample_data(size=self.k) #sampling D'\n",
    "        x_=torch.tensor(x_).float().view(-1,1).to(device)\n",
    "        y_=torch.tensor(y_).float().view(-1,1).to(device)\n",
    "        output=self.net.argforward(x_,temp_weights)\n",
    "        metaloss=self.criterion(output,y_)/self.k\n",
    "        return metaloss, temp_weights\n",
    "    \n",
    "    def outer_loop(self,num_epochs):\n",
    "        total_loss=0\n",
    "        for epoch in range(1,num_epochs+1): #Correspond au \"While not done\"\n",
    "            metaloss_sum=0\n",
    "            for i in range(self.num_metatasks): \n",
    "                task=BanditTask(Bandit(k)) #.sample_data(size=self.k)\n",
    "                metaloss, temp_weights=self.inner_loop(task, self.k)\n",
    "                #metaloss, temp_weights=self.ML_point(task, self.k)\n",
    "                metaloss_sum+=metaloss\n",
    "            metagrads=torch.autograd.grad(metaloss_sum,self.weights)\n",
    "            for w,g in zip(self.weights,metagrads):\n",
    "                w.grad=g\n",
    "            self.meta_optimiser.step()\n",
    "            total_loss += metaloss_sum.item() / self.num_metatasks\n",
    "            #if epoch % self.print_every == 0:\n",
    "                #print(\"{}/{}. loss: {}\".format(epoch, num_epochs, total_loss / self.plot_every))\n",
    "            if epoch % self.plot_every == 0:\n",
    "                self.meta_losses.append(total_loss / self.plot_every)\n",
    "                total_loss = 0\n",
    "\n",
    "    def inner_loop_test(self,x,y, k):\n",
    "        temp_weights=[w.clone() for w in self.weights]\n",
    "        x=torch.tensor(x).float().view(-1,1).to(device)\n",
    "        y=torch.tensor(y).float().view(-1,1).to(device)\n",
    "        output=self.net.argforward(x,temp_weights)\n",
    "        metaloss=self.criterion(output,y)/self.k\n",
    "        return metaloss, temp_weights\n",
    "    \n",
    "    def training(self, x,y):\n",
    "        total_loss=0\n",
    "        metaloss, temp_weights=self.inner_loop_test(x,y, self.num_shots)\n",
    "        metagrads=torch.autograd.grad(metaloss,self.weights)\n",
    "        for w,g in zip(self.weights,metagrads):\n",
    "            w.grad=g\n",
    "        self.meta_optimiser.step()\n",
    "        total_loss += metaloss.item() / self.num_metatasks\n",
    "        return total_loss\n",
    "    \n",
    "    def output(self, x,y):\n",
    "        x=torch.tensor(x).float().view(-1,1).to(device)\n",
    "        y=torch.tensor(y).float().view(-1,1).to(device)\n",
    "        out=self.net.argforward(x,self.weights)\n",
    "        return torch.abs(out-y)\n",
    "                \n",
    "    def plot_losses(self):\n",
    "        plt.plot(self.meta_losses)\n",
    "        plt.xlabel('Meta-Iteration')\n",
    "        plt.ylabel('Meta-Loss')\n",
    "        plt.title('Meta-Training Loss')\n",
    "        plt.show()"
   ]
  },
  {
   "cell_type": "markdown",
   "id": "a23889ba",
   "metadata": {},
   "source": [
    "# Parameters for training"
   ]
  },
  {
   "cell_type": "code",
   "execution_count": 37,
   "id": "2d1890f9",
   "metadata": {},
   "outputs": [],
   "source": [
    "# Définir les paramètres de l'algorithme MAML\n",
    "alpha = 0.01\n",
    "beta = 0.001\n",
    "num_tasks = 20\n",
    "k = 10\n",
    "num_metatasks = 10\n",
    "num_shots = 10\n",
    "\n",
    "# Créer les tâches\n",
    "#task = BanditTask(Bandit())\n",
    "#task_test = BanditTask(Bandit())#.sample_data(3)"
   ]
  },
  {
   "cell_type": "markdown",
   "id": "b1ee8d4f",
   "metadata": {},
   "source": [
    "# Fixed variance"
   ]
  },
  {
   "cell_type": "markdown",
   "id": "80e976c2",
   "metadata": {},
   "source": [
    "Excellent performances with a 0.01 variance."
   ]
  },
  {
   "cell_type": "markdown",
   "id": "5950009e",
   "metadata": {},
   "source": [
    "MAML with variance 0.00001 behaves during the meta-training as the training only of MAML without meta-training and variance 0.01."
   ]
  },
  {
   "cell_type": "markdown",
   "id": "a2441b25",
   "metadata": {},
   "source": [
    "## 1000 meta-training epochs"
   ]
  },
  {
   "cell_type": "code",
   "execution_count": 45,
   "id": "3122244e",
   "metadata": {},
   "outputs": [],
   "source": [
    "# Créer une instance de la classe FMAML\n",
    "maml = FMAML(FNet(), alpha, beta, k, num_metatasks, num_shots)\n",
    "\n",
    "# Entraîner l'algorithme MAML\n",
    "num_epochs = 10000\n",
    "maml.outer_loop(num_epochs)"
   ]
  },
  {
   "cell_type": "code",
   "execution_count": 46,
   "id": "32710488",
   "metadata": {},
   "outputs": [
    {
     "data": {
      "image/png": "[encoded data removed]",
      "text/plain": [
       "<Figure size 432x288 with 1 Axes>"
      ]
     },
     "metadata": {
      "needs_background": "light"
     },
     "output_type": "display_data"
    }
   ],
   "source": [
    "maml.plot_losses()"
   ]
  },
  {
   "cell_type": "code",
   "execution_count": 50,
   "id": "b5bae085",
   "metadata": {},
   "outputs": [
    {
     "ename": "TypeError",
     "evalue": "'Bandit' object is not callable",
     "output_type": "error",
     "traceback": [
      "\u001b[0;31m---------------------------------------------------------------------------\u001b[0m",
      "\u001b[0;31mTypeError\u001b[0m                                 Traceback (most recent call last)",
      "\u001b[0;32m<ipython-input-50-34e2dfd8f289>\u001b[0m in \u001b[0;36m<module>\u001b[0;34m\u001b[0m\n\u001b[1;32m      1\u001b[0m \u001b[0mbandit\u001b[0m \u001b[0;34m=\u001b[0m \u001b[0mBandit\u001b[0m\u001b[0;34m(\u001b[0m\u001b[0;36m3\u001b[0m\u001b[0;34m)\u001b[0m\u001b[0;34m\u001b[0m\u001b[0;34m\u001b[0m\u001b[0m\n\u001b[0;32m----> 2\u001b[0;31m \u001b[0mtask_test\u001b[0m \u001b[0;34m=\u001b[0m \u001b[0mBanditTask\u001b[0m\u001b[0;34m(\u001b[0m\u001b[0mbandit\u001b[0m\u001b[0;34m(\u001b[0m\u001b[0;34m)\u001b[0m\u001b[0;34m)\u001b[0m\u001b[0;34m\u001b[0m\u001b[0;34m\u001b[0m\u001b[0m\n\u001b[0m\u001b[1;32m      3\u001b[0m \u001b[0;34m\u001b[0m\u001b[0m\n\u001b[1;32m      4\u001b[0m \u001b[0mx\u001b[0m\u001b[0;34m,\u001b[0m\u001b[0my\u001b[0m \u001b[0;34m=\u001b[0m \u001b[0;34m[\u001b[0m\u001b[0;34m]\u001b[0m\u001b[0;34m,\u001b[0m \u001b[0;34m[\u001b[0m\u001b[0;34m]\u001b[0m\u001b[0;34m\u001b[0m\u001b[0;34m\u001b[0m\u001b[0m\n\u001b[1;32m      5\u001b[0m \u001b[0;32mfor\u001b[0m \u001b[0mi\u001b[0m \u001b[0;32min\u001b[0m \u001b[0mrange\u001b[0m\u001b[0;34m(\u001b[0m\u001b[0mnb_arms\u001b[0m\u001b[0;34m)\u001b[0m\u001b[0;34m:\u001b[0m\u001b[0;34m\u001b[0m\u001b[0;34m\u001b[0m\u001b[0m\n",
      "\u001b[0;31mTypeError\u001b[0m: 'Bandit' object is not callable"
     ]
    }
   ],
   "source": [
    "bandit = Bandit(3)\n",
    "task_test = BanditTask(bandit())\n",
    "\n",
    "x,y = [], []\n",
    "for i in range(nb_arms):\n",
    "    x.append(i)\n",
    "    y.append(bandit.step(i))\n",
    "x, y = torch.Tensor(x).unsqueeze(1), torch.Tensor(y)"
   ]
  },
  {
   "cell_type": "code",
   "execution_count": 51,
   "id": "25a07e4b",
   "metadata": {},
   "outputs": [
    {
     "ename": "NameError",
     "evalue": "name 'y' is not defined",
     "output_type": "error",
     "traceback": [
      "\u001b[0;31m---------------------------------------------------------------------------\u001b[0m",
      "\u001b[0;31mNameError\u001b[0m                                 Traceback (most recent call last)",
      "\u001b[0;32m<ipython-input-51-9bfcfd84ee48>\u001b[0m in \u001b[0;36m<module>\u001b[0;34m\u001b[0m\n\u001b[1;32m      1\u001b[0m \u001b[0;31m# 1000 meta-training steps\u001b[0m\u001b[0;34m\u001b[0m\u001b[0;34m\u001b[0m\u001b[0;34m\u001b[0m\u001b[0m\n\u001b[1;32m      2\u001b[0m \u001b[0;34m\u001b[0m\u001b[0m\n\u001b[0;32m----> 3\u001b[0;31m \u001b[0mprint\u001b[0m\u001b[0;34m(\u001b[0m\u001b[0;34m\"Real output: {} \\n prediction: {} \"\u001b[0m\u001b[0;34m.\u001b[0m\u001b[0mformat\u001b[0m\u001b[0;34m(\u001b[0m\u001b[0my\u001b[0m\u001b[0;34m,\u001b[0m \u001b[0mmaml\u001b[0m\u001b[0;34m.\u001b[0m\u001b[0moutput\u001b[0m\u001b[0;34m(\u001b[0m\u001b[0mx\u001b[0m\u001b[0;34m)\u001b[0m\u001b[0;34m)\u001b[0m\u001b[0;34m)\u001b[0m\u001b[0;34m\u001b[0m\u001b[0;34m\u001b[0m\u001b[0m\n\u001b[0m\u001b[1;32m      4\u001b[0m \u001b[0mmaml\u001b[0m\u001b[0;34m.\u001b[0m\u001b[0mtraining\u001b[0m\u001b[0;34m(\u001b[0m\u001b[0mx\u001b[0m\u001b[0;34m,\u001b[0m\u001b[0my\u001b[0m\u001b[0;34m)\u001b[0m\u001b[0;34m\u001b[0m\u001b[0;34m\u001b[0m\u001b[0m\n\u001b[1;32m      5\u001b[0m \u001b[0mprint\u001b[0m\u001b[0;34m(\u001b[0m\u001b[0;34m\"prediction after one training step: {} \"\u001b[0m\u001b[0;34m.\u001b[0m\u001b[0mformat\u001b[0m\u001b[0;34m(\u001b[0m\u001b[0mmaml\u001b[0m\u001b[0;34m.\u001b[0m\u001b[0moutput\u001b[0m\u001b[0;34m(\u001b[0m\u001b[0mx\u001b[0m\u001b[0;34m)\u001b[0m\u001b[0;34m)\u001b[0m\u001b[0;34m)\u001b[0m\u001b[0;34m\u001b[0m\u001b[0;34m\u001b[0m\u001b[0m\n",
      "\u001b[0;31mNameError\u001b[0m: name 'y' is not defined"
     ]
    }
   ],
   "source": [
    "# 1000 meta-training steps\n",
    "\n",
    "print(\"Real output: {} \\n prediction: {} \".format(y, maml.output(x)))\n",
    "maml.training(x,y)\n",
    "print(\"prediction after one training step: {} \".format(maml.output(x)))\n",
    "\n",
    "losses = []\n",
    "for i in range(100):\n",
    "    losses.append(maml.training(x, y))\n",
    "\n",
    "print(\"prediction after 100 training step: {} \".format(maml.output(x)))"
   ]
  },
  {
   "cell_type": "code",
   "execution_count": 232,
   "id": "1fd19d4f",
   "metadata": {},
   "outputs": [
    {
     "name": "stdout",
     "output_type": "stream",
     "text": [
      "Real output: tensor([11.1171, -0.3937, 11.4129]) \n",
      " prediction: tensor([[6.4834],\n",
      "        [3.4910],\n",
      "        [6.5842]], grad_fn=<AddmmBackward>) \n",
      "prediction after one training step: tensor([[6.5041],\n",
      "        [3.5015],\n",
      "        [6.5644]], grad_fn=<AddmmBackward>) \n",
      "prediction after 120 training step: tensor([[10.5630],\n",
      "        [ 0.1628],\n",
      "        [10.0102]], grad_fn=<AddmmBackward>) \n",
      "prediction after 150 training step: tensor([[10.8457],\n",
      "        [-0.0382],\n",
      "        [10.5133]], grad_fn=<AddmmBackward>) \n"
     ]
    }
   ],
   "source": [
    "print(\"Real output: {} \\n prediction: {} \".format(y, maml.output(x)))\n",
    "maml.training(x,y)\n",
    "print(\"prediction after one training step: {} \".format(maml.output(x)))\n",
    "\n",
    "losses_1 = []\n",
    "for i in range(120):\n",
    "    losses_1.append(maml.training(x, y))\n",
    "\n",
    "print(\"prediction after 120 training step: {} \".format(maml.output(x)))\n",
    "\n",
    "losses_2 = []\n",
    "for i in range(30):\n",
    "    losses_2.append(maml.training(x, y))\n",
    "    \n",
    "print(\"prediction after 150 training step: {} \".format(maml.output(x)))"
   ]
  },
  {
   "cell_type": "code",
   "execution_count": 233,
   "id": "fb4c1fd7",
   "metadata": {},
   "outputs": [
    {
     "data": {
      "text/plain": [
       "[<matplotlib.lines.Line2D at 0x7fb1fa407fa0>]"
      ]
     },
     "execution_count": 233,
     "metadata": {},
     "output_type": "execute_result"
    },
    {
     "data": {
      "image/png": "[encoded data removed]",
      "text/plain": [
       "<Figure size 432x288 with 1 Axes>"
      ]
     },
     "metadata": {
      "needs_background": "light"
     },
     "output_type": "display_data"
    }
   ],
   "source": [
    "plt.plot(losses_1+losses_2)"
   ]
  },
  {
   "cell_type": "code",
   "execution_count": 234,
   "id": "fd5168cc",
   "metadata": {},
   "outputs": [
    {
     "data": {
      "text/plain": [
       "[<matplotlib.lines.Line2D at 0x7fb1fa44b520>]"
      ]
     },
     "execution_count": 234,
     "metadata": {},
     "output_type": "execute_result"
    },
    {
     "data": {
      "image/png": "[encoded data removed]",
      "text/plain": [
       "<Figure size 432x288 with 1 Axes>"
      ]
     },
     "metadata": {
      "needs_background": "light"
     },
     "output_type": "display_data"
    }
   ],
   "source": [
    "plt.plot(losses_1)"
   ]
  },
  {
   "cell_type": "code",
   "execution_count": 90,
   "id": "3be8813d",
   "metadata": {},
   "outputs": [
    {
     "data": {
      "text/plain": [
       "[<matplotlib.lines.Line2D at 0x7fb1db710910>]"
      ]
     },
     "execution_count": 90,
     "metadata": {},
     "output_type": "execute_result"
    },
    {
     "data": {
      "image/png": "[encoded data removed]",
      "text/plain": [
       "<Figure size 432x288 with 1 Axes>"
      ]
     },
     "metadata": {
      "needs_background": "light"
     },
     "output_type": "display_data"
    }
   ],
   "source": [
    "#500 iterations\n",
    "plt.plot(losses_1+losses_2)"
   ]
  },
  {
   "cell_type": "markdown",
   "id": "10244449",
   "metadata": {},
   "source": [
    "## 1 Meta-training epoch"
   ]
  },
  {
   "cell_type": "markdown",
   "id": "3137e602",
   "metadata": {},
   "source": [
    "Funny curve with 0.01 variance for the rewards and 1000 training iterations."
   ]
  },
  {
   "cell_type": "code",
   "execution_count": 103,
   "id": "31d7b38c",
   "metadata": {},
   "outputs": [],
   "source": [
    "# Créer une instance de la classe FMAML\n",
    "maml = FMAML(FNet(), alpha, beta, k, num_metatasks, num_shots)\n",
    "\n",
    "# Entraîner l'algorithme MAML\n",
    "num_epochs = 0\n",
    "#maml.outer_loop(num_epochs)"
   ]
  },
  {
   "cell_type": "code",
   "execution_count": 104,
   "id": "6ef6aa4d",
   "metadata": {},
   "outputs": [],
   "source": [
    "bandit = Bandit()\n",
    "task_test = BanditTask(bandit)\n",
    "\n",
    "x,y = [], []\n",
    "for i in range(nb_arms):\n",
    "    x.append(i)\n",
    "    y.append(bandit.step(i))\n",
    "x, y = torch.Tensor(x).unsqueeze(1), torch.Tensor(y)"
   ]
  },
  {
   "cell_type": "code",
   "execution_count": 105,
   "id": "eecb4d7a",
   "metadata": {},
   "outputs": [
    {
     "name": "stdout",
     "output_type": "stream",
     "text": [
      "Real output: tensor([ 0.9285,  8.4799, -1.9825]) \n",
      " prediction: tensor([[0.2095],\n",
      "        [0.2548],\n",
      "        [0.2780]], grad_fn=<AddmmBackward>) \n",
      "prediction after one training step: tensor([[0.2381],\n",
      "        [0.2986],\n",
      "        [0.3297]], grad_fn=<AddmmBackward>) \n",
      "prediction after 120 training step: tensor([[3.0508],\n",
      "        [3.5796],\n",
      "        [0.5687]], grad_fn=<AddmmBackward>) \n",
      "prediction after 150 training step: tensor([[ 3.4957],\n",
      "        [ 4.4096],\n",
      "        [-0.1813]], grad_fn=<AddmmBackward>) \n"
     ]
    }
   ],
   "source": [
    "print(\"Real output: {} \\n prediction: {} \".format(y, maml.output(x)))\n",
    "maml.training(x,y)\n",
    "print(\"prediction after one training step: {} \".format(maml.output(x)))\n",
    "\n",
    "losses_1 = []\n",
    "for i in range(120):\n",
    "    losses_1.append(maml.training(x, y))\n",
    "\n",
    "print(\"prediction after 120 training step: {} \".format(maml.output(x)))\n",
    "\n",
    "losses_2 = []\n",
    "for i in range(30):\n",
    "    losses_2.append(maml.training(x, y))\n",
    "    \n",
    "print(\"prediction after 150 training step: {} \".format(maml.output(x)))"
   ]
  },
  {
   "cell_type": "code",
   "execution_count": 106,
   "id": "0e33fdb8",
   "metadata": {},
   "outputs": [
    {
     "data": {
      "text/plain": [
       "[<matplotlib.lines.Line2D at 0x7fb1e84f8220>]"
      ]
     },
     "execution_count": 106,
     "metadata": {},
     "output_type": "execute_result"
    },
    {
     "data": {
      "image/png": "[encoded data removed]",
      "text/plain": [
       "<Figure size 432x288 with 1 Axes>"
      ]
     },
     "metadata": {
      "needs_background": "light"
     },
     "output_type": "display_data"
    }
   ],
   "source": [
    "plt.plot(losses_1)"
   ]
  },
  {
   "cell_type": "code",
   "execution_count": 107,
   "id": "632e7b1d",
   "metadata": {},
   "outputs": [
    {
     "data": {
      "text/plain": [
       "[<matplotlib.lines.Line2D at 0x7fb1db56eca0>]"
      ]
     },
     "execution_count": 107,
     "metadata": {},
     "output_type": "execute_result"
    },
    {
     "data": {
      "image/png": "[encoded data removed]",
      "text/plain": [
       "<Figure size 432x288 with 1 Axes>"
      ]
     },
     "metadata": {
      "needs_background": "light"
     },
     "output_type": "display_data"
    }
   ],
   "source": [
    "plt.plot(losses_1+losses_2)"
   ]
  },
  {
   "cell_type": "markdown",
   "id": "24d80bba",
   "metadata": {},
   "source": [
    "# Random variance"
   ]
  },
  {
   "cell_type": "markdown",
   "id": "6cbbbe02",
   "metadata": {},
   "source": [
    "## 1000 meta-training epochs"
   ]
  },
  {
   "cell_type": "code",
   "execution_count": 388,
   "id": "871cd350",
   "metadata": {},
   "outputs": [],
   "source": [
    "# Créer une instance de la classe FMAML\n",
    "maml = FMAML(FNet(), alpha, beta, k, num_metatasks, num_shots)\n",
    "\n",
    "# Entraîner l'algorithme MAML\n",
    "num_epochs = 10000\n",
    "maml.outer_loop(num_epochs)"
   ]
  },
  {
   "cell_type": "code",
   "execution_count": 389,
   "id": "0b2e94ac",
   "metadata": {},
   "outputs": [
    {
     "data": {
      "image/png": "[encoded data removed]",
      "text/plain": [
       "<Figure size 432x288 with 1 Axes>"
      ]
     },
     "metadata": {
      "needs_background": "light"
     },
     "output_type": "display_data"
    }
   ],
   "source": [
    "maml.plot_losses()"
   ]
  },
  {
   "cell_type": "code",
   "execution_count": 428,
   "id": "19cc182c",
   "metadata": {},
   "outputs": [],
   "source": [
    "bandit = Bandit()\n",
    "task_test = BanditTask(bandit)\n",
    "\n",
    "x,y = [], []\n",
    "for i in range(nb_arms):\n",
    "    x.append(i)\n",
    "    y.append(bandit.step(i))\n",
    "x, y = torch.Tensor(x).unsqueeze(1), torch.Tensor(y)"
   ]
  },
  {
   "cell_type": "code",
   "execution_count": 429,
   "id": "3f08919b",
   "metadata": {},
   "outputs": [],
   "source": [
    "means = [bandit.step(1), bandit.step(2), bandit.step(3)]\n",
    "for i in range(99):\n",
    "    means[0] += bandit.step(1)\n",
    "    means[1]+= bandit.step(2)\n",
    "    means[2] += bandit.step(3)\n",
    "means = np.array(means)/100"
   ]
  },
  {
   "cell_type": "code",
   "execution_count": 430,
   "id": "ace6d391",
   "metadata": {},
   "outputs": [
    {
     "name": "stdout",
     "output_type": "stream",
     "text": [
      "[ 9.13877413 12.65313345  8.89959557]\n"
     ]
    }
   ],
   "source": [
    "print(means)"
   ]
  },
  {
   "cell_type": "code",
   "execution_count": 431,
   "id": "b69f3b99",
   "metadata": {},
   "outputs": [
    {
     "name": "stdout",
     "output_type": "stream",
     "text": [
      "Real output: tensor([ 6.2308,  8.5074, 12.6779]) \n",
      " prediction: tensor([[ 2.8674],\n",
      "        [11.5199],\n",
      "        [ 8.6349]], grad_fn=<AbsBackward>) \n",
      "prediction after one training step: tensor([[ 2.8128],\n",
      "        [11.4524],\n",
      "        [ 8.4215]], grad_fn=<AbsBackward>) \n",
      "prediction after 100 training step: tensor([[1.6055],\n",
      "        [1.7142],\n",
      "        [0.6176]], grad_fn=<AbsBackward>) \n",
      "prediction after 200 training step: tensor([[1.0397],\n",
      "        [1.4405],\n",
      "        [0.5998]], grad_fn=<AbsBackward>) \n",
      "prediction after 300 training step: tensor([[0.8440],\n",
      "        [1.1809],\n",
      "        [0.4483]], grad_fn=<AbsBackward>) \n",
      "prediction after 400 training step: tensor([[0.6888],\n",
      "        [0.9495],\n",
      "        [0.3757]], grad_fn=<AbsBackward>) \n"
     ]
    }
   ],
   "source": [
    "# 20000 training steps\n",
    "\n",
    "print(\"Real output: {} \\n prediction: {} \".format(y, maml.output(x,y)))\n",
    "maml.training(x,y)\n",
    "print(\"prediction after one training step: {} \".format(maml.output(x,y)))\n",
    "\n",
    "losses_1 = []\n",
    "for i in range(100):\n",
    "    losses_1.append(maml.training(x, y))\n",
    "\n",
    "print(\"prediction after 100 training step: {} \".format(maml.output(x,y)))\n",
    "\n",
    "losses_2 = []\n",
    "for i in range(100):\n",
    "    losses_2.append(maml.training(x, y))\n",
    "    \n",
    "print(\"prediction after 200 training step: {} \".format(maml.output(x,y)))\n",
    "\n",
    "losses_3 = []\n",
    "for i in range(100):\n",
    "    losses_3.append(maml.training(x, y))\n",
    "    \n",
    "print(\"prediction after 300 training step: {} \".format(maml.output(x,y)))\n",
    "\n",
    "losses_4 = []\n",
    "for i in range(100):\n",
    "    losses_4.append(maml.training(x, y))\n",
    "    \n",
    "print(\"prediction after 400 training step: {} \".format(maml.output(x,y)))"
   ]
  },
  {
   "cell_type": "code",
   "execution_count": 432,
   "id": "9101044a",
   "metadata": {},
   "outputs": [
    {
     "name": "stdout",
     "output_type": "stream",
     "text": [
      "1.125 1.2625 0.825\n"
     ]
    }
   ],
   "source": [
    "print(9/8, 10.1/8, 6.6/8)"
   ]
  },
  {
   "cell_type": "code",
   "execution_count": 423,
   "id": "a9bff690",
   "metadata": {},
   "outputs": [
    {
     "name": "stdout",
     "output_type": "stream",
     "text": [
      "prediction after 1000 training step: tensor([[6.6757e-06],\n",
      "        [5.7220e-06],\n",
      "        [9.5367e-07]], grad_fn=<AbsBackward>) \n"
     ]
    }
   ],
   "source": [
    "for i in range(1000):\n",
    "    maml.training(x, y)\n",
    "    \n",
    "print(\"prediction after 1000 training step: {} \".format(maml.output(x,y)))"
   ]
  },
  {
   "cell_type": "code",
   "execution_count": 379,
   "id": "d70d1b7e",
   "metadata": {},
   "outputs": [
    {
     "data": {
      "text/plain": [
       "[<matplotlib.lines.Line2D at 0x7fb1fa935be0>]"
      ]
     },
     "execution_count": 379,
     "metadata": {},
     "output_type": "execute_result"
    },
    {
     "data": {
      "image/png": "[encoded data removed]",
      "text/plain": [
       "<Figure size 432x288 with 1 Axes>"
      ]
     },
     "metadata": {
      "needs_background": "light"
     },
     "output_type": "display_data"
    }
   ],
   "source": [
    "plt.plot(losses_1)"
   ]
  },
  {
   "cell_type": "code",
   "execution_count": 380,
   "id": "b9bb3e21",
   "metadata": {},
   "outputs": [
    {
     "data": {
      "text/plain": [
       "[<matplotlib.lines.Line2D at 0x7fb1dc5f6dc0>]"
      ]
     },
     "execution_count": 380,
     "metadata": {},
     "output_type": "execute_result"
    },
    {
     "data": {
      "image/png": "[encoded data removed]",
      "text/plain": [
       "<Figure size 432x288 with 1 Axes>"
      ]
     },
     "metadata": {
      "needs_background": "light"
     },
     "output_type": "display_data"
    }
   ],
   "source": [
    "plt.plot(losses_1+losses_2)"
   ]
  },
  {
   "cell_type": "code",
   "execution_count": 381,
   "id": "0a4a11bb",
   "metadata": {},
   "outputs": [
    {
     "data": {
      "text/plain": [
       "[<matplotlib.lines.Line2D at 0x7fb1982f54f0>]"
      ]
     },
     "execution_count": 381,
     "metadata": {},
     "output_type": "execute_result"
    },
    {
     "data": {
      "image/png": "[encoded data removed]",
      "text/plain": [
       "<Figure size 432x288 with 1 Axes>"
      ]
     },
     "metadata": {
      "needs_background": "light"
     },
     "output_type": "display_data"
    }
   ],
   "source": [
    "plt.plot(losses_1+losses_2+losses_3)"
   ]
  },
  {
   "cell_type": "code",
   "execution_count": 382,
   "id": "fc1784cd",
   "metadata": {},
   "outputs": [
    {
     "data": {
      "text/plain": [
       "[<matplotlib.lines.Line2D at 0x7fb1e889b700>]"
      ]
     },
     "execution_count": 382,
     "metadata": {},
     "output_type": "execute_result"
    },
    {
     "data": {
      "image/png": "[encoded data removed]",
      "text/plain": [
       "<Figure size 432x288 with 1 Axes>"
      ]
     },
     "metadata": {
      "needs_background": "light"
     },
     "output_type": "display_data"
    }
   ],
   "source": [
    "plt.plot(losses_1+losses_2+losses_3+losses_4)"
   ]
  },
  {
   "cell_type": "markdown",
   "id": "dd0b4aec",
   "metadata": {},
   "source": [
    "## NO meta-training epoch"
   ]
  },
  {
   "cell_type": "code",
   "execution_count": 456,
   "id": "1759dc7c",
   "metadata": {},
   "outputs": [],
   "source": [
    "# Créer une instance de la classe FMAML\n",
    "maml = FMAML(FNet(), alpha, beta, k, num_metatasks, num_shots)\n",
    "\n",
    "# Entraîner l'algorithme MAML\n",
    "num_epochs = 0\n",
    "#maml.outer_loop(num_epochs)"
   ]
  },
  {
   "cell_type": "code",
   "execution_count": 457,
   "id": "21eed171",
   "metadata": {},
   "outputs": [],
   "source": [
    "bandit = Bandit()\n",
    "task_test = BanditTask(bandit)\n",
    "\n",
    "x,y = [], []\n",
    "for i in range(nb_arms):\n",
    "    x.append(i)\n",
    "    y.append(bandit.step(i))\n",
    "x, y = torch.Tensor(x).unsqueeze(1), torch.Tensor(y)"
   ]
  },
  {
   "cell_type": "code",
   "execution_count": 458,
   "id": "49a48979",
   "metadata": {},
   "outputs": [
    {
     "name": "stdout",
     "output_type": "stream",
     "text": [
      "Real output: tensor([ 2.8877, 22.5018, 21.4048]) \n",
      " prediction: tensor([[ 2.6870],\n",
      "        [22.1156],\n",
      "        [20.7873]], grad_fn=<AbsBackward>) \n",
      "prediction after one training step: tensor([[ 2.6620],\n",
      "        [22.0816],\n",
      "        [20.7418]], grad_fn=<AbsBackward>) \n",
      "prediction after 100 training step: tensor([[ 3.5605],\n",
      "        [12.2285],\n",
      "        [ 6.1108]], grad_fn=<AbsBackward>) \n",
      "prediction after 200 training step: tensor([[4.5881],\n",
      "        [6.6716],\n",
      "        [2.6361]], grad_fn=<AbsBackward>) \n",
      "prediction after 300 training step: tensor([[2.6593],\n",
      "        [6.1642],\n",
      "        [3.1563]], grad_fn=<AbsBackward>) \n",
      "prediction after 400 training step: tensor([[1.6408],\n",
      "        [5.5078],\n",
      "        [3.1525]], grad_fn=<AbsBackward>) \n"
     ]
    }
   ],
   "source": [
    "print(\"Real output: {} \\n prediction: {} \".format(y, maml.output(x,y)))\n",
    "maml.training(x,y)\n",
    "print(\"prediction after one training step: {} \".format(maml.output(x,y)))\n",
    "\n",
    "losses_1 = []\n",
    "for i in range(100):\n",
    "    losses_1.append(maml.training(x, y))\n",
    "\n",
    "print(\"prediction after 100 training step: {} \".format(maml.output(x,y)))\n",
    "\n",
    "losses_2 = []\n",
    "for i in range(100):\n",
    "    losses_2.append(maml.training(x, y))\n",
    "    \n",
    "print(\"prediction after 200 training step: {} \".format(maml.output(x,y)))\n",
    "\n",
    "losses_3 = []\n",
    "for i in range(100):\n",
    "    losses_3.append(maml.training(x, y))\n",
    "    \n",
    "print(\"prediction after 300 training step: {} \".format(maml.output(x,y)))\n",
    "\n",
    "losses_4 = []\n",
    "for i in range(100):\n",
    "    losses_4.append(maml.training(x, y))\n",
    "    \n",
    "print(\"prediction after 400 training step: {} \".format(maml.output(x,y)))"
   ]
  },
  {
   "cell_type": "code",
   "execution_count": 459,
   "id": "fe4f03c3",
   "metadata": {},
   "outputs": [
    {
     "name": "stdout",
     "output_type": "stream",
     "text": [
      "6.0625 5.375 3.5625\n"
     ]
    }
   ],
   "source": [
    "print(48.5/8, 43/8, 28.5/8)"
   ]
  },
  {
   "cell_type": "code",
   "execution_count": 441,
   "id": "a4074e14",
   "metadata": {},
   "outputs": [
    {
     "data": {
      "text/plain": [
       "[<matplotlib.lines.Line2D at 0x7fb1b806e9a0>]"
      ]
     },
     "execution_count": 441,
     "metadata": {},
     "output_type": "execute_result"
    },
    {
     "data": {
      "image/png": "[encoded data removed]",
      "text/plain": [
       "<Figure size 432x288 with 1 Axes>"
      ]
     },
     "metadata": {
      "needs_background": "light"
     },
     "output_type": "display_data"
    }
   ],
   "source": [
    "plt.plot(losses_1)"
   ]
  },
  {
   "cell_type": "code",
   "execution_count": 355,
   "id": "4a94d90e",
   "metadata": {},
   "outputs": [
    {
     "data": {
      "text/plain": [
       "[<matplotlib.lines.Line2D at 0x7fb1dc94b220>]"
      ]
     },
     "execution_count": 355,
     "metadata": {},
     "output_type": "execute_result"
    },
    {
     "data": {
      "image/png": "[encoded data removed]",
      "text/plain": [
       "<Figure size 432x288 with 1 Axes>"
      ]
     },
     "metadata": {
      "needs_background": "light"
     },
     "output_type": "display_data"
    }
   ],
   "source": [
    "plt.plot(losses_1+losses_2)"
   ]
  },
  {
   "cell_type": "code",
   "execution_count": 202,
   "id": "9553e467",
   "metadata": {},
   "outputs": [
    {
     "data": {
      "text/plain": [
       "[<matplotlib.lines.Line2D at 0x7fb1a813a700>]"
      ]
     },
     "execution_count": 202,
     "metadata": {},
     "output_type": "execute_result"
    },
    {
     "data": {
      "image/png": "[encoded data removed]",
      "text/plain": [
       "<Figure size 432x288 with 1 Axes>"
      ]
     },
     "metadata": {
      "needs_background": "light"
     },
     "output_type": "display_data"
    }
   ],
   "source": [
    "plt.plot(losses_1+losses_2+losses_3)"
   ]
  },
  {
   "cell_type": "code",
   "execution_count": 203,
   "id": "897cdb61",
   "metadata": {},
   "outputs": [
    {
     "data": {
      "text/plain": [
       "[<matplotlib.lines.Line2D at 0x7fb1fa333880>]"
      ]
     },
     "execution_count": 203,
     "metadata": {},
     "output_type": "execute_result"
    },
    {
     "data": {
      "image/png": "[encoded data removed]",
      "text/plain": [
       "<Figure size 432x288 with 1 Axes>"
      ]
     },
     "metadata": {
      "needs_background": "light"
     },
     "output_type": "display_data"
    }
   ],
   "source": [
    "plt.plot(losses_1+losses_2+losses_3+losses_4)"
   ]
  },
  {
   "cell_type": "markdown",
   "id": "59ab3e85",
   "metadata": {},
   "source": [
    "# To try Bayesian MAML"
   ]
  },
  {
   "cell_type": "code",
   "execution_count": null,
   "id": "48b1a526",
   "metadata": {},
   "outputs": [],
   "source": [
    "    def ML_point(self, task,k):\n",
    "        temp_weights=[w.clone() for w in self.weights]  #This is phi\n",
    "        x,y=task.sample_data(size=self.k) #sampling D\n",
    "        x=x.to(device)\n",
    "        y=y.to(device)\n",
    "        for i in range(10):\n",
    "            output=self.net.argforward(x,temp_weights) #We get f(x)\n",
    "            loss=self.criterion(output, y, torch.ones_like(y))  #nn.GaussianNLLLoss(y, output)    \n",
    "            grads=torch.autograd.grad(loss,temp_weights)  #allow_unused=True\n",
    "            temp_weights = [w-self.alpha*g for w,g in zip(temp_weights,grads)]\n",
    "        x_new, y_new = task.sample_data(size=self.m)\n",
    "        x_new.to(device)\n",
    "        y_new.to(device)\n",
    "        output = self.net.argforward(x_new,temp_weights)\n",
    "        metaloss = self.criterion(output, y_new, torch.ones_like(output))  #  -np.log(norm.pdf(y_new, loc=output))\n",
    "        return metaloss"
   ]
  }
 ],
 "metadata": {
  "kernelspec": {
   "display_name": "Python 3",
   "language": "python",
   "name": "python3"
  },
  "language_info": {
   "codemirror_mode": {
    "name": "ipython",
    "version": 3
   },
   "file_extension": ".py",
   "mimetype": "text/x-python",
   "name": "python",
   "nbconvert_exporter": "python",
   "pygments_lexer": "ipython3",
   "version": "3.8.8"
  }
 },
 "nbformat": 4,
 "nbformat_minor": 5
}

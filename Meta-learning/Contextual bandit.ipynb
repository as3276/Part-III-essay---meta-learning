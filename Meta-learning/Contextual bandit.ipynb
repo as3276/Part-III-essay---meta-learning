{
 "cells": [
  {
   "cell_type": "code",
   "execution_count": 1,
   "id": "0a95d7e5",
   "metadata": {},
   "outputs": [],
   "source": [
    "import torch\n",
    "import torch.nn as nn\n",
    "import torch.nn.functional as F\n",
    "import numpy as np\n",
    "from collections import OrderedDict\n",
    "import matplotlib.pyplot as plt\n",
    "%matplotlib inline\n",
    "import copy\n",
    "from scipy.stats import norm\n",
    "from torch import nn"
   ]
  },
  {
   "cell_type": "code",
   "execution_count": 2,
   "id": "297fb063",
   "metadata": {},
   "outputs": [],
   "source": [
    "device=torch.device(\"cuda\" if torch.cuda.is_available() else \"cpu\")"
   ]
  },
  {
   "cell_type": "code",
   "execution_count": 3,
   "id": "0865aec5",
   "metadata": {},
   "outputs": [],
   "source": [
    "import warnings\n",
    "warnings.filterwarnings('ignore')"
   ]
  },
  {
   "cell_type": "markdown",
   "id": "2c76adf2",
   "metadata": {},
   "source": [
    "# Bandit"
   ]
  },
  {
   "cell_type": "code",
   "execution_count": 79,
   "id": "02129b59",
   "metadata": {},
   "outputs": [],
   "source": [
    "nb_arms = 5\n",
    "#action = k between 0 and 4\n",
    "\n",
    "class Bandit:\n",
    "    def __init__(self, delta):\n",
    "        self.delta = delta\n",
    "\n",
    "    def step(self, x, y, action):\n",
    "        reward = bandit_reward(self.delta, x, y, action)\n",
    "        return reward\n",
    "\n",
    "class BanditTask:\n",
    "    def __init__(self, bandit):\n",
    "        self.bandit = bandit\n",
    "        \n",
    "    def sample_data(self, size):\n",
    "        rewards = []\n",
    "        actions = []\n",
    "        for i in range(size):\n",
    "            x, y = circle_points()\n",
    "            action = (np.random.choice(5))\n",
    "            reward = self.bandit.step(x, y, action)\n",
    "            rewards.append(reward)\n",
    "            actions.append([x, y, action])\n",
    "            #actions.append(action)\n",
    "        return torch.Tensor(actions), torch.Tensor(rewards)"
   ]
  },
  {
   "cell_type": "code",
   "execution_count": 80,
   "id": "8156975e",
   "metadata": {},
   "outputs": [],
   "source": [
    "bandit = Bandit(0.5)\n",
    "task = BanditTask(bandit)\n",
    "task.sample_data(4)"
   ]
  },
  {
   "cell_type": "code",
   "execution_count": null,
   "id": "bfecbeee",
   "metadata": {},
   "outputs": [],
   "source": [
    "task=BanditTask(Bandit())\n",
    "x_, y_ = task.sample_data(size=k)"
   ]
  },
  {
   "cell_type": "markdown",
   "id": "51e6914a",
   "metadata": {},
   "source": [
    "# Contextual bandits"
   ]
  },
  {
   "cell_type": "code",
   "execution_count": 26,
   "id": "841e7866",
   "metadata": {},
   "outputs": [],
   "source": [
    "def bandit_reward(delta, x, y, k):\n",
    "    r=x**2 + y**2\n",
    "    if r>1:\n",
    "        return -10**6\n",
    "    if r<=delta:\n",
    "        if k==1:\n",
    "            return np.random.normal(1.2, 0.01**2, 1).item()\n",
    "        elif k<=5:\n",
    "            return np.random.normal(1.0, 0.01**2, 1).item()\n",
    "    else:\n",
    "        if k==1:\n",
    "            return np.random.normal(1.2, 0.01**2, 1).item()\n",
    "        \n",
    "        elif x>0 and y>=0:\n",
    "            if k==2:\n",
    "                return np.random.normal(50, 0.01**2, 1).item()\n",
    "            elif k<=K:\n",
    "                return np.random.normal(1, 0.01**2, 1).item()\n",
    "        elif x>=0 and y<0:\n",
    "            if k==3:\n",
    "                return np.random.normal(50, 0.01**2, 1).item()\n",
    "            elif k<=K:\n",
    "                return np.random.normal(1, 0.01**2, 1).item()\n",
    "        elif x<0 and y<=0:\n",
    "            if k==4:\n",
    "                return np.random.normal(50, 0.01**2, 1).item()\n",
    "            elif k<=K:\n",
    "                return np.random.normal(1, 0.01**2, 1).item()\n",
    "        else:\n",
    "            if k==K:\n",
    "                return np.random.normal(50, 0.01**2, 1).item()\n",
    "            elif k<=5:\n",
    "                return np.random.normal(1, 0.01**2, 1).item()\n"
   ]
  },
  {
   "cell_type": "code",
   "execution_count": 27,
   "id": "92ac5cce",
   "metadata": {},
   "outputs": [],
   "source": [
    "def circle_points():\n",
    "    U1 = np.random.uniform(size = 1)\n",
    "    U2 = np.random.uniform(size = 1)\n",
    "    X = (np.sqrt(U2) * np.cos(2 * np.pi * U1)).item()\n",
    "    Y = (np.sqrt(U2) * np.sin(2 * np.pi * U1)).item()\n",
    "    #return X**2+Y**2\n",
    "    return np.array([X, Y])\n",
    "\n",
    "#plt.figure(figsize=(5,5))\n",
    "for i in range(1000):\n",
    "    a=circle_points()\n",
    "    #plt.scatter(a.item(0), a.item(1))"
   ]
  },
  {
   "cell_type": "code",
   "execution_count": 7,
   "id": "9c7efa66",
   "metadata": {},
   "outputs": [
    {
     "data": {
      "text/plain": [
       "49.999986677201704"
      ]
     },
     "execution_count": 7,
     "metadata": {},
     "output_type": "execute_result"
    }
   ],
   "source": [
    "bandit_reward(1, 0, 2)"
   ]
  },
  {
   "cell_type": "code",
   "execution_count": 8,
   "id": "26b6e87f",
   "metadata": {},
   "outputs": [],
   "source": [
    "class Uniform(object):\n",
    "\n",
    "    def __init__(self, K, steps):\n",
    "        self.K = K\n",
    "        self.steps = 0\n",
    "    \n",
    "    def begin(self):\n",
    "        pass\n",
    "\n",
    "    def choose(self):\n",
    "        return np.random.randint(1,self.K)\n",
    "    \n",
    "    def reward(self, r, k):\n",
    "        pass"
   ]
  },
  {
   "cell_type": "code",
   "execution_count": 10,
   "id": "af71cb8f",
   "metadata": {},
   "outputs": [],
   "source": [
    "def random_exploration(n):\n",
    "    R = []\n",
    "    for i in range(n):\n",
    "        a=circle_points()\n",
    "        x,y = a.item(0), a.item(1)\n",
    "        k = np.random.randint(1, 5)\n",
    "        R.append(bandit_reward(x, y, k))\n",
    "    return np.array(R)"
   ]
  },
  {
   "cell_type": "code",
   "execution_count": 11,
   "id": "133c9742",
   "metadata": {},
   "outputs": [
    {
     "data": {
      "text/plain": [
       "array([50.00000346,  1.00001491,  1.20015577,  1.1998359 ,  0.99994477,\n",
       "        1.0000522 ,  1.0002368 ,  1.19996502,  1.0000056 ,  1.00006471])"
      ]
     },
     "execution_count": 11,
     "metadata": {},
     "output_type": "execute_result"
    }
   ],
   "source": [
    "random_exploration(10)"
   ]
  },
  {
   "cell_type": "code",
   "execution_count": null,
   "id": "f49b68f1",
   "metadata": {},
   "outputs": [],
   "source": [
    "#Simulation\n",
    "def simulation(algorithm, steps):\n",
    "    choice, reward = np.zeros(steps), np.zeros(steps)\n",
    "    \n",
    "    for i in range(steps):\n",
    "        # On peut utiliser i comme une variable dans les algorithmes\n",
    "        a=circle_points()\n",
    "        x,y = a.item(0), a.item(1)\n",
    "        choice_i = algorithm.choose()\n",
    "\n",
    "        reward_i = bandit_reward(x, y, choice_i)\n",
    "        \n",
    "        algorithm.reward(choice_i, reward_i)  #we update the reward given to the arm in the algorithm\n",
    "        choice[i], reward[i] = choice_i, reward_i\n",
    "    \n",
    "    return reward"
   ]
  },
  {
   "cell_type": "markdown",
   "id": "236ea686",
   "metadata": {},
   "source": [
    "# MAML"
   ]
  },
  {
   "cell_type": "code",
   "execution_count": 68,
   "id": "8a979c3a",
   "metadata": {},
   "outputs": [],
   "source": [
    "class FNet(nn.Module):\n",
    "    def __init__(self):\n",
    "        super(FNet,self).__init__()\n",
    "        self.net=nn.Sequential(OrderedDict([\n",
    "            ('l1',nn.Linear(1,40)),\n",
    "            ('relu1',nn.ReLU()),\n",
    "            ('l2',nn.Linear(40,40)),\n",
    "            ('relu2',nn.ReLU()),\n",
    "            ('l3',nn.Linear(40,1))\n",
    "            ]))\n",
    "\n",
    "    def argforward(self,x,weights): \n",
    "        x=F.linear(x,weights[0],weights[1])\n",
    "        x=F.relu(x)\n",
    "        x=F.linear(x,weights[2],weights[3])           \n",
    "        x=F.relu(x)\n",
    "        x=F.linear(x,weights[4],weights[5])\n",
    "        return x"
   ]
  },
  {
   "cell_type": "code",
   "execution_count": 72,
   "id": "ceabcc09",
   "metadata": {},
   "outputs": [],
   "source": [
    "class FMAML():\n",
    "    def __init__(self,net,alpha,beta,H,num_metatasks, num_shots):\n",
    "        self.net=net\n",
    "        self.weights=list(net.parameters())\n",
    "        self.alpha=alpha\n",
    "        self.beta=beta\n",
    "        self.H=H\n",
    "        self.num_tasks_meta=num_metatasks #nombre de tâches que l'on utilise\n",
    "        self.criterion=nn.MSELoss()  #criterion just to chose\n",
    "        self.meta_optimiser=torch.optim.Adam(self.weights,self.beta)\n",
    "        self.meta_losses=[]\n",
    "        self.plot_every =10\n",
    "        self.print_every = 10\n",
    "        self.num_metatasks=num_metatasks\n",
    "        self.num_shots = num_shots\n",
    "        self.delta = 0.5\n",
    "\n",
    "    def inner_loop(self,task, k):\n",
    "        temp_weights=[w.clone() for w in self.weights]\n",
    "        \n",
    "        x, a = task.sample_data(size=self.H)\n",
    "        x=torch.tensor(x).float().view(-1,1).to(device)\n",
    "        a=torch.tensor(a).float().view(-1,1).to(device)\n",
    "        \n",
    "        output=self.net.argforward(x,a,temp_weights)\n",
    "        loss=self.criterion(output,  )/self.H\n",
    "        grads=torch.autograd.grad(loss,temp_weights)\n",
    "        temp_weights=[w-self.alpha*g for w,g in zip(temp_weights,grads)] #temporary update of weights\n",
    "        \n",
    "        x_,y_=task.sample_data(size=self.k) #sampling D'\n",
    "        x_=torch.tensor(x_).float().view(-1,1).to(device)\n",
    "        y_=torch.tensor(y_).float().view(-1,1).to(device)\n",
    "        output=self.net.argforward(x_,temp_weights)\n",
    "        metaloss=self.criterion(output,y_)/self.k\n",
    "        return metaloss, temp_weights\n",
    "    \n",
    "    def outer_loop(self,num_epochs):\n",
    "        total_loss=0\n",
    "        for epoch in range(1,num_epochs+1): #Correspond au \"While not done\"\n",
    "            metaloss_sum=0\n",
    "            for i in range(self.num_metatasks):\n",
    "                \n",
    "                task=BanditTask(Bandit(self.delta)) #.sample_data(size=self.k)\n",
    "                metaloss, temp_weights=self.inner_loop(task, self.H)\n",
    "                #metaloss, temp_weights=self.ML_point(task, self.k)\n",
    "                metaloss_sum+=metaloss\n",
    "            metagrads=torch.autograd.grad(metaloss_sum,self.weights)\n",
    "            for w,g in zip(self.weights,metagrads):\n",
    "                w.grad=g\n",
    "            self.meta_optimiser.step()\n",
    "            total_loss += metaloss_sum.item() / self.num_metatasks\n",
    "            #if epoch % self.print_every == 0:\n",
    "                #print(\"{}/{}. loss: {}\".format(epoch, num_epochs, total_loss / self.plot_every))\n",
    "            if epoch % self.plot_every == 0:\n",
    "                self.meta_losses.append(total_loss / self.plot_every)\n",
    "                total_loss = 0\n",
    "                \n",
    "    def plot_losses(self):\n",
    "        plt.plot(self.meta_losses)\n",
    "        plt.xlabel('Meta-Iteration')\n",
    "        plt.ylabel('Meta-Loss')\n",
    "        plt.title('Meta-Training Loss')\n",
    "        plt.show()"
   ]
  },
  {
   "cell_type": "code",
   "execution_count": 83,
   "id": "188ad38c",
   "metadata": {},
   "outputs": [
    {
     "data": {
      "text/plain": [
       "(tensor([[ 0.7091,  0.1026,  0.0000],\n",
       "         [ 0.7473, -0.5114,  1.0000],\n",
       "         [-0.4396, -0.0795,  3.0000],\n",
       "         [ 0.2721, -0.9573,  1.0000]]),\n",
       " tensor([1.0000, 1.2000, 0.9999, 1.2001]))"
      ]
     },
     "execution_count": 83,
     "metadata": {},
     "output_type": "execute_result"
    }
   ],
   "source": [
    "bandit = Bandit(0.5)\n",
    "task = BanditTask(bandit)\n",
    "task.sample_data(4)"
   ]
  },
  {
   "cell_type": "markdown",
   "id": "a23889ba",
   "metadata": {},
   "source": [
    "# Parameters for training"
   ]
  },
  {
   "cell_type": "code",
   "execution_count": 73,
   "id": "2d1890f9",
   "metadata": {},
   "outputs": [],
   "source": [
    "# Définir les paramètres de l'algorithme MAML\n",
    "alpha = 0.01\n",
    "beta = 0.001\n",
    "num_tasks = 20\n",
    "k = 10\n",
    "num_metatasks = 10\n",
    "num_shots = 10\n",
    "\n",
    "# Créer les tâches\n",
    "#task = BanditTask(Bandit())\n",
    "#task_test = BanditTask(Bandit())#.sample_data(3)"
   ]
  },
  {
   "cell_type": "markdown",
   "id": "b1ee8d4f",
   "metadata": {},
   "source": [
    "# Fixed variance"
   ]
  },
  {
   "cell_type": "markdown",
   "id": "80e976c2",
   "metadata": {},
   "source": [
    "Excellent performances with a 0.01 variance."
   ]
  },
  {
   "cell_type": "markdown",
   "id": "5950009e",
   "metadata": {},
   "source": [
    "MAML with variance 0.00001 behaves during the meta-training as the training only of MAML without meta-training and variance 0.01."
   ]
  },
  {
   "cell_type": "markdown",
   "id": "a2441b25",
   "metadata": {},
   "source": [
    "## 1000 meta-training epochs"
   ]
  },
  {
   "cell_type": "code",
   "execution_count": 74,
   "id": "3122244e",
   "metadata": {},
   "outputs": [
    {
     "ename": "RuntimeError",
     "evalue": "The size of tensor a (30) must match the size of tensor b (10) at non-singleton dimension 0",
     "output_type": "error",
     "traceback": [
      "\u001b[0;31m---------------------------------------------------------------------------\u001b[0m",
      "\u001b[0;31mRuntimeError\u001b[0m                              Traceback (most recent call last)",
      "\u001b[0;32m<ipython-input-74-86e434827e43>\u001b[0m in \u001b[0;36m<module>\u001b[0;34m\u001b[0m\n\u001b[1;32m      4\u001b[0m \u001b[0;31m# Entraîner l'algorithme MAML\u001b[0m\u001b[0;34m\u001b[0m\u001b[0;34m\u001b[0m\u001b[0;34m\u001b[0m\u001b[0m\n\u001b[1;32m      5\u001b[0m \u001b[0mnum_epochs\u001b[0m \u001b[0;34m=\u001b[0m \u001b[0;36m10000\u001b[0m\u001b[0;34m\u001b[0m\u001b[0;34m\u001b[0m\u001b[0m\n\u001b[0;32m----> 6\u001b[0;31m \u001b[0mmaml\u001b[0m\u001b[0;34m.\u001b[0m\u001b[0mouter_loop\u001b[0m\u001b[0;34m(\u001b[0m\u001b[0mnum_epochs\u001b[0m\u001b[0;34m)\u001b[0m\u001b[0;34m\u001b[0m\u001b[0;34m\u001b[0m\u001b[0m\n\u001b[0m",
      "\u001b[0;32m<ipython-input-72-375ed90e80c0>\u001b[0m in \u001b[0;36mouter_loop\u001b[0;34m(self, num_epochs)\u001b[0m\n\u001b[1;32m     43\u001b[0m                 \u001b[0mdelta\u001b[0m \u001b[0;34m=\u001b[0m \u001b[0mnp\u001b[0m\u001b[0;34m.\u001b[0m\u001b[0mrandom\u001b[0m\u001b[0;34m.\u001b[0m\u001b[0mrand\u001b[0m\u001b[0;34m(\u001b[0m\u001b[0;34m)\u001b[0m\u001b[0;34m\u001b[0m\u001b[0;34m\u001b[0m\u001b[0m\n\u001b[1;32m     44\u001b[0m                 \u001b[0mtask\u001b[0m\u001b[0;34m=\u001b[0m\u001b[0mBanditTask\u001b[0m\u001b[0;34m(\u001b[0m\u001b[0mBandit\u001b[0m\u001b[0;34m(\u001b[0m\u001b[0mdelta\u001b[0m\u001b[0;34m)\u001b[0m\u001b[0;34m)\u001b[0m \u001b[0;31m#.sample_data(size=self.k)\u001b[0m\u001b[0;34m\u001b[0m\u001b[0;34m\u001b[0m\u001b[0m\n\u001b[0;32m---> 45\u001b[0;31m                 \u001b[0mmetaloss\u001b[0m\u001b[0;34m,\u001b[0m \u001b[0mtemp_weights\u001b[0m\u001b[0;34m=\u001b[0m\u001b[0mself\u001b[0m\u001b[0;34m.\u001b[0m\u001b[0minner_loop\u001b[0m\u001b[0;34m(\u001b[0m\u001b[0mtask\u001b[0m\u001b[0;34m,\u001b[0m \u001b[0mself\u001b[0m\u001b[0;34m.\u001b[0m\u001b[0mk\u001b[0m\u001b[0;34m)\u001b[0m\u001b[0;34m\u001b[0m\u001b[0;34m\u001b[0m\u001b[0m\n\u001b[0m\u001b[1;32m     46\u001b[0m                 \u001b[0;31m#metaloss, temp_weights=self.ML_point(task, self.k)\u001b[0m\u001b[0;34m\u001b[0m\u001b[0;34m\u001b[0m\u001b[0;34m\u001b[0m\u001b[0m\n\u001b[1;32m     47\u001b[0m                 \u001b[0mmetaloss_sum\u001b[0m\u001b[0;34m+=\u001b[0m\u001b[0mmetaloss\u001b[0m\u001b[0;34m\u001b[0m\u001b[0;34m\u001b[0m\u001b[0m\n",
      "\u001b[0;32m<ipython-input-72-375ed90e80c0>\u001b[0m in \u001b[0;36minner_loop\u001b[0;34m(self, task, k)\u001b[0m\n\u001b[1;32m     25\u001b[0m \u001b[0;34m\u001b[0m\u001b[0m\n\u001b[1;32m     26\u001b[0m         \u001b[0moutput\u001b[0m\u001b[0;34m=\u001b[0m\u001b[0mself\u001b[0m\u001b[0;34m.\u001b[0m\u001b[0mnet\u001b[0m\u001b[0;34m.\u001b[0m\u001b[0margforward\u001b[0m\u001b[0;34m(\u001b[0m\u001b[0mx_\u001b[0m\u001b[0;34m,\u001b[0m\u001b[0mtemp_weights\u001b[0m\u001b[0;34m)\u001b[0m\u001b[0;34m\u001b[0m\u001b[0;34m\u001b[0m\u001b[0m\n\u001b[0;32m---> 27\u001b[0;31m         \u001b[0mloss\u001b[0m\u001b[0;34m=\u001b[0m\u001b[0mself\u001b[0m\u001b[0;34m.\u001b[0m\u001b[0mcriterion\u001b[0m\u001b[0;34m(\u001b[0m\u001b[0moutput\u001b[0m\u001b[0;34m,\u001b[0m\u001b[0my_\u001b[0m\u001b[0;34m)\u001b[0m\u001b[0;34m/\u001b[0m\u001b[0mself\u001b[0m\u001b[0;34m.\u001b[0m\u001b[0mk\u001b[0m\u001b[0;34m\u001b[0m\u001b[0;34m\u001b[0m\u001b[0m\n\u001b[0m\u001b[1;32m     28\u001b[0m         \u001b[0mgrads\u001b[0m\u001b[0;34m=\u001b[0m\u001b[0mtorch\u001b[0m\u001b[0;34m.\u001b[0m\u001b[0mautograd\u001b[0m\u001b[0;34m.\u001b[0m\u001b[0mgrad\u001b[0m\u001b[0;34m(\u001b[0m\u001b[0mloss\u001b[0m\u001b[0;34m,\u001b[0m\u001b[0mtemp_weights\u001b[0m\u001b[0;34m)\u001b[0m\u001b[0;34m\u001b[0m\u001b[0;34m\u001b[0m\u001b[0m\n\u001b[1;32m     29\u001b[0m         \u001b[0mtemp_weights\u001b[0m\u001b[0;34m=\u001b[0m\u001b[0;34m[\u001b[0m\u001b[0mw\u001b[0m\u001b[0;34m-\u001b[0m\u001b[0mself\u001b[0m\u001b[0;34m.\u001b[0m\u001b[0malpha\u001b[0m\u001b[0;34m*\u001b[0m\u001b[0mg\u001b[0m \u001b[0;32mfor\u001b[0m \u001b[0mw\u001b[0m\u001b[0;34m,\u001b[0m\u001b[0mg\u001b[0m \u001b[0;32min\u001b[0m \u001b[0mzip\u001b[0m\u001b[0;34m(\u001b[0m\u001b[0mtemp_weights\u001b[0m\u001b[0;34m,\u001b[0m\u001b[0mgrads\u001b[0m\u001b[0;34m)\u001b[0m\u001b[0;34m]\u001b[0m \u001b[0;31m#temporary update of weights\u001b[0m\u001b[0;34m\u001b[0m\u001b[0;34m\u001b[0m\u001b[0m\n",
      "\u001b[0;32m/opt/anaconda3/lib/python3.8/site-packages/torch/nn/modules/module.py\u001b[0m in \u001b[0;36m_call_impl\u001b[0;34m(self, *args, **kwargs)\u001b[0m\n\u001b[1;32m   1499\u001b[0m                 \u001b[0;32mor\u001b[0m \u001b[0m_global_backward_pre_hooks\u001b[0m \u001b[0;32mor\u001b[0m \u001b[0m_global_backward_hooks\u001b[0m\u001b[0;34m\u001b[0m\u001b[0;34m\u001b[0m\u001b[0m\n\u001b[1;32m   1500\u001b[0m                 or _global_forward_hooks or _global_forward_pre_hooks):\n\u001b[0;32m-> 1501\u001b[0;31m             \u001b[0;32mreturn\u001b[0m \u001b[0mforward_call\u001b[0m\u001b[0;34m(\u001b[0m\u001b[0;34m*\u001b[0m\u001b[0margs\u001b[0m\u001b[0;34m,\u001b[0m \u001b[0;34m**\u001b[0m\u001b[0mkwargs\u001b[0m\u001b[0;34m)\u001b[0m\u001b[0;34m\u001b[0m\u001b[0;34m\u001b[0m\u001b[0m\n\u001b[0m\u001b[1;32m   1502\u001b[0m         \u001b[0;31m# Do not call functions when jit is used\u001b[0m\u001b[0;34m\u001b[0m\u001b[0;34m\u001b[0m\u001b[0;34m\u001b[0m\u001b[0m\n\u001b[1;32m   1503\u001b[0m         \u001b[0mfull_backward_hooks\u001b[0m\u001b[0;34m,\u001b[0m \u001b[0mnon_full_backward_hooks\u001b[0m \u001b[0;34m=\u001b[0m \u001b[0;34m[\u001b[0m\u001b[0;34m]\u001b[0m\u001b[0;34m,\u001b[0m \u001b[0;34m[\u001b[0m\u001b[0;34m]\u001b[0m\u001b[0;34m\u001b[0m\u001b[0;34m\u001b[0m\u001b[0m\n",
      "\u001b[0;32m/opt/anaconda3/lib/python3.8/site-packages/torch/nn/modules/loss.py\u001b[0m in \u001b[0;36mforward\u001b[0;34m(self, input, target)\u001b[0m\n\u001b[1;32m    534\u001b[0m \u001b[0;34m\u001b[0m\u001b[0m\n\u001b[1;32m    535\u001b[0m     \u001b[0;32mdef\u001b[0m \u001b[0mforward\u001b[0m\u001b[0;34m(\u001b[0m\u001b[0mself\u001b[0m\u001b[0;34m,\u001b[0m \u001b[0minput\u001b[0m\u001b[0;34m:\u001b[0m \u001b[0mTensor\u001b[0m\u001b[0;34m,\u001b[0m \u001b[0mtarget\u001b[0m\u001b[0;34m:\u001b[0m \u001b[0mTensor\u001b[0m\u001b[0;34m)\u001b[0m \u001b[0;34m->\u001b[0m \u001b[0mTensor\u001b[0m\u001b[0;34m:\u001b[0m\u001b[0;34m\u001b[0m\u001b[0;34m\u001b[0m\u001b[0m\n\u001b[0;32m--> 536\u001b[0;31m         \u001b[0;32mreturn\u001b[0m \u001b[0mF\u001b[0m\u001b[0;34m.\u001b[0m\u001b[0mmse_loss\u001b[0m\u001b[0;34m(\u001b[0m\u001b[0minput\u001b[0m\u001b[0;34m,\u001b[0m \u001b[0mtarget\u001b[0m\u001b[0;34m,\u001b[0m \u001b[0mreduction\u001b[0m\u001b[0;34m=\u001b[0m\u001b[0mself\u001b[0m\u001b[0;34m.\u001b[0m\u001b[0mreduction\u001b[0m\u001b[0;34m)\u001b[0m\u001b[0;34m\u001b[0m\u001b[0;34m\u001b[0m\u001b[0m\n\u001b[0m\u001b[1;32m    537\u001b[0m \u001b[0;34m\u001b[0m\u001b[0m\n\u001b[1;32m    538\u001b[0m \u001b[0;34m\u001b[0m\u001b[0m\n",
      "\u001b[0;32m/opt/anaconda3/lib/python3.8/site-packages/torch/nn/functional.py\u001b[0m in \u001b[0;36mmse_loss\u001b[0;34m(input, target, size_average, reduce, reduction)\u001b[0m\n\u001b[1;32m   3292\u001b[0m         \u001b[0mreduction\u001b[0m \u001b[0;34m=\u001b[0m \u001b[0m_Reduction\u001b[0m\u001b[0;34m.\u001b[0m\u001b[0mlegacy_get_string\u001b[0m\u001b[0;34m(\u001b[0m\u001b[0msize_average\u001b[0m\u001b[0;34m,\u001b[0m \u001b[0mreduce\u001b[0m\u001b[0;34m)\u001b[0m\u001b[0;34m\u001b[0m\u001b[0;34m\u001b[0m\u001b[0m\n\u001b[1;32m   3293\u001b[0m \u001b[0;34m\u001b[0m\u001b[0m\n\u001b[0;32m-> 3294\u001b[0;31m     \u001b[0mexpanded_input\u001b[0m\u001b[0;34m,\u001b[0m \u001b[0mexpanded_target\u001b[0m \u001b[0;34m=\u001b[0m \u001b[0mtorch\u001b[0m\u001b[0;34m.\u001b[0m\u001b[0mbroadcast_tensors\u001b[0m\u001b[0;34m(\u001b[0m\u001b[0minput\u001b[0m\u001b[0;34m,\u001b[0m \u001b[0mtarget\u001b[0m\u001b[0;34m)\u001b[0m\u001b[0;34m\u001b[0m\u001b[0;34m\u001b[0m\u001b[0m\n\u001b[0m\u001b[1;32m   3295\u001b[0m     \u001b[0;32mreturn\u001b[0m \u001b[0mtorch\u001b[0m\u001b[0;34m.\u001b[0m\u001b[0m_C\u001b[0m\u001b[0;34m.\u001b[0m\u001b[0m_nn\u001b[0m\u001b[0;34m.\u001b[0m\u001b[0mmse_loss\u001b[0m\u001b[0;34m(\u001b[0m\u001b[0mexpanded_input\u001b[0m\u001b[0;34m,\u001b[0m \u001b[0mexpanded_target\u001b[0m\u001b[0;34m,\u001b[0m \u001b[0m_Reduction\u001b[0m\u001b[0;34m.\u001b[0m\u001b[0mget_enum\u001b[0m\u001b[0;34m(\u001b[0m\u001b[0mreduction\u001b[0m\u001b[0;34m)\u001b[0m\u001b[0;34m)\u001b[0m\u001b[0;34m\u001b[0m\u001b[0;34m\u001b[0m\u001b[0m\n\u001b[1;32m   3296\u001b[0m \u001b[0;34m\u001b[0m\u001b[0m\n",
      "\u001b[0;32m/opt/anaconda3/lib/python3.8/site-packages/torch/functional.py\u001b[0m in \u001b[0;36mbroadcast_tensors\u001b[0;34m(*tensors)\u001b[0m\n\u001b[1;32m     72\u001b[0m     \u001b[0;32mif\u001b[0m \u001b[0mhas_torch_function\u001b[0m\u001b[0;34m(\u001b[0m\u001b[0mtensors\u001b[0m\u001b[0;34m)\u001b[0m\u001b[0;34m:\u001b[0m\u001b[0;34m\u001b[0m\u001b[0;34m\u001b[0m\u001b[0m\n\u001b[1;32m     73\u001b[0m         \u001b[0;32mreturn\u001b[0m \u001b[0mhandle_torch_function\u001b[0m\u001b[0;34m(\u001b[0m\u001b[0mbroadcast_tensors\u001b[0m\u001b[0;34m,\u001b[0m \u001b[0mtensors\u001b[0m\u001b[0;34m,\u001b[0m \u001b[0;34m*\u001b[0m\u001b[0mtensors\u001b[0m\u001b[0;34m)\u001b[0m\u001b[0;34m\u001b[0m\u001b[0;34m\u001b[0m\u001b[0m\n\u001b[0;32m---> 74\u001b[0;31m     \u001b[0;32mreturn\u001b[0m \u001b[0m_VF\u001b[0m\u001b[0;34m.\u001b[0m\u001b[0mbroadcast_tensors\u001b[0m\u001b[0;34m(\u001b[0m\u001b[0mtensors\u001b[0m\u001b[0;34m)\u001b[0m  \u001b[0;31m# type: ignore[attr-defined]\u001b[0m\u001b[0;34m\u001b[0m\u001b[0;34m\u001b[0m\u001b[0m\n\u001b[0m\u001b[1;32m     75\u001b[0m \u001b[0;34m\u001b[0m\u001b[0m\n\u001b[1;32m     76\u001b[0m \u001b[0;34m\u001b[0m\u001b[0m\n",
      "\u001b[0;31mRuntimeError\u001b[0m: The size of tensor a (30) must match the size of tensor b (10) at non-singleton dimension 0"
     ]
    }
   ],
   "source": [
    "# Créer une instance de la classe FMAML\n",
    "maml = FMAML(FNet(), alpha, beta, k, num_metatasks, num_shots)\n",
    "\n",
    "# Entraîner l'algorithme MAML\n",
    "num_epochs = 10000\n",
    "maml.outer_loop(num_epochs)"
   ]
  },
  {
   "cell_type": "code",
   "execution_count": null,
   "id": "32710488",
   "metadata": {},
   "outputs": [],
   "source": [
    "maml.plot_losses()"
   ]
  },
  {
   "cell_type": "code",
   "execution_count": null,
   "id": "b5bae085",
   "metadata": {},
   "outputs": [],
   "source": [
    "bandit = Bandit()\n",
    "task_test = BanditTask(bandit)\n",
    "\n",
    "x,y = [], []\n",
    "for i in range(nb_arms):\n",
    "    x.append(i)\n",
    "    y.append(bandit.step(i))\n",
    "x, y = torch.Tensor(x).unsqueeze(1), torch.Tensor(y)"
   ]
  },
  {
   "cell_type": "code",
   "execution_count": 232,
   "id": "1fd19d4f",
   "metadata": {},
   "outputs": [
    {
     "name": "stdout",
     "output_type": "stream",
     "text": [
      "Real output: tensor([11.1171, -0.3937, 11.4129]) \n",
      " prediction: tensor([[6.4834],\n",
      "        [3.4910],\n",
      "        [6.5842]], grad_fn=<AddmmBackward>) \n",
      "prediction after one training step: tensor([[6.5041],\n",
      "        [3.5015],\n",
      "        [6.5644]], grad_fn=<AddmmBackward>) \n",
      "prediction after 120 training step: tensor([[10.5630],\n",
      "        [ 0.1628],\n",
      "        [10.0102]], grad_fn=<AddmmBackward>) \n",
      "prediction after 150 training step: tensor([[10.8457],\n",
      "        [-0.0382],\n",
      "        [10.5133]], grad_fn=<AddmmBackward>) \n"
     ]
    }
   ],
   "source": [
    "print(\"Real output: {} \\n prediction: {} \".format(y, maml.output(x)))\n",
    "maml.training(x,y)\n",
    "print(\"prediction after one training step: {} \".format(maml.output(x)))\n",
    "\n",
    "losses_1 = []\n",
    "for i in range(100):\n",
    "    losses_1.append(maml.training(x, y))\n",
    "\n",
    "print(\"prediction after 100 training step: {} \".format(maml.output(x)))\n",
    "\n",
    "losses_2 = []\n",
    "for i in range(100):\n",
    "    losses_2.append(maml.training(x, y))\n",
    "    \n",
    "print(\"prediction after 200 training step: {} \".format(maml.output(x)))"
   ]
  },
  {
   "cell_type": "code",
   "execution_count": 233,
   "id": "fb4c1fd7",
   "metadata": {},
   "outputs": [
    {
     "data": {
      "text/plain": [
       "[<matplotlib.lines.Line2D at 0x7fb1fa407fa0>]"
      ]
     },
     "execution_count": 233,
     "metadata": {},
     "output_type": "execute_result"
    },
    {
     "data": {
      "image/png": "[encoded data removed]",
      "text/plain": [
       "<Figure size 432x288 with 1 Axes>"
      ]
     },
     "metadata": {
      "needs_background": "light"
     },
     "output_type": "display_data"
    }
   ],
   "source": [
    "plt.plot(losses_1+losses_2)"
   ]
  },
  {
   "cell_type": "markdown",
   "id": "10244449",
   "metadata": {},
   "source": [
    "## 1 Meta-training epoch"
   ]
  },
  {
   "cell_type": "markdown",
   "id": "3137e602",
   "metadata": {},
   "source": [
    "Funny curve with 0.01 variance for the rewards and 1000 training iterations."
   ]
  },
  {
   "cell_type": "code",
   "execution_count": 103,
   "id": "31d7b38c",
   "metadata": {},
   "outputs": [],
   "source": [
    "# Créer une instance de la classe FMAML\n",
    "maml = FMAML(FNet(), alpha, beta, k, num_metatasks, num_shots)\n",
    "\n",
    "# Entraîner l'algorithme MAML\n",
    "num_epochs = 0\n",
    "#maml.outer_loop(num_epochs)"
   ]
  },
  {
   "cell_type": "code",
   "execution_count": 104,
   "id": "6ef6aa4d",
   "metadata": {},
   "outputs": [],
   "source": [
    "bandit = Bandit()\n",
    "task_test = BanditTask(bandit)\n",
    "\n",
    "x,y = [], []\n",
    "for i in range(nb_arms):\n",
    "    x.append(i)\n",
    "    y.append(bandit.step(i))\n",
    "x, y = torch.Tensor(x).unsqueeze(1), torch.Tensor(y)"
   ]
  },
  {
   "cell_type": "code",
   "execution_count": 105,
   "id": "eecb4d7a",
   "metadata": {},
   "outputs": [
    {
     "name": "stdout",
     "output_type": "stream",
     "text": [
      "Real output: tensor([ 0.9285,  8.4799, -1.9825]) \n",
      " prediction: tensor([[0.2095],\n",
      "        [0.2548],\n",
      "        [0.2780]], grad_fn=<AddmmBackward>) \n",
      "prediction after one training step: tensor([[0.2381],\n",
      "        [0.2986],\n",
      "        [0.3297]], grad_fn=<AddmmBackward>) \n",
      "prediction after 120 training step: tensor([[3.0508],\n",
      "        [3.5796],\n",
      "        [0.5687]], grad_fn=<AddmmBackward>) \n",
      "prediction after 150 training step: tensor([[ 3.4957],\n",
      "        [ 4.4096],\n",
      "        [-0.1813]], grad_fn=<AddmmBackward>) \n"
     ]
    }
   ],
   "source": [
    "print(\"Real output: {} \\n prediction: {} \".format(y, maml.output(x)))\n",
    "maml.training(x,y)\n",
    "print(\"prediction after one training step: {} \".format(maml.output(x)))\n",
    "\n",
    "losses_1 = []\n",
    "for i in range(120):\n",
    "    losses_1.append(maml.training(x, y))\n",
    "\n",
    "print(\"prediction after 120 training step: {} \".format(maml.output(x)))\n",
    "\n",
    "losses_2 = []\n",
    "for i in range(30):\n",
    "    losses_2.append(maml.training(x, y))\n",
    "    \n",
    "print(\"prediction after 150 training step: {} \".format(maml.output(x)))"
   ]
  }
 ],
 "metadata": {
  "kernelspec": {
   "display_name": "Python 3",
   "language": "python",
   "name": "python3"
  },
  "language_info": {
   "codemirror_mode": {
    "name": "ipython",
    "version": 3
   },
   "file_extension": ".py",
   "mimetype": "text/x-python",
   "name": "python",
   "nbconvert_exporter": "python",
   "pygments_lexer": "ipython3",
   "version": "3.8.8"
  }
 },
 "nbformat": 4,
 "nbformat_minor": 5
}

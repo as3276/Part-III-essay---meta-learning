{
 "cells": [
  {
   "cell_type": "code",
   "execution_count": 1,
   "id": "1c94f9a2",
   "metadata": {},
   "outputs": [],
   "source": [
    "import torch\n",
    "import torch.nn as nn\n",
    "import torch.nn.functional as F\n",
    "import numpy as np\n",
    "from collections import OrderedDict\n",
    "import matplotlib.pyplot as plt\n",
    "%matplotlib inline\n",
    "import copy"
   ]
  },
  {
   "cell_type": "code",
   "execution_count": 2,
   "id": "335d1e7f",
   "metadata": {},
   "outputs": [
    {
     "name": "stdout",
     "output_type": "stream",
     "text": [
      "2\n"
     ]
    }
   ],
   "source": [
    "print(2)"
   ]
  },
  {
   "cell_type": "code",
   "execution_count": 3,
   "id": "099e7560",
   "metadata": {},
   "outputs": [],
   "source": [
    "delta = 0.5\n",
    "K = 5  #number of arms\n",
    "\n",
    "def bandit_reward(x, y, k):\n",
    "    r=x**2 + y**2\n",
    "    if r>1:\n",
    "        return -10**6\n",
    "    if r<=delta:\n",
    "        if k==1:\n",
    "            return np.random.normal(1.2, 0.01**2, 1).item()\n",
    "        elif k<=5:\n",
    "            return np.random.normal(1.2, 0.01**2, 1).item()\n",
    "    else:\n",
    "        if k==1:\n",
    "            return np.random.normal(1.2, 0.01**2, 1).item()\n",
    "        \n",
    "        elif x>0 and y>=0:\n",
    "            if k==2:\n",
    "                return np.random.normal(50, 0.01**2, 1).item()\n",
    "            elif k<=K:\n",
    "                return np.random.normal(1, 0.01**2, 1).item()\n",
    "        elif x>=0 and y<0:\n",
    "            if k==3:\n",
    "                return np.random.normal(50, 0.01**2, 1).item()\n",
    "            elif k<=K:\n",
    "                return np.random.normal(1, 0.01**2, 1).item()\n",
    "        elif x<0 and y<=0:\n",
    "            if k==4:\n",
    "                return np.random.normal(50, 0.01**2, 1).item()\n",
    "            elif k<=K:\n",
    "                return np.random.normal(1, 0.01**2, 1).item()\n",
    "        else:\n",
    "            if k==K:\n",
    "                return np.random.normal(50, 0.01**2, 1).item()\n",
    "            elif k<=5:\n",
    "                return np.random.normal(1, 0.01**2, 1).item()\n"
   ]
  },
  {
   "cell_type": "code",
   "execution_count": 4,
   "id": "a4e82608",
   "metadata": {},
   "outputs": [
    {
     "data": {
      "text/plain": [
       "'\\nplt.figure(figsize=(5,5))\\nfor i in range(1000):\\n    a=circle_points()\\n    plt.scatter(a.item(0), a.item(1))\\n'"
      ]
     },
     "execution_count": 4,
     "metadata": {},
     "output_type": "execute_result"
    }
   ],
   "source": [
    "def circle_points():\n",
    "    U1 = np.random.uniform(size = 1)\n",
    "    U2 = np.random.uniform(size = 1)\n",
    "    X = (np.sqrt(U2) * np.cos(2 * np.pi * U1)).item()\n",
    "    Y = (np.sqrt(U2) * np.sin(2 * np.pi * U1)).item()\n",
    "    #return X**2+Y**2\n",
    "    return np.array([X, Y])\n",
    "\"\"\"\n",
    "plt.figure(figsize=(5,5))\n",
    "for i in range(1000):\n",
    "    a=circle_points()\n",
    "    plt.scatter(a.item(0), a.item(1))\n",
    "\"\"\""
   ]
  },
  {
   "cell_type": "code",
   "execution_count": 5,
   "id": "e8bb79c4",
   "metadata": {},
   "outputs": [
    {
     "data": {
      "text/plain": [
       "array([-0.94772019, -0.15764972])"
      ]
     },
     "execution_count": 5,
     "metadata": {},
     "output_type": "execute_result"
    }
   ],
   "source": [
    "circle_points()"
   ]
  },
  {
   "cell_type": "code",
   "execution_count": 6,
   "id": "edad025f",
   "metadata": {},
   "outputs": [],
   "source": [
    "def random_exploration(n):\n",
    "    R = []\n",
    "    for i in range(n):\n",
    "        a=circle_points()\n",
    "        x,y = a.item(0), a.item(1)\n",
    "        k = np.random.randint(1, 5)\n",
    "        R.append(bandit_reward(x, y, k))\n",
    "    return np.array(R)"
   ]
  },
  {
   "cell_type": "code",
   "execution_count": 7,
   "id": "43f47d3a",
   "metadata": {},
   "outputs": [
    {
     "data": {
      "text/plain": [
       "<matplotlib.collections.PathCollection at 0x7fb9b97907c0>"
      ]
     },
     "execution_count": 7,
     "metadata": {},
     "output_type": "execute_result"
    },
    {
     "data": {
      "image/png": "[encoded data removed]",
      "text/plain": [
       "<Figure size 432x288 with 1 Axes>"
      ]
     },
     "metadata": {
      "needs_background": "light"
     },
     "output_type": "display_data"
    }
   ],
   "source": [
    "cumulated_reward = random_exploration(100)\n",
    "plt.scatter(np.array([i for i in range(100)]),cumulated_reward)"
   ]
  },
  {
   "cell_type": "markdown",
   "id": "89a54824",
   "metadata": {},
   "source": [
    "Nos algorithmes ont à choisir parmi K bras et donnent des récompenses aux bras au fur et à mesure."
   ]
  },
  {
   "cell_type": "code",
   "execution_count": 8,
   "id": "7afd734b",
   "metadata": {},
   "outputs": [],
   "source": [
    "class Uniform(object):\n",
    "\n",
    "    def __init__(self, K, steps):\n",
    "        self.K = K\n",
    "        self.steps = 0\n",
    "    \n",
    "    def begin(self):\n",
    "        pass\n",
    "\n",
    "    def choose(self):\n",
    "        return np.random.randint(1,self.K)\n",
    "    \n",
    "    def reward(self, r, k):\n",
    "        pass"
   ]
  },
  {
   "cell_type": "code",
   "execution_count": 9,
   "id": "c5237578",
   "metadata": {},
   "outputs": [],
   "source": [
    "class MoyenneEmpirique(object):\n",
    "    \"\"\"Algorithme naïf, qui utilise la moyenne empirique.\"\"\"\n",
    "    \n",
    "    def __init__(self, K, steps):\n",
    "        \"\"\"Crée l'instance de l'algorithme.\"\"\"\n",
    "        self.K = K\n",
    "        # Il nous faut de la mémoire interne\n",
    "        self.recompenses = np.zeros(K)  # X_k(t) pour chaque k\n",
    "        self.tirages = np.zeros(K)      # N_k(t) pour chaque k\n",
    "        self.t = 0                      # Temps t interne\n",
    "        self.steps = 0\n",
    "    \n",
    "    def begin(self):\n",
    "        \"\"\"Initialise l'algorithme : remet à zeros chaque X_k et N_k, et t = 0.\"\"\"\n",
    "        self.recompenses.fill(0)\n",
    "        self.tirages.fill(0)\n",
    "        self.t = 0\n",
    "    \n",
    "    def choose(self):\n",
    "        \"\"\"Si on a vu tous les bras, on prend celui de moyenne empirique la plus grande.\"\"\"\n",
    "        # 1er cas : il y a encore des bras qu'on a jamais vu\n",
    "        if np.min(self.tirages) == 0:\n",
    "            k = np.min(np.where(self.tirages == 0)[0])\n",
    "        # 2nd cas : tous les bras ont été essayé\n",
    "        else:\n",
    "            # Notez qu'on aurait pu ne stocker que ce vecteur moyennes_empiriques\n",
    "            moyennes_empiriques = self.recompenses / self.tirages\n",
    "            k = np.argmax(moyennes_empiriques)\n",
    "        self.t += 1      # Inutile ici\n",
    "        return k\n",
    "        \n",
    "    def reward(self, k, r):\n",
    "        \"\"\"Donne une récompense r tirée sur le bras k à l'algorithme : met à jour les deux vecteurs internes.\"\"\"\n",
    "        self.recompenses[k] += r\n",
    "        self.tirages[k] += 1"
   ]
  },
  {
   "cell_type": "code",
   "execution_count": 10,
   "id": "720f46c2",
   "metadata": {},
   "outputs": [],
   "source": [
    "def simulation(algorithm, steps):\n",
    "    choice, reward = np.zeros(steps), np.zeros(steps)\n",
    "    algorithm.begin()  #we initialize the algorithm\n",
    "    for i in range(steps):\n",
    "        # On peut utiliser i comme une variable dans les algorithmes\n",
    "        a=circle_points()\n",
    "        x,y = a.item(0), a.item(1)\n",
    "        choice_i = algorithm.choose()\n",
    "\n",
    "        reward_i = bandit_reward(x, y, choice_i)\n",
    "        \n",
    "        algorithm.reward(choice_i, reward_i)  #we update the reward given to the arm in the algorithm\n",
    "        choice[i], reward[i] = choice_i, reward_i\n",
    "    \n",
    "    return reward\n",
    "\n",
    "\n",
    "def simulation_moyenne(algorithm, steps):\n",
    "    choice, reward, reward_cum = np.zeros(steps), np.zeros(steps), 0\n",
    "    algorithm.begin()  #we initialize the algorithm\n",
    "    \n",
    "    for i in range(steps):\n",
    "        \n",
    "        a=circle_points()\n",
    "        x,y = a.item(0), a.item(1)\n",
    "        choice_i = algorithm.choose()\n",
    "\n",
    "        reward_i = bandit_reward(x, y, choice_i)\n",
    "        reward_cum += reward_i\n",
    "        \n",
    "        algorithm.reward(choice_i, reward_i)  #we update the reward given to the arm in the algorithm\n",
    "        choice[i], reward[i] = choice_i, reward_cum/(i+1)\n",
    "    \n",
    "    return reward\n",
    "\n",
    "def simulation_multiple(n, algorithm, steps):\n",
    "    reward = np.zeros(steps)\n",
    "    for i in range(n):\n",
    "        a = simulation_moyenne(algorithm, steps)\n",
    "        reward += a\n",
    "    return reward"
   ]
  },
  {
   "cell_type": "code",
   "execution_count": 21,
   "id": "d329f241",
   "metadata": {},
   "outputs": [],
   "source": [
    "class UCBH(MoyenneEmpirique):\n",
    "    \"\"\"Algorithme UCBH.\"\"\"\n",
    "    \n",
    "    def __init__(self, K, horizon, alpha=1):\n",
    "        \"\"\"Crée l'instance de l'algorithme. Par défaut, alpha=1.\"\"\"\n",
    "        super(UCBH, self).__init__(K, steps)  # On laisse la classe mère faire le travaille\n",
    "        self.horizon = int(horizon)\n",
    "        self.steps = steps\n",
    "        assert alpha >= 0, \"Erreur : alpha doit etre >= 0.\"\n",
    "        self.alpha = alpha\n",
    "    \n",
    "    def choose(self):\n",
    "        \"\"\"Si on a vu tous les bras, on prend celui d'indice moyenne empirique + UCB le plus grand.\"\"\"\n",
    "        self.t += 1      # Nécessaire ici\n",
    "        # 1er cas : il y a encore des bras qu'on a jamais vu\n",
    "        if np.min(self.tirages) == 0:\n",
    "            k = np.min(np.where(self.tirages == 0)[0])\n",
    "        # 2nd cas : tous les bras ont été essayé\n",
    "        else:\n",
    "            moyennes_empiriques = self.recompenses / self.tirages\n",
    "            ucb = np.sqrt(self.alpha * np.log(self.horizon) / self.tirages)\n",
    "            indices = moyennes_empiriques + ucb\n",
    "            k = np.argmax(indices)\n",
    "        return k"
   ]
  },
  {
   "cell_type": "code",
   "execution_count": 22,
   "id": "d12bfcf5",
   "metadata": {},
   "outputs": [
    {
     "data": {
      "text/plain": [
       "<matplotlib.legend.Legend at 0x7fb96904acd0>"
      ]
     },
     "execution_count": 22,
     "metadata": {},
     "output_type": "execute_result"
    },
    {
     "data": {
      "image/png": "[encoded data removed]",
      "text/plain": [
       "<Figure size 360x360 with 1 Axes>"
      ]
     },
     "metadata": {
      "needs_background": "light"
     },
     "output_type": "display_data"
    }
   ],
   "source": [
    "steps, K = 1000, 5\n",
    "\n",
    "plt.figure(figsize=(5,5))\n",
    "plt.plot(simulation_moyenne(UCBH(K, steps), steps), label=\"UCBH\")\n",
    "plt.plot(simulation_moyenne(Uniform(K, steps), steps), label=\"Uniform\")\n",
    "plt.plot(simulation_moyenne(MoyenneEmpirique(K, steps), steps), label=\"Empiric\")\n",
    "plt.legend()"
   ]
  },
  {
   "cell_type": "code",
   "execution_count": 25,
   "id": "911e0482",
   "metadata": {},
   "outputs": [
    {
     "data": {
      "text/plain": [
       "<matplotlib.legend.Legend at 0x7fb9c939fa30>"
      ]
     },
     "execution_count": 25,
     "metadata": {},
     "output_type": "execute_result"
    },
    {
     "data": {
      "image/png": "[encoded data removed]",
      "text/plain": [
       "<Figure size 360x360 with 1 Axes>"
      ]
     },
     "metadata": {
      "needs_background": "light"
     },
     "output_type": "display_data"
    }
   ],
   "source": [
    "steps, K = 1000, 5\n",
    "n = 100\n",
    "\n",
    "plt.figure(figsize=(5,5))\n",
    "plt.plot(simulation_multiple(n, UCBH(K, steps), steps)/n, label=\"UCBH\")\n",
    "plt.plot(simulation_multiple(n, Uniform(K, steps), steps)/n, label=\"Uniform\")\n",
    "plt.plot(simulation_multiple(n, MoyenneEmpirique(K, steps), steps)/n, label=\"Empiric\")\n",
    "plt.legend()"
   ]
  },
  {
   "cell_type": "code",
   "execution_count": null,
   "id": "ad1e7b83",
   "metadata": {},
   "outputs": [],
   "source": [
    "class Beta():\n",
    "    \"\"\"Posteriors d'expériences de Bernoulli.\"\"\"\n",
    "\n",
    "    def __init__(self):\n",
    "        self.N = [1, 1]\n",
    "\n",
    "    def reinitialise(self):\n",
    "        self.N = [1, 1]\n",
    "\n",
    "    def echantillon(self):\n",
    "        \"\"\"Un échantillon aléatoire de ce posterior Beta.\"\"\"\n",
    "        return beta(self.N[1], self.N[0])\n",
    "\n",
    "    def observe(self, obs):\n",
    "        \"\"\"Ajoute une nouvelle observation. Si 'obs'=1, augmente alpha, sinon si 'obs'=0, augmente beta.\"\"\"\n",
    "        self.N[int(obs)] += 1"
   ]
  },
  {
   "cell_type": "code",
   "execution_count": 212,
   "id": "3ed75b18",
   "metadata": {},
   "outputs": [
    {
     "ename": "TypeError",
     "evalue": "'int' object is not callable",
     "output_type": "error",
     "traceback": [
      "\u001b[0;31m---------------------------------------------------------------------------\u001b[0m",
      "\u001b[0;31mTypeError\u001b[0m                                 Traceback (most recent call last)",
      "\u001b[0;32m<ipython-input-212-d14edb44c820>\u001b[0m in \u001b[0;36m<module>\u001b[0;34m\u001b[0m\n\u001b[0;32m----> 1\u001b[0;31m \u001b[0mplt\u001b[0m\u001b[0;34m.\u001b[0m\u001b[0mplot\u001b[0m\u001b[0;34m(\u001b[0m\u001b[0msimulation\u001b[0m\u001b[0;34m(\u001b[0m\u001b[0mn\u001b[0m\u001b[0;34m,\u001b[0m \u001b[0mThompsonSampling\u001b[0m\u001b[0;34m(\u001b[0m\u001b[0mK\u001b[0m\u001b[0;34m,\u001b[0m \u001b[0msteps\u001b[0m\u001b[0;34m)\u001b[0m\u001b[0;34m,\u001b[0m \u001b[0msteps\u001b[0m\u001b[0;34m)\u001b[0m\u001b[0;34m,\u001b[0m \u001b[0mlabel\u001b[0m\u001b[0;34m=\u001b[0m\u001b[0;34m\"Thompson\"\u001b[0m\u001b[0;34m)\u001b[0m\u001b[0;34m\u001b[0m\u001b[0;34m\u001b[0m\u001b[0m\n\u001b[0m",
      "\u001b[0;32m<ipython-input-125-7eb20aa4a6ac>\u001b[0m in \u001b[0;36m__init__\u001b[0;34m(self, K, posterior)\u001b[0m\n\u001b[1;32m      6\u001b[0m         \u001b[0mself\u001b[0m\u001b[0;34m.\u001b[0m\u001b[0mK\u001b[0m \u001b[0;34m=\u001b[0m \u001b[0mK\u001b[0m\u001b[0;34m\u001b[0m\u001b[0;34m\u001b[0m\u001b[0m\n\u001b[1;32m      7\u001b[0m         \u001b[0;31m# On créé K posteriors\u001b[0m\u001b[0;34m\u001b[0m\u001b[0;34m\u001b[0m\u001b[0;34m\u001b[0m\u001b[0m\n\u001b[0;32m----> 8\u001b[0;31m         \u001b[0mself\u001b[0m\u001b[0;34m.\u001b[0m\u001b[0mposteriors\u001b[0m \u001b[0;34m=\u001b[0m \u001b[0;34m[\u001b[0m\u001b[0mposterior\u001b[0m\u001b[0;34m(\u001b[0m\u001b[0;34m)\u001b[0m \u001b[0;32mfor\u001b[0m \u001b[0mk\u001b[0m \u001b[0;32min\u001b[0m \u001b[0mrange\u001b[0m\u001b[0;34m(\u001b[0m\u001b[0mK\u001b[0m\u001b[0;34m)\u001b[0m\u001b[0;34m]\u001b[0m\u001b[0;34m\u001b[0m\u001b[0;34m\u001b[0m\u001b[0m\n\u001b[0m\u001b[1;32m      9\u001b[0m \u001b[0;34m\u001b[0m\u001b[0m\n\u001b[1;32m     10\u001b[0m     \u001b[0;32mdef\u001b[0m \u001b[0mbegin\u001b[0m\u001b[0;34m(\u001b[0m\u001b[0mself\u001b[0m\u001b[0;34m)\u001b[0m\u001b[0;34m:\u001b[0m\u001b[0;34m\u001b[0m\u001b[0;34m\u001b[0m\u001b[0m\n",
      "\u001b[0;32m<ipython-input-125-7eb20aa4a6ac>\u001b[0m in \u001b[0;36m<listcomp>\u001b[0;34m(.0)\u001b[0m\n\u001b[1;32m      6\u001b[0m         \u001b[0mself\u001b[0m\u001b[0;34m.\u001b[0m\u001b[0mK\u001b[0m \u001b[0;34m=\u001b[0m \u001b[0mK\u001b[0m\u001b[0;34m\u001b[0m\u001b[0;34m\u001b[0m\u001b[0m\n\u001b[1;32m      7\u001b[0m         \u001b[0;31m# On créé K posteriors\u001b[0m\u001b[0;34m\u001b[0m\u001b[0;34m\u001b[0m\u001b[0;34m\u001b[0m\u001b[0m\n\u001b[0;32m----> 8\u001b[0;31m         \u001b[0mself\u001b[0m\u001b[0;34m.\u001b[0m\u001b[0mposteriors\u001b[0m \u001b[0;34m=\u001b[0m \u001b[0;34m[\u001b[0m\u001b[0mposterior\u001b[0m\u001b[0;34m(\u001b[0m\u001b[0;34m)\u001b[0m \u001b[0;32mfor\u001b[0m \u001b[0mk\u001b[0m \u001b[0;32min\u001b[0m \u001b[0mrange\u001b[0m\u001b[0;34m(\u001b[0m\u001b[0mK\u001b[0m\u001b[0;34m)\u001b[0m\u001b[0;34m]\u001b[0m\u001b[0;34m\u001b[0m\u001b[0;34m\u001b[0m\u001b[0m\n\u001b[0m\u001b[1;32m      9\u001b[0m \u001b[0;34m\u001b[0m\u001b[0m\n\u001b[1;32m     10\u001b[0m     \u001b[0;32mdef\u001b[0m \u001b[0mbegin\u001b[0m\u001b[0;34m(\u001b[0m\u001b[0mself\u001b[0m\u001b[0;34m)\u001b[0m\u001b[0;34m:\u001b[0m\u001b[0;34m\u001b[0m\u001b[0;34m\u001b[0m\u001b[0m\n",
      "\u001b[0;31mTypeError\u001b[0m: 'int' object is not callable"
     ]
    }
   ],
   "source": [
    "plt.plot(simulation(n, ThompsonSampling(K, steps), steps), label=\"Thompson\")"
   ]
  },
  {
   "cell_type": "code",
   "execution_count": 32,
   "id": "0c3b5c1f",
   "metadata": {},
   "outputs": [
    {
     "ename": "NameError",
     "evalue": "name 'i' is not defined",
     "output_type": "error",
     "traceback": [
      "\u001b[0;31m---------------------------------------------------------------------------\u001b[0m",
      "\u001b[0;31mNameError\u001b[0m                                 Traceback (most recent call last)",
      "\u001b[0;32m<ipython-input-32-1ce466f16de1>\u001b[0m in \u001b[0;36m<module>\u001b[0;34m\u001b[0m\n\u001b[0;32m----> 1\u001b[0;31m \u001b[0;32mclass\u001b[0m \u001b[0mBeta\u001b[0m\u001b[0;34m(\u001b[0m\u001b[0mi\u001b[0m\u001b[0;34m)\u001b[0m\u001b[0;34m:\u001b[0m\u001b[0;34m\u001b[0m\u001b[0;34m\u001b[0m\u001b[0m\n\u001b[0m\u001b[1;32m      2\u001b[0m     \u001b[0;34m\"\"\"Posteriors d'expériences de Bernoulli.\"\"\"\u001b[0m\u001b[0;34m\u001b[0m\u001b[0;34m\u001b[0m\u001b[0m\n\u001b[1;32m      3\u001b[0m \u001b[0;34m\u001b[0m\u001b[0m\n\u001b[1;32m      4\u001b[0m     \u001b[0;32mdef\u001b[0m \u001b[0m__init__\u001b[0m\u001b[0;34m(\u001b[0m\u001b[0mself\u001b[0m\u001b[0;34m)\u001b[0m\u001b[0;34m:\u001b[0m\u001b[0;34m\u001b[0m\u001b[0;34m\u001b[0m\u001b[0m\n\u001b[1;32m      5\u001b[0m         \u001b[0mself\u001b[0m\u001b[0;34m.\u001b[0m\u001b[0mmu_0\u001b[0m \u001b[0;34m=\u001b[0m \u001b[0;36m1\u001b[0m  \u001b[0;31m# On initialise mu, sigma avec 1, 1\u001b[0m\u001b[0;34m\u001b[0m\u001b[0;34m\u001b[0m\u001b[0m\n",
      "\u001b[0;31mNameError\u001b[0m: name 'i' is not defined"
     ]
    }
   ],
   "source": [
    "class Beta(i):\n",
    "    \"\"\"Posteriors d'expériences de Bernoulli.\"\"\"\n",
    "\n",
    "    def __init__(self):\n",
    "        self.mu_0 = 1  # On initialise mu, sigma avec 1, 1\n",
    "        self.sigma_0 = 1\n",
    "        self.i = 0\n",
    "        self.reward_cum = 0\n",
    "        self.mu = self.mu_0\n",
    "        self.sigma = self.sigma_0\n",
    "\n",
    "    def reinitialise(self):\n",
    "        self.mu = self.mu_0\n",
    "        self.sigma = self.sigma_0\n",
    "\n",
    "    def echantillon(self):\n",
    "        \"\"\"Un échantillon aléatoire de ce posterior Beta.\"\"\"\n",
    "        return np.random.normal(self.mu, self.sigma, 1).item()\n",
    "\n",
    "    def observe(self, obs):\n",
    "        \"\"\"Ajoute une nouvelle observation. Si 'obs'=1, augmente alpha, sinon si 'obs'=0, augmente beta.\"\"\"\n",
    "        self.reward_cum += obs\n",
    "        i += 1\n",
    "        self.mu = (1/(1/self.sigma_0**2 + self.i/(self.sigma**2)))*(self.mu_0/(self.sigma_0**2) + self.reward_cum/(self.sigma**2))\n",
    "        self.sigma = 1/(1/self.sigma_0 + self.i/(self.sigma**2))"
   ]
  },
  {
   "cell_type": "code",
   "execution_count": 29,
   "id": "06a415b9",
   "metadata": {},
   "outputs": [
    {
     "ename": "NameError",
     "evalue": "name 'Beta' is not defined",
     "output_type": "error",
     "traceback": [
      "\u001b[0;31m---------------------------------------------------------------------------\u001b[0m",
      "\u001b[0;31mNameError\u001b[0m                                 Traceback (most recent call last)",
      "\u001b[0;32m<ipython-input-29-a43b21aed8fa>\u001b[0m in \u001b[0;36m<module>\u001b[0;34m\u001b[0m\n\u001b[0;32m----> 1\u001b[0;31m \u001b[0;32mclass\u001b[0m \u001b[0mThompsonSampling\u001b[0m\u001b[0;34m(\u001b[0m\u001b[0mMoyenneEmpirique\u001b[0m\u001b[0;34m)\u001b[0m\u001b[0;34m:\u001b[0m\u001b[0;34m\u001b[0m\u001b[0;34m\u001b[0m\u001b[0m\n\u001b[0m\u001b[1;32m      2\u001b[0m     \u001b[0;34m\"\"\"Algorithme Thompson Sampling.\"\"\"\u001b[0m\u001b[0;34m\u001b[0m\u001b[0;34m\u001b[0m\u001b[0m\n\u001b[1;32m      3\u001b[0m \u001b[0;34m\u001b[0m\u001b[0m\n\u001b[1;32m      4\u001b[0m     \u001b[0;32mdef\u001b[0m \u001b[0m__init__\u001b[0m\u001b[0;34m(\u001b[0m\u001b[0mself\u001b[0m\u001b[0;34m,\u001b[0m \u001b[0mK\u001b[0m\u001b[0;34m,\u001b[0m \u001b[0mposterior\u001b[0m\u001b[0;34m=\u001b[0m\u001b[0mBeta\u001b[0m\u001b[0;34m(\u001b[0m\u001b[0;34m)\u001b[0m\u001b[0;34m)\u001b[0m\u001b[0;34m:\u001b[0m\u001b[0;34m\u001b[0m\u001b[0;34m\u001b[0m\u001b[0m\n\u001b[1;32m      5\u001b[0m         \u001b[0;34m\"\"\"Crée l'instance de l'algorithme. Par défaut, alpha=1.\"\"\"\u001b[0m\u001b[0;34m\u001b[0m\u001b[0;34m\u001b[0m\u001b[0m\n",
      "\u001b[0;32m<ipython-input-29-a43b21aed8fa>\u001b[0m in \u001b[0;36mThompsonSampling\u001b[0;34m()\u001b[0m\n\u001b[1;32m      2\u001b[0m     \u001b[0;34m\"\"\"Algorithme Thompson Sampling.\"\"\"\u001b[0m\u001b[0;34m\u001b[0m\u001b[0;34m\u001b[0m\u001b[0m\n\u001b[1;32m      3\u001b[0m \u001b[0;34m\u001b[0m\u001b[0m\n\u001b[0;32m----> 4\u001b[0;31m     \u001b[0;32mdef\u001b[0m \u001b[0m__init__\u001b[0m\u001b[0;34m(\u001b[0m\u001b[0mself\u001b[0m\u001b[0;34m,\u001b[0m \u001b[0mK\u001b[0m\u001b[0;34m,\u001b[0m \u001b[0mposterior\u001b[0m\u001b[0;34m=\u001b[0m\u001b[0mBeta\u001b[0m\u001b[0;34m(\u001b[0m\u001b[0;34m)\u001b[0m\u001b[0;34m)\u001b[0m\u001b[0;34m:\u001b[0m\u001b[0;34m\u001b[0m\u001b[0;34m\u001b[0m\u001b[0m\n\u001b[0m\u001b[1;32m      5\u001b[0m         \u001b[0;34m\"\"\"Crée l'instance de l'algorithme. Par défaut, alpha=1.\"\"\"\u001b[0m\u001b[0;34m\u001b[0m\u001b[0;34m\u001b[0m\u001b[0m\n\u001b[1;32m      6\u001b[0m         \u001b[0mself\u001b[0m\u001b[0;34m.\u001b[0m\u001b[0mK\u001b[0m \u001b[0;34m=\u001b[0m \u001b[0mK\u001b[0m\u001b[0;34m\u001b[0m\u001b[0;34m\u001b[0m\u001b[0m\n",
      "\u001b[0;31mNameError\u001b[0m: name 'Beta' is not defined"
     ]
    }
   ],
   "source": [
    "class ThompsonSampling(MoyenneEmpirique):\n",
    "    \"\"\"Algorithme Thompson Sampling.\"\"\"\n",
    "    \n",
    "    def __init__(self, K, posterior=Beta):\n",
    "        \"\"\"Crée l'instance de l'algorithme. Par défaut, alpha=1.\"\"\"\n",
    "        self.K = K\n",
    "        # On créé K posteriors\n",
    "        self.posteriors = [posterior() for k in range(K)]\n",
    "    \n",
    "    def begin(self):\n",
    "        \"\"\"Réinitialise les K posteriors.\"\"\"\n",
    "        for posterior in self.posteriors:\n",
    "            posterior.reinitialise()\n",
    "    \n",
    "    def choose(self):\n",
    "        \"\"\"On tire K modèles depuis les posteriors, et on joue dans le meilleur.\"\"\"\n",
    "        moyennes_estimees = [posterior.echantillon() for posterior in self.posteriors]\n",
    "        k = np.argmax(moyennes_estimees)\n",
    "        return k\n",
    "\n",
    "    def reward(self, k, r):\n",
    "        \"\"\"Observe cette récompense r sur le bras k en mettant à jour le kième posterior.\"\"\"\n",
    "        self.posteriors[k].observe(r)"
   ]
  },
  {
   "cell_type": "code",
   "execution_count": null,
   "id": "1e528041",
   "metadata": {},
   "outputs": [],
   "source": [
    "class ThompsonSampling(i):\n",
    "    \"\"\"Algorithme Thompson Sampling.\"\"\"\n",
    "    #i étape d'algorithme à laquelle on se trouve\n",
    "\n",
    "    def __init__(self, i):\n",
    "        \"\"\"Crée l'instance de l'algorithme. Par défaut, alpha=1.\"\"\"\n",
    "        self.mu_0 = 1  # On initialise mu, sigma avec 1, 1\n",
    "        self.sigma_0 = 1\n",
    "        self.i = i\n",
    "        self.reward_cum = 0\n",
    "        self.mu = self.mu_0\n",
    "        self.sigma = self.sigma_0\n",
    "    \n",
    "    def reinitialise(self):\n",
    "        self.mu = self.mu_0\n",
    "        self.sigma = self.sigma_0\n",
    "    \n",
    "    def choose(self):\n",
    "        \"\"\"On tire K modèles depuis les posteriors, et on joue dans le meilleur.\"\"\"\n",
    "        moyennes_estimees = self.np.random.normal(self.mu, self.sigma, 1).item()\n",
    "        k = np.argmax(moyennes_estimees)\n",
    "        return k\n",
    "\n",
    "    def reward(self, k, r):\n",
    "        \"\"\"Observe cette récompense r sur le bras k en mettant à jour le kième posterior.\"\"\"\n",
    "        self.posteriors[k].observe(r)\n",
    "\n",
    "    def echantillon(self):\n",
    "        \"\"\"Un échantillon aléatoire de ce posterior Beta.\"\"\"\n",
    "        return np.random.normal(self.mu, self.sigma, 1).item()\n",
    "\n",
    "    def observe(self, obs):\n",
    "        \"\"\"Ajoute une nouvelle observation. Si 'obs'=1, augmente alpha, sinon si 'obs'=0, augmente beta.\"\"\"\n",
    "        self.mu = (1/(1/self.sigma**2 + self.i/(self.sigma**2)))*(self.mu_0/(self.sigma_0**2) + )\n",
    "        self.sigma = 1/(1/self.sigma_0 + self.i/(self.sigma**2))"
   ]
  },
  {
   "cell_type": "code",
   "execution_count": null,
   "id": "3be25e1f",
   "metadata": {},
   "outputs": [],
   "source": [
    "\"\"\"\n",
    "R =[]\n",
    "for i in range(10000):\n",
    "    R.append(bandit_reward(0, 0, 1, 1).item())\n",
    "plt.plot((np.histogram(R, bins=100))[0])\n",
    "\"\"\""
   ]
  }
 ],
 "metadata": {
  "kernelspec": {
   "display_name": "Python 3",
   "language": "python",
   "name": "python3"
  },
  "language_info": {
   "codemirror_mode": {
    "name": "ipython",
    "version": 3
   },
   "file_extension": ".py",
   "mimetype": "text/x-python",
   "name": "python",
   "nbconvert_exporter": "python",
   "pygments_lexer": "ipython3",
   "version": "3.8.8"
  },
  "vscode": {
   "interpreter": {
    "hash": "40d3a090f54c6569ab1632332b64b2c03c39dcf918b08424e98f38b5ae0af88f"
   }
  }
 },
 "nbformat": 4,
 "nbformat_minor": 5
}

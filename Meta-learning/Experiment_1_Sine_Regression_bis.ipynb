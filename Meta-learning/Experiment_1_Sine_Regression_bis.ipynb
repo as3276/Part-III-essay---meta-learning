{
 "cells": [
  {
   "cell_type": "code",
   "execution_count": 1,
   "metadata": {
    "id": "4ZLuq5SDVtCZ"
   },
   "outputs": [],
   "source": [
    "import torch\n",
    "import torch.nn as nn\n",
    "import torch.nn.functional as F\n",
    "import numpy as np\n",
    "from collections import OrderedDict\n",
    "import matplotlib.pyplot as plt\n",
    "%matplotlib inline\n",
    "import copy"
   ]
  },
  {
   "cell_type": "code",
   "execution_count": 2,
   "metadata": {
    "id": "JJl8CG4eVwNj"
   },
   "outputs": [],
   "source": [
    "device=torch.device(\"cuda\" if torch.cuda.is_available() else \"cpu\")"
   ]
  },
  {
   "cell_type": "code",
   "execution_count": 173,
   "metadata": {
    "id": "AqnfI4QtVzZA"
   },
   "outputs": [],
   "source": [
    "#generating sinusoidal data\n",
    "class SineTask():\n",
    "  def __init__(self,amp,phase,min_x,max_x):\n",
    "    self.phase=phase\n",
    "    self.max_x=max_x\n",
    "    self.min_x=min_x\n",
    "    self.amp=amp\n",
    "    \n",
    "  def sample_data(self,size=1):\n",
    "    x=np.random.uniform(self.max_x,self.min_x,size)\n",
    "    y=self.true_sine(x)\n",
    "    x=torch.tensor(x, dtype=torch.float).unsqueeze(1)\n",
    "    y=torch.tensor(y, dtype=torch.float).unsqueeze(1)\n",
    "    return x,y\n",
    "  \n",
    "  def true_sine(self,x):\n",
    "    y=self.amp*np.sin(self.phase+x)\n",
    "    return y"
   ]
  },
  {
   "cell_type": "code",
   "execution_count": 174,
   "metadata": {
    "id": "oek3HRLC3QK_"
   },
   "outputs": [],
   "source": [
    "class SineDistribution():\n",
    "  def __init__(self,min_amp,max_amp,min_phase,max_phase,min_x,max_x):\n",
    "    self.min_amp=min_amp\n",
    "    self.max_phase=max_phase\n",
    "    self.min_phase=min_phase\n",
    "    self.max_amp=max_amp\n",
    "    self.min_x=min_x\n",
    "    self.max_x=max_x\n",
    "    \n",
    "  def sample_task(self):\n",
    "    amp = np.random.uniform(self.min_amp, self.max_amp)\n",
    "    phase = np.random.uniform(self.min_phase, self.max_phase)\n",
    "    return SineTask(amp, phase, self.min_x, self.max_x)"
   ]
  },
  {
   "cell_type": "code",
   "execution_count": 188,
   "metadata": {
    "id": "rtDNJDy3V1jj"
   },
   "outputs": [],
   "source": [
    "#defining our sine-net\n",
    "class SineNet(nn.Module):\n",
    "  def __init__(self):\n",
    "    super(SineNet,self).__init__()\n",
    "    self.net=nn.Sequential(OrderedDict([\n",
    "            ('l1',nn.Linear(1,40)),\n",
    "            ('relu1',nn.ReLU()),\n",
    "            ('l2',nn.Linear(40,40)),\n",
    "            ('relu2',nn.ReLU()),\n",
    "            ('l3',nn.Linear(40,1))\n",
    "        ]))\n",
    "      \n",
    "  # I implemented argforward() so that I could use a set of custom weights for evaluation. \n",
    "  # This is important for the \"inner loop\" in MAML where you temporarily update the weights\n",
    "  # of the network for a task to calculate the meta-loss and then reset them for the next meta-task.\n",
    "  def argforward(self,x,weights): \n",
    "    x=F.linear(x,weights[0],weights[1])\n",
    "    x=F.relu(x)\n",
    "    x=F.linear(x,weights[2],weights[3])           \n",
    "    x=F.relu(x)\n",
    "    x=F.linear(x,weights[4],weights[5])\n",
    "    return x"
   ]
  },
  {
   "cell_type": "code",
   "execution_count": 189,
   "metadata": {
    "id": "uB2cQPE9V6HO"
   },
   "outputs": [],
   "source": [
    "class SineMAML():\n",
    "  def __init__(self,net,alpha,beta,tasks,k,num_metatasks):\n",
    "    self.net=net\n",
    "    self.weights=list(net.parameters())\n",
    "    self.alpha=alpha\n",
    "    self.beta=beta\n",
    "    self.tasks=tasks\n",
    "    self.k=k \n",
    "    self.num_tasks_meta=num_metatasks\n",
    "    self.criterion=nn.MSELoss()\n",
    "    self.meta_optimiser=torch.optim.Adam(self.weights,self.beta)\n",
    "    self.meta_losses=[]\n",
    "    self.plot_every =100\n",
    "    self.print_every = 10000\n",
    "    self.num_metatasks=num_metatasks\n",
    "\n",
    "  def inner_loop(self,task):\n",
    "    temp_weights=[w.clone() for w in self.weights]  #clone returns a copy of the input\n",
    "    x,y=task.sample_data(size=self.k) #sampling D\n",
    "    x=x.to(device)\n",
    "    y=y.to(device)\n",
    "    output=self.net.argforward(x,temp_weights)\n",
    "    loss=self.criterion(output,y)/self.k\n",
    "    grads=torch.autograd.grad(loss,temp_weights)\n",
    "    temp_weights=[w-self.alpha*g for w,g in zip(temp_weights,grads)] #temporary update of weights\n",
    "    x,y=task.sample_data(size=self.k) #sampling D'\n",
    "    x=x.to(device)\n",
    "    y=y.to(device)\n",
    "    output=self.net.argforward(x,temp_weights)\n",
    "    metaloss=self.criterion(output,y)/self.k\n",
    "    return metaloss\n",
    "  \n",
    "  def outer_loop(self,num_epochs):\n",
    "    total_loss=0\n",
    "    for epoch in range(1,num_epochs+1):\n",
    "      metaloss_sum=0\n",
    "      for i in range(self.num_metatasks):\n",
    "        task=self.tasks.sample_task()\n",
    "        metaloss=self.inner_loop(task)\n",
    "        metaloss_sum+=metaloss\n",
    "      metagrads=torch.autograd.grad(metaloss_sum,self.weights)\n",
    "      #important step\n",
    "      for w,g in zip(self.weights,metagrads):\n",
    "        w.grad=g\n",
    "      ###############\n",
    "      self.meta_optimiser.step()\n",
    "      total_loss+=metaloss_sum.item()/self.num_metatasks\n",
    "      if epoch % self.print_every == 0:\n",
    "        print(\"{}/{}. loss: {}\".format(epoch, num_epochs, total_loss / self.plot_every))\n",
    "      if epoch%self.plot_every==0:\n",
    "        self.meta_losses.append(total_loss/self.plot_every)\n",
    "        total_loss = 0"
   ]
  },
  {
   "cell_type": "code",
   "execution_count": 190,
   "metadata": {},
   "outputs": [],
   "source": [
    "sine_tasks=SineDistribution(0.1, 5, 0, np.pi, -5, 5)\n",
    "net=SineNet()\n",
    "net=net.to(device)"
   ]
  },
  {
   "cell_type": "code",
   "execution_count": 191,
   "metadata": {
    "id": "ARYBA6V8WB9o"
   },
   "outputs": [],
   "source": [
    "maml=SineMAML(net,alpha=0.01,beta=0.001,tasks=sine_tasks,k=5,num_metatasks=10)"
   ]
  },
  {
   "cell_type": "code",
   "execution_count": 192,
   "metadata": {
    "colab": {
     "base_uri": "https://localhost:8080/"
    },
    "id": "hClUudjJWCRz",
    "outputId": "1b859b76-81b8-4517-e89e-707571fd44e7"
   },
   "outputs": [
    {
     "name": "stdout",
     "output_type": "stream",
     "text": [
      "10000/20000. loss: 0.29148665428161613\n",
      "20000/20000. loss: 0.1836860799789429\n"
     ]
    }
   ],
   "source": [
    "maml.outer_loop(num_epochs=20000)"
   ]
  },
  {
   "cell_type": "code",
   "execution_count": 193,
   "metadata": {
    "colab": {
     "base_uri": "https://localhost:8080/",
     "height": 282
    },
    "id": "GrHh3US3WM5y",
    "outputId": "a73981e8-afc8-4bfb-a889-8511ecee24ae"
   },
   "outputs": [
    {
     "data": {
      "text/plain": [
       "[<matplotlib.lines.Line2D at 0x7fb1000bb820>]"
      ]
     },
     "execution_count": 193,
     "metadata": {},
     "output_type": "execute_result"
    },
    {
     "data": {
      "image/png": "[encoded data removed]",
      "text/plain": [
       "<Figure size 432x288 with 1 Axes>"
      ]
     },
     "metadata": {
      "needs_background": "light"
     },
     "output_type": "display_data"
    }
   ],
   "source": [
    "plt.plot(maml.meta_losses)"
   ]
  },
  {
   "cell_type": "code",
   "execution_count": 194,
   "metadata": {
    "id": "EgDOQ7h-WfID"
   },
   "outputs": [],
   "source": [
    "def test(og_net,x,y,lr,optim=torch.optim.SGD):\n",
    "  axis=np.linspace(-5,5,1000)\n",
    "  axis=torch.tensor(axis,dtype=torch.float)\n",
    "  axis=axis.to(device)\n",
    "  dummy_net = nn.Sequential(OrderedDict([\n",
    "        ('l1', nn.Linear(1,40)),\n",
    "        ('relu1', nn.ReLU()),\n",
    "        ('l2', nn.Linear(40,40)),\n",
    "        ('relu2', nn.ReLU()),\n",
    "        ('l3', nn.Linear(40,1))\n",
    "    ]))\n",
    "  dummy_net=dummy_net.to(device)\n",
    "  dummy_net.load_state_dict(og_net.state_dict())\n",
    "  loss_fn=nn.MSELoss()\n",
    "  opt=optim(dummy_net.parameters(),lr=lr)\n",
    "  num_shots=10\n",
    "  k=x.shape[0]\n",
    "  losses=[]\n",
    "  outputs={}\n",
    "  for i in range(num_shots):\n",
    "    out=dummy_net(x)\n",
    "    loss=loss_fn(out,y)\n",
    "    losses.append(loss.item())\n",
    "    dummy_net.zero_grad()\n",
    "    loss.backward()\n",
    "    opt.step()\n",
    "  outputs['minitrained']= dummy_net(axis.view(-1, 1)).detach().cpu().clone().numpy()\n",
    "  outputs['initial']= og_net(torch.tensor(axis).view(-1, 1)).detach().cpu().clone().numpy()\n",
    "  print(losses)\n",
    "  return outputs,axis"
   ]
  },
  {
   "cell_type": "code",
   "execution_count": 195,
   "metadata": {
    "id": "cUzxzf5MWkRO"
   },
   "outputs": [],
   "source": [
    "def plot_test(og_net,x,y,task,optim=torch.optim.SGD,lr=0.01):\n",
    "  outputs,axis=test(og_net,x,y,lr,optim)\n",
    "  plt.figure(figsize=(10,5))\n",
    "  plt.plot(axis.cpu().clone().numpy(),task.true_sine(axis.cpu().clone().numpy()), '-', color=(0, 0, 1, 0.5), label='true sine')\n",
    "  plt.scatter(x.cpu().clone().numpy(), y.cpu().clone().numpy(), label='data')\n",
    "  plt.plot(axis.cpu().clone().numpy(), outputs['initial'], ':', color=(0.7, 0, 0, 1), label='initial weights')\n",
    "  plt.plot(axis.cpu().clone().numpy(), outputs['minitrained'], '-', color=(0.5, 0, 0, 1), label='minitrained weights')\n",
    "  plt.legend(loc='lower right')\n",
    "  plt.show()"
   ]
  },
  {
   "cell_type": "code",
   "execution_count": 196,
   "metadata": {
    "colab": {
     "base_uri": "https://localhost:8080/",
     "height": 392
    },
    "id": "fzWpT5f1Wkqp",
    "outputId": "bc07f889-1faf-43fc-cf9b-cb14edc67871"
   },
   "outputs": [
    {
     "name": "stdout",
     "output_type": "stream",
     "text": [
      "[0.9276273846626282, 0.9108113050460815, 3.396444797515869, 10.74353313446045, 12.09533977508545, 4.35939884185791, 0.9116925001144409, 0.38923364877700806, 0.3032921850681305, 0.2529469132423401]\n"
     ]
    },
    {
     "name": "stderr",
     "output_type": "stream",
     "text": [
      "<ipython-input-194-c4cf0caec96c>:28: UserWarning: To copy construct from a tensor, it is recommended to use sourceTensor.clone().detach() or sourceTensor.clone().detach().requires_grad_(True), rather than torch.tensor(sourceTensor).\n",
      "  outputs['initial']= og_net(torch.tensor(axis).view(-1, 1)).detach().cpu().clone().numpy()\n"
     ]
    },
    {
     "data": {
      "image/png": "[encoded data removed]",
      "text/plain": [
       "<Figure size 720x360 with 1 Axes>"
      ]
     },
     "metadata": {
      "needs_background": "light"
     },
     "output_type": "display_data"
    }
   ],
   "source": [
    "K=10\n",
    "task=sine_tasks.sample_task()\n",
    "x,y=task.sample_data(K)\n",
    "x=x.to(device)\n",
    "y=y.to(device)\n",
    "plot_test(og_net=maml.net.net,x=x,y=y,task=task)"
   ]
  },
  {
   "cell_type": "markdown",
   "metadata": {},
   "source": [
    "# RMSE - one sample"
   ]
  },
  {
   "cell_type": "code",
   "execution_count": 197,
   "metadata": {
    "scrolled": true
   },
   "outputs": [
    {
     "name": "stdout",
     "output_type": "stream",
     "text": [
      "[2.080909490585327, 16.41419219970703, 13.14557933807373, 22.67278480529785, 14.756197929382324, 7.954710483551025, 1.0501196384429932, 0.551654040813446, 0.37450987100601196, 0.25418621301651]\n",
      "[9.78861141204834, 47.508697509765625, 522.478271484375, 2454.81689453125, 77945.15625, 196401774460928.0, inf, nan, nan, nan]\n",
      "[2.083251476287842, 20.614944458007812, 34.14555740356445, 9.014551162719727, 6.065940856933594, 0.24733571708202362, 0.17024238407611847, 0.16343356668949127, 0.15914788842201233, 0.15505485236644745]\n",
      "[0.24413776397705078, 0.4023973345756531, 5.3484392166137695, 20.788715362548828, 9.533870697021484, 9.747808456420898, 12.507272720336914, 9.525623321533203, 2.191175699234009, 1.0550869703292847]\n"
     ]
    },
    {
     "name": "stderr",
     "output_type": "stream",
     "text": [
      "<ipython-input-194-c4cf0caec96c>:28: UserWarning: To copy construct from a tensor, it is recommended to use sourceTensor.clone().detach() or sourceTensor.clone().detach().requires_grad_(True), rather than torch.tensor(sourceTensor).\n",
      "  outputs['initial']= og_net(torch.tensor(axis).view(-1, 1)).detach().cpu().clone().numpy()\n"
     ]
    },
    {
     "name": "stdout",
     "output_type": "stream",
     "text": [
      "[1.8844226598739624, 8.315902709960938, 18.520736694335938, 16.750974655151367, 19.12078857421875, 8.36624526977539, 7.013127326965332, 0.8079355359077454, 0.5249883532524109, 0.47057732939720154]\n",
      "[9.040583610534668, 15.682785034179688, 19.43883514404297, 9.31657886505127, 1.622926115989685, 0.9891965985298157, 0.7044373154640198, 0.5974262952804565, 0.6936522126197815, 0.9580345153808594]\n",
      "[4.214076042175293, 29.476428985595703, 53.63542938232422, 27.533985137939453, 12.276689529418945, 18.111167907714844, 24.391536712646484, 7.752730369567871, 5.052123546600342, 4.689813613891602]\n",
      "[9.057538032531738, 72.11593627929688, 76.58491516113281, 26.17670249938965, 50.647552490234375, 135.1023712158203, 14.321101188659668, 12.543684005737305, 11.809657096862793, 11.337824821472168]\n",
      "[0.0367509089410305, 0.6591104865074158, 9.697293281555176, 6.041844844818115, 0.8429262042045593, 1.4058516025543213, 3.100717306137085, 2.5873570442199707, 0.8802905082702637, 0.689312219619751]\n",
      "[4.703028678894043, 4.504080295562744, 1.0951836109161377, 1.1103147268295288, 6.56494665145874, 10.3306245803833, 3.576658248901367, 1.654077172279358, 1.0527814626693726, 0.8388501405715942]\n",
      "[1.0673911571502686, 5.270558834075928, 8.901731491088867, 13.024823188781738, 8.462383270263672, 1.8590282201766968, 4.249319076538086, 7.867184638977051, 10.302470207214355, 0.8244075775146484]\n",
      "[1.5479466915130615, 5.883065700531006, 11.924493789672852, 2.2609477043151855, 9.068696975708008, 9.739320755004883, 2.3011474609375, 2.396008253097534, 0.2653115689754486, 0.14561223983764648]\n",
      "[9.924406051635742, 78.5121078491211, 158.37591552734375, 415.5423278808594, 66.66249084472656, 18.61319351196289, 13.924367904663086, 9.882922172546387, 9.150253295898438, 8.722399711608887]\n",
      "[12.469804763793945, 201.5803985595703, 235.3951416015625, 37.45043182373047, 9.708245277404785, 7.74835729598999, 6.644702911376953, 5.94926118850708, 5.517560958862305, 5.252317905426025]\n",
      "[0.5222506523132324, 1.3804327249526978, 18.460933685302734, 147.44288635253906, 155.07723999023438, 1104.014892578125, 4.272598743438721, 3.5659477710723877, 3.234623432159424, 3.0255815982818604]\n",
      "[7.700243949890137, 83.69737243652344, 53.82555389404297, 30.958538055419922, 10.244688034057617, 8.062222480773926, 7.062768459320068, 6.470130920410156, 6.0773491859436035, 5.754528522491455]\n",
      "[0.7678020000457764, 6.202875137329102, 7.6659417152404785, 8.973681449890137, 2.154939651489258, 0.42580312490463257, 0.10606541484594345, 0.06739325821399689, 0.05634324997663498, 0.04530039057135582]\n",
      "[0.8906171917915344, 4.917516708374023, 8.9306001663208, 5.806888103485107, 0.6826318502426147, 0.1630096286535263, 0.07324139773845673, 0.053459472954273224, 0.04322173446416855, 0.03656579181551933]\n",
      "[1.8412936925888062, 3.9372875690460205, 0.7862440347671509, 1.4893970489501953, 1.968437910079956, 2.465855121612549, 1.937451958656311, 0.936117947101593, 0.33930736780166626, 0.2350653111934662]\n",
      "[2.5849642753601074, 0.6663805842399597, 0.8412567377090454, 3.082496404647827, 5.329282283782959, 4.307242393493652, 1.0273640155792236, 0.8245746493339539, 0.5372992753982544, 0.2869592607021332]\n",
      "[2.957590103149414, 7.676680564880371, 15.124656677246094, 1.8969924449920654, 1.2089704275131226, 1.51479172706604, 1.0746663808822632, 0.8639653325080872, 0.1366415172815323, 0.06522901356220245]\n",
      "[0.9070637822151184, 4.106592178344727, 0.7885910272598267, 3.286592483520508, 1.5809781551361084, 4.366532325744629, 8.052084922790527, 4.322115898132324, 0.3365996778011322, 0.17067210376262665]\n",
      "[1.9542961120605469, 6.639016151428223, 3.7248616218566895, 14.199760437011719, 4.857059955596924, 4.973484039306641, 6.4040045738220215, 0.20214739441871643, 0.10019969940185547, 0.061904627829790115]\n",
      "[4.1618475914001465, 61.3765869140625, 1670.75, 14675.8876953125, 480269824.0, 83627.6484375, 80316.0625, 77135.625, 74081.1328125, 71147.609375]\n",
      "[0.4167760908603668, 4.866590976715088, 17.595571517944336, 19.454486846923828, 13.58936882019043, 1.6610357761383057, 1.0113956928253174, 0.7363112568855286, 0.6463879346847534, 0.5637892484664917]\n",
      "[0.11832566559314728, 1.2162888050079346, 11.687756538391113, 17.43536949157715, 3.96453595161438, 0.12631633877754211, 0.0440521202981472, 0.03409239649772644, 0.03135386481881142, 0.029205163940787315]\n",
      "[2.076167583465576, 10.445938110351562, 55.4972038269043, 21.791656494140625, 34.82301712036133, 16.07860565185547, 29.412372589111328, 5.643800258636475, 4.725652694702148, 4.217431545257568]\n",
      "[1.7076959609985352, 5.167848587036133, 11.82520866394043, 9.985715866088867, 7.136344909667969, 10.311538696289062, 1.9223785400390625, 0.5636483430862427, 0.40575891733169556, 0.30966538190841675]\n",
      "[4.734776973724365, 14.828944206237793, 4.109826564788818, 1.7520478963851929, 6.221599102020264, 15.928009033203125, 20.620380401611328, 13.075279235839844, 12.875167846679688, 3.325648069381714]\n",
      "[0.27786266803741455, 6.692330360412598, 24.30611228942871, 23.912946701049805, 6.690844535827637, 3.031036853790283, 2.7046971321105957, 2.627990484237671, 3.8271546363830566, 3.8507869243621826]\n",
      "[7.6053667068481445, 26.68951988220215, 22.38365936279297, 29.43417739868164, 68.862060546875, 15.207392692565918, 6.5366411209106445, 4.93848991394043, 4.397579193115234, 4.0876641273498535]\n",
      "[4.2649054527282715, 5.519829750061035, 3.290224075317383, 3.778928756713867, 1.0975817441940308, 0.49501314759254456, 0.2552611827850342, 0.162633016705513, 0.11991515010595322, 0.09489785134792328]\n",
      "[1.4496102333068848, 26.508747100830078, 19.65665054321289, 54.82517623901367, 60.69287872314453, 95.24225616455078, 641.997802734375, 6149.9052734375, 518086560.0, 1.14277662546979e+26]\n",
      "[2.3358607292175293, 3.8433890342712402, 3.9139976501464844, 15.339731216430664, 21.759145736694336, 2.086122512817383, 1.7749755382537842, 2.2724547386169434, 1.272758960723877, 1.2134199142456055]\n",
      "[7.4383392333984375, 113.8092041015625, 2385.606689453125, 49475.05078125, 6974220800.0, 1.587582256812855e+22, inf, nan, nan, nan]\n",
      "[0.9628696441650391, 5.7057785987854, 0.6808905601501465, 0.751270592212677, 0.9753419756889343, 0.9215956926345825, 1.4313637018203735, 0.12010057270526886, 0.20316645503044128, 0.1388334333896637]\n",
      "[0.15255232155323029, 1.346418857574463, 8.783774375915527, 25.326274871826172, 12.551809310913086, 6.284268379211426, 3.408233165740967, 2.5112099647521973, 1.9580312967300415, 1.6394150257110596]\n",
      "[0.4145171046257019, 0.5074988603591919, 0.9387384653091431, 0.8744603395462036, 0.9616731405258179, 0.3698549270629883, 0.1510474681854248, 0.07307825982570648, 0.02710912749171257, 0.016846057027578354]\n",
      "[1.8951307535171509, 20.88433074951172, 23.836397171020508, 3.4790122509002686, 2.086717128753662, 1.8098680973052979, 1.6922252178192139, 1.5605202913284302, 1.3765052556991577, 1.210541009902954]\n",
      "[0.39883893728256226, 2.3608901500701904, 26.50043296813965, 19.1773681640625, 7.672842502593994, 2.965649127960205, 1.1859076023101807, 0.7201887965202332, 0.5186455845832825, 0.38345101475715637]\n",
      "[2.4221625328063965, 2.4920384883880615, 13.757525444030762, 3.0812394618988037, 2.013305902481079, 3.4644126892089844, 3.934739589691162, 1.118241548538208, 0.8510673642158508, 0.58981853723526]\n",
      "[8.060722351074219, 105.3708267211914, 42963.73046875, 465349378048.0, 8.95423849108308e+32, inf, nan, nan, nan, nan]\n",
      "[0.7264119982719421, 3.916051149368286, 6.734494686126709, 6.4251909255981445, 0.8997687101364136, 0.5643199682235718, 0.5032920241355896, 0.07823585718870163, 0.04159878194332123, 0.030169015750288963]\n",
      "[4.473048210144043, 19.325054168701172, 41.53801345825195, 6.898353576660156, 3.3410420417785645, 2.6723904609680176, 2.4930717945098877, 2.3186564445495605, 2.157630443572998, 2.0587360858917236]\n",
      "[1.6477302312850952, 2.30283260345459, 0.303295373916626, 0.1706940233707428, 0.13752560317516327, 0.129567950963974, 0.14776811003684998, 0.19067679345607758, 0.23085065186023712, 0.2902827858924866]\n",
      "[0.3815106749534607, 1.0345733165740967, 17.21306610107422, 19.744251251220703, 7.707756996154785, 2.827069044113159, 0.5762611627578735, 0.3242707848548889, 0.2565484941005707, 0.2051880657672882]\n",
      "[3.31144642829895, 8.560709953308105, 10.070310592651367, 6.223165035247803, 12.854194641113281, 8.587536811828613, 4.053056240081787, 2.114954710006714, 1.6476666927337646, 1.5013768672943115]\n"
     ]
    },
    {
     "name": "stdout",
     "output_type": "stream",
     "text": [
      "[0.6198634505271912, 8.962160110473633, 37.50798797607422, 31.523717880249023, 46.686058044433594, 81.17533874511719, 2.637507915496826, 1.987121820449829, 1.6275453567504883, 1.360821008682251]\n",
      "[7.471550941467285, 6.061867713928223, 1.5721572637557983, 0.8598594665527344, 1.457839846611023, 1.2616231441497803, 0.3071309030056, 0.2218504399061203, 0.2800770103931427, 0.3455306887626648]\n",
      "[0.26438015699386597, 1.1638277769088745, 5.116968631744385, 7.124304294586182, 3.4420275688171387, 0.35590749979019165, 0.13899151980876923, 0.1945178061723709, 0.7673341631889343, 2.3561782836914062]\n",
      "[1.6170923709869385, 11.825360298156738, 5.992279052734375, 3.1411757469177246, 2.7722461223602295, 2.7223641872406006, 3.1306395530700684, 2.270047664642334, 0.8739370107650757, 0.12522125244140625]\n",
      "[1.8330557346343994, 0.9772270321846008, 1.0949755907058716, 7.475212097167969, 28.372730255126953, 12.53946590423584, 5.5237836837768555, 0.8424921035766602, 0.3373504877090454, 0.27290862798690796]\n",
      "[3.6958229541778564, 33.13521194458008, 77.17904663085938, 37.467567443847656, 12.074019432067871, 8.787727355957031, 8.153696060180664, 7.6839776039123535, 7.32208251953125, 7.000404357910156]\n",
      "[1.1935007572174072, 6.683518409729004, 1.903746247291565, 2.42866587638855, 4.590378761291504, 4.614029884338379, 1.9481050968170166, 0.5282516479492188, 0.18453408777713776, 0.10284650325775146]\n",
      "[1.2418380975723267, 4.675027370452881, 6.373370170593262, 6.020655155181885, 14.055427551269531, 2.225137233734131, 2.21323299407959, 0.791589081287384, 0.14946725964546204, 0.06794807314872742]\n",
      "[2.381621837615967, 16.301727294921875, 45.64298629760742, 28.18328857421875, 32.15868377685547, 2.9809813499450684, 2.419180154800415, 2.1178619861602783, 1.9598171710968018, 1.853975534439087]\n",
      "[0.7825760841369629, 3.6475586891174316, 9.660390853881836, 1.955965280532837, 1.1505988836288452, 2.578765392303467, 3.2031922340393066, 2.4929091930389404, 1.1701791286468506, 0.6143644452095032]\n",
      "[3.1479439735412598, 8.060806274414062, 3.267165422439575, 4.693800449371338, 5.369698524475098, 2.5986599922180176, 1.849804162979126, 1.4762054681777954, 0.9571031332015991, 0.7363107204437256]\n",
      "[0.2890082001686096, 1.8278510570526123, 3.6366329193115234, 7.556697845458984, 0.24618563055992126, 0.19358566403388977, 0.07059954106807709, 0.044142015278339386, 0.022978486493229866, 0.01662423089146614]\n",
      "[4.141589164733887, 13.294413566589355, 10.417633056640625, 1.4746335744857788, 0.7238092422485352, 0.39658087491989136, 0.2976476848125458, 0.24432674050331116, 0.2031334638595581, 0.1712658852338791]\n",
      "[0.8938571214675903, 3.064072608947754, 14.100805282592773, 25.740930557250977, 5.967162609100342, 2.1356570720672607, 0.8366573452949524, 0.36032113432884216, 0.23196952044963837, 0.19967350363731384]\n",
      "[0.013313482515513897, 0.11667253822088242, 2.0991015434265137, 9.472519874572754, 2.8278260231018066, 3.2662911415100098, 3.019911289215088, 0.5647019743919373, 0.15794576704502106, 0.06631426513195038]\n",
      "[5.733344078063965, 18.83146858215332, 210.17581176757812, 1749.1722412109375, 200568.84375, 146640014934016.0, inf, nan, nan, nan]\n",
      "[3.762617826461792, 31.02193260192871, 15.156702041625977, 8.820612907409668, 11.10386848449707, 145.71072387695312, 58.35518264770508, 7.977160453796387, 6.5219407081604, 5.794320106506348]\n",
      "[2.4166741371154785, 7.4606523513793945, 15.210798263549805, 2.109839916229248, 1.1869499683380127, 0.9401904940605164, 0.6322438716888428, 0.4997349679470062, 0.4257265031337738, 0.3941158950328827]\n",
      "[1.3767553567886353, 6.441962242126465, 11.863215446472168, 29.56499671936035, 27.75930404663086, 10.510220527648926, 1.5207173824310303, 0.8414499163627625, 0.634385883808136, 0.5424594283103943]\n",
      "[0.8418580889701843, 7.290034294128418, 16.691232681274414, 9.502362251281738, 4.464287757873535, 2.7750024795532227, 1.3901731967926025, 0.8385823369026184, 0.6056128740310669, 0.4622337818145752]\n",
      "[11.669983863830566, 35.791160583496094, 222.8129425048828, 103.38414001464844, 33841.30078125, 36871.42578125, 2928181732442112.0, inf, nan, nan]\n",
      "[1.3874680995941162, 1.326592206954956, 5.196255683898926, 19.192197799682617, 8.022804260253906, 1.192396879196167, 13.29100227355957, 7.584388732910156, 6.766897678375244, 0.7626745700836182]\n",
      "[4.974233150482178, 16.963241577148438, 2.9427356719970703, 3.1164679527282715, 2.5544610023498535, 5.786311149597168, 14.32170295715332, 13.23119068145752, 5.051372051239014, 1.281434416770935]\n",
      "[1.1694262027740479, 5.548327922821045, 53.85149383544922, 117.51741790771484, 9.884111404418945, 15.880929946899414, 381.0435791015625, 36.75422286987305, 195.05104064941406, 12.25792121887207]\n",
      "[3.9762110710144043, 31.230825424194336, 94.0211181640625, 57.9963264465332, 135.0383758544922, 32.06454086303711, 5.664855003356934, 5.158565521240234, 4.848479270935059, 4.5931172370910645]\n",
      "[1.628871202468872, 1.6169378757476807, 2.919924259185791, 11.53889274597168, 23.17254066467285, 23.81368064880371, 61.656646728515625, 13.73450756072998, 80.66793060302734, 96.63978576660156]\n",
      "[9.252164840698242, 29.846817016601562, 52.266204833984375, 3.9887328147888184, 2.0604565143585205, 1.3625324964523315, 0.7933071851730347, 0.47276392579078674, 0.34109559655189514, 0.2514505386352539]\n",
      "[6.957772731781006, 99.22444152832031, 7514.41259765625, 346815296.0, 5.716468616986016e+20, inf, nan, nan, nan, nan]\n",
      "[1.1097829341888428, 2.7685129642486572, 6.767178535461426, 2.4250340461730957, 1.9871118068695068, 0.216658353805542, 0.10154165327548981, 0.05186458304524422, 0.049185898154973984, 0.05415453389286995]\n",
      "[1.3626580238342285, 6.7563982009887695, 15.828344345092773, 6.788329124450684, 1.3154550790786743, 0.3007490038871765, 0.11616351455450058, 0.062036652117967606, 0.051838792860507965, 0.044132500886917114]\n",
      "[0.46473580598831177, 2.4354991912841797, 7.217254638671875, 18.14598846435547, 22.084285736083984, 809.6195068359375, 65519.90625, 37442183168.0, 1.0365252538036673e+36, 2.296795528854838e+37]\n",
      "[1.0209707021713257, 10.518163681030273, 48.6073112487793, 22.941896438598633, 23.797861099243164, 15.419652938842773, 27.218982696533203, 1.5335315465927124, 0.9034467935562134, 0.7257580757141113]\n",
      "[2.551115036010742, 8.960653305053711, 7.063157081604004, 8.841509819030762, 11.079765319824219, 4.324173450469971, 1.5826835632324219, 1.2707065343856812, 1.0444746017456055, 0.9451881647109985]\n",
      "[7.451987266540527, 42.42946243286133, 183.8377685546875, 528.0676879882812, 200.55484008789062, 1604908.875, 6217754.0, 3.90132018876332e+22, inf, nan]\n",
      "[0.8414071798324585, 6.329753875732422, 3.879178285598755, 1.3856890201568604, 1.159867286682129, 0.6466022729873657, 0.509893536567688, 0.15630581974983215, 0.08341797441244125, 0.06047812104225159]\n",
      "[2.286633014678955, 10.313241004943848, 2.030627965927124, 0.37671762704849243, 0.22615420818328857, 0.2693156898021698, 0.2790098488330841, 0.33387964963912964, 0.35460877418518066, 0.37141042947769165]\n",
      "[4.032176971435547, 5.982223033905029, 20.711803436279297, 95.74612426757812, 698.3306884765625, 99786.90625, 2718996627456.0, inf, inf, nan]\n",
      "[3.1653246879577637, 37.028282165527344, 11.687973022460938, 16.877771377563477, 133.1248779296875, 36.136688232421875, 4.834036350250244, 4.2922682762146, 4.053553581237793, 3.823665142059326]\n",
      "[0.9345537424087524, 2.6762022972106934, 5.0305023193359375, 16.448392868041992, 8.125425338745117, 2.014214277267456, 0.30855926871299744, 0.0833352655172348, 0.04448171705007553, 0.03529861941933632]\n",
      "[1.754193663597107, 3.6921210289001465, 0.8229047060012817, 2.7775368690490723, 7.2522430419921875, 15.011059761047363, 23.308237075805664, 4.706154823303223, 3.2877089977264404, 1.4931604862213135]\n",
      "[2.7777984142303467, 18.945112228393555, 25.418895721435547, 4.646252632141113, 29.438751220703125, 21.914377212524414, 11.706843376159668, 7.9599127769470215, 7.2962646484375, 5.841157913208008]\n",
      "[2.467540740966797, 14.069961547851562, 49.509681701660156, 309.35040283203125, 179.82431030273438, 37425.93359375, 8104109.5, 7.122262522586157e+24, inf, nan]\n",
      "[1.4144799709320068, 13.52607250213623, 4.2559733390808105, 4.9274516105651855, 0.8546282052993774, 0.0840497612953186, 0.03356386721134186, 0.022996440529823303, 0.018361371010541916, 0.01569470576941967]\n",
      "[0.5366226434707642, 8.236928939819336, 7.63763952255249, 10.960680961608887, 6.166693687438965, 19.339622497558594, 18.889141082763672, 0.7423685789108276, 0.5731076002120972, 0.48752665519714355]\n",
      "[1.5981495380401611, 2.004234790802002, 0.6033909320831299, 0.3444845676422119, 0.17219844460487366, 0.13654127717018127, 0.08911844342947006, 0.07821774482727051, 0.05307052284479141, 0.04657755047082901]\n",
      "[1.9241580963134766, 11.484254837036133, 28.013967514038086, 13.677345275878906, 6.124748706817627, 9.559287071228027, 3.4969348907470703, 1.3258907794952393, 0.8314962387084961, 0.6726977229118347]\n",
      "[7.566556453704834, 74.2286605834961, 93.80326843261719, 13.589070320129395, 15.466392517089844, 9.812295913696289, 6.7618818283081055, 6.5303826332092285, 5.454137802124023, 4.794312953948975]\n",
      "[0.865157425403595, 0.5607430338859558, 1.2272701263427734, 4.034876346588135, 6.588584899902344, 5.579901695251465, 1.893723726272583, 0.36027437448501587, 0.2838616371154785, 0.24116301536560059]\n",
      "[3.524864912033081, 20.576616287231445, 72.08656311035156, 6.479963779449463, 1.3365938663482666, 0.8015300631523132, 0.4331739842891693, 0.38686397671699524, 0.3853686451911926, 0.2961960732936859]\n",
      "[6.277588844299316, 33.69771194458008, 81.1478271484375, 70.04226684570312, 79.11415100097656, 313.4858093261719, 115.22574615478516, 878.85546875, 39.567291259765625, 17.356164932250977]\n"
     ]
    },
    {
     "name": "stdout",
     "output_type": "stream",
     "text": [
      "[0.6037667393684387, 2.895942449569702, 15.012873649597168, 14.363344192504883, 2.51627516746521, 0.2922350764274597, 0.0668504536151886, 0.043522048741579056, 0.03559473529458046, 0.03080538846552372]\n",
      "[1.3339991569519043, 9.046158790588379, 36.85871887207031, 7.912255764007568, 2.4073376655578613, 0.5847680568695068, 0.4723113179206848, 0.5304884314537048, 0.6178457140922546, 0.9011957049369812]\n",
      "[0.22556106746196747, 2.3701367378234863, 10.939058303833008, 26.68570327758789, 76.07077026367188, 140.97434997558594, 101.38188171386719, 24.136167526245117, 185.72189331054688, 398.0458679199219]\n",
      "[4.163699150085449, 7.422299385070801, 32.031944274902344, 234.5357208251953, 1896.3125, 15672.583984375, 28269066.0, 1.0507487523183608e+27, inf, nan]\n",
      "[0.7043408155441284, 4.879213809967041, 29.552730560302734, 14.706939697265625, 5.155684471130371, 2.7158846855163574, 1.3838428258895874, 0.7250522375106812, 0.5150487422943115, 0.39725062251091003]\n",
      "[0.866788387298584, 8.363433837890625, 22.255657196044922, 30.698659896850586, 55.23594284057617, 256.42510986328125, 16.658504486083984, 307.54034423828125, 547.4625244140625, 361.165771484375]\n",
      "[1.244426965713501, 3.703526258468628, 6.997843265533447, 6.567043304443359, 2.326547622680664, 0.5728409886360168, 0.6027483344078064, 0.5028465986251831, 0.028252074494957924, 0.025807375088334084]\n",
      "[0.8718703985214233, 2.763390064239502, 10.24100399017334, 5.276357173919678, 1.1874772310256958, 0.06908461451530457, 0.024454718455672264, 0.02017585188150406, 0.018092084676027298, 0.01625961810350418]\n",
      "[0.9505081176757812, 3.9662959575653076, 10.374136924743652, 8.540227890014648, 4.65430212020874, 1.5944679975509644, 0.38615721464157104, 0.23245182633399963, 0.17581471800804138, 0.1443111002445221]\n",
      "[0.5179368853569031, 11.338651657104492, 48.27644348144531, 31.442358016967773, 22.2327823638916, 2.5097689628601074, 1.6036678552627563, 1.319384217262268, 1.1454895734786987, 1.0262477397918701]\n",
      "[6.379703521728516, 111.89192962646484, 24810.640625, 149008580608.0, 1.675921585578905e+29, inf, nan, nan, nan, nan]\n",
      "[1.336944818496704, 2.9625000953674316, 2.241962194442749, 4.084214210510254, 0.8605817556381226, 0.07166707515716553, 0.028524551540613174, 0.03789355605840683, 0.07289236783981323, 0.195514515042305]\n",
      "[1.126063585281372, 9.870595932006836, 4.552326202392578, 5.998772621154785, 3.2739391326904297, 0.9656962156295776, 0.2044818103313446, 0.08394832909107208, 0.06677733361721039, 0.06225700303912163]\n",
      "[10.433847427368164, 85.91381072998047, 512.8193359375, 6804.25390625, 49181.5234375, 7466881024.0, 3.8584522722453136e+28, inf, nan, nan]\n",
      "[0.2746075689792633, 0.5432264804840088, 2.7294414043426514, 4.394167423248291, 2.098374843597412, 0.9869378209114075, 0.7764918804168701, 0.3132888972759247, 0.25460460782051086, 0.09455601871013641]\n",
      "[0.7978698015213013, 1.5490658283233643, 2.818234920501709, 4.129731178283691, 2.6297147274017334, 17.901386260986328, 60.71478271484375, 30.49649429321289, 28.895206451416016, 4.357827186584473]\n",
      "[1.9614181518554688, 13.340269088745117, 41.99725341796875, 34.421043395996094, 18.15500259399414, 4.461840629577637, 2.219316005706787, 1.7576196193695068, 1.4768667221069336, 1.263429880142212]\n",
      "[0.7989690899848938, 1.0868698358535767, 9.217555046081543, 70.08412170410156, 2054.05029296875, 475412.25, 347044118528.0, inf, nan, nan]\n",
      "[3.406359910964966, 18.13995933532715, 58.70566940307617, 105.4830551147461, 1831.1995849609375, 31850.26953125, 94089632.0, 3.7880171844563514e+29, inf, nan]\n",
      "[0.3756487965583801, 2.403717517852783, 17.636219024658203, 25.45521354675293, 3.7586264610290527, 1.328452229499817, 0.2876895070075989, 0.2285710573196411, 0.1965571641921997, 0.1715158373117447]\n",
      "[10.565252304077148, 172.5466766357422, 101101.3125, 33296522149888.0, inf, inf, nan, nan, nan, nan]\n",
      "[1.5086910724639893, 20.22723960876465, 59.13628005981445, 218.75912475585938, 3446.012939453125, 19837158.0, 6.294790270729218e+20, inf, nan, nan]\n",
      "[5.190741062164307, 22.0701904296875, 39.781211853027344, 925.0816650390625, 39763.70703125, 264716768.0, 9.215802461172054e+29, inf, nan, nan]\n",
      "[0.1857396811246872, 1.6879065036773682, 8.969344139099121, 19.311628341674805, 4.705948829650879, 8.86097526550293, 2.254652261734009, 1.8621736764907837, 1.2057459354400635, 0.6640139222145081]\n",
      "[3.164058208465576, 5.6341753005981445, 11.549980163574219, 4.137327671051025, 10.864989280700684, 12.556057929992676, 2.106182336807251, 0.6080657839775085, 0.1910938024520874, 0.09750747680664062]\n",
      "[0.2064661681652069, 0.21927526593208313, 2.693255662918091, 12.402494430541992, 5.901048183441162, 2.6861395835876465, 0.942459225654602, 0.7512155771255493, 0.7166054248809814, 0.6654367446899414]\n",
      "[1.3528189659118652, 2.9535956382751465, 0.5712944865226746, 0.6070301532745361, 0.7752717733383179, 0.9702495336532593, 0.9226765632629395, 0.9894374012947083, 0.7374016046524048, 0.6781684756278992]\n",
      "[0.23434634506702423, 1.0454158782958984, 4.3256659507751465, 9.625730514526367, 11.20898723602295, 3.4829864501953125, 0.8953998684883118, 0.06443949788808823, 0.04683234542608261, 0.03888074308633804]\n",
      "[4.074904918670654, 4.736494541168213, 15.446252822875977, 43.27083969116211, 48.7100830078125, 28.129528045654297, 18.254650115966797, 146.69195556640625, 92.12535095214844, 13.431828498840332]\n",
      "[0.809939980506897, 2.5632424354553223, 9.640775680541992, 6.576947212219238, 2.3969216346740723, 0.5644450187683105, 0.5482397079467773, 8.645223617553711, 10.094091415405273, 1.3277689218521118]\n",
      "[0.6525316834449768, 3.9796128273010254, 5.384487152099609, 17.40614891052246, 35.53728485107422, 3.5340371131896973, 17.8109130859375, 52.27435302734375, 97.31615447998047, 289.34527587890625]\n",
      "[3.5892879962921143, 16.286666870117188, 10.333066940307617, 7.90310525894165, 3.622576951980591, 0.43475133180618286, 0.114458367228508, 0.06274046003818512, 0.043245382606983185, 0.03611225634813309]\n",
      "[8.093027114868164, 55.736083984375, 126.11263275146484, 2765.8984375, 19755.40625, 1382885760.0, 4.757882995430996e+21, inf, nan, nan]\n",
      "[0.7014280557632446, 2.917341709136963, 20.615129470825195, 38.463340759277344, 61.2160758972168, 17.99930191040039, 17.261821746826172, 27.453598022460938, 2.301269769668579, 1.4927995204925537]\n",
      "[0.1732850819826126, 1.6091148853302002, 12.946855545043945, 7.083998680114746, 1.7731987237930298, 0.31015896797180176, 0.14607445895671844, 0.08181969076395035, 0.04106742888689041, 0.02796231210231781]\n",
      "[0.12030360847711563, 0.21625415980815887, 1.555829405784607, 8.006046295166016, 27.759639739990234, 24.62116241455078, 9.212747573852539, 4.448519229888916, 1.850064992904663, 1.590013027191162]\n",
      "[2.7444396018981934, 9.232078552246094, 10.455212593078613, 4.1678667068481445, 10.748648643493652, 30.98996353149414, 1.6275660991668701, 0.8752363920211792, 0.6803320646286011, 0.6160288453102112]\n",
      "[0.402428537607193, 4.155505657196045, 16.203487396240234, 8.545219421386719, 2.525129795074463, 3.7414004802703857, 2.106302261352539, 3.6813900470733643, 0.3592950701713562, 0.25975218415260315]\n",
      "[3.2427539825439453, 8.231536865234375, 20.874731063842773, 43.729637145996094, 103.4974365234375, 1999.6781005859375, 462739.15625, 2.5279730827657216e+16, inf, nan]\n",
      "[6.501580238342285, 11.982002258300781, 3.9590003490448, 3.6254734992980957, 1.868287444114685, 1.0082716941833496, 0.7619319558143616, 0.8661730885505676, 0.8659051656723022, 1.1450214385986328]\n",
      "[0.7403780221939087, 2.093348979949951, 0.6181477308273315, 0.2419230043888092, 0.13779662549495697, 0.10740214586257935, 0.09354683011770248, 0.08163875341415405, 0.10991460084915161, 0.19140291213989258]\n",
      "[0.6386886835098267, 1.8251798152923584, 4.1432390213012695, 1.1648986339569092, 1.3359194993972778, 0.6413083672523499, 1.2746906280517578, 1.2456692457199097, 2.128268003463745, 1.9294586181640625]\n",
      "[6.10744047164917, 11.484678268432617, 3.4087822437286377, 2.678256034851074, 4.352272033691406, 5.419802665710449, 1.5366756916046143, 0.3660704791545868, 0.22226235270500183, 0.11046379804611206]\n",
      "[1.5591442584991455, 12.496539115905762, 20.975812911987305, 12.078020095825195, 1.4687087535858154, 1.9051545858383179, 2.160308837890625, 2.75517201423645, 0.575760006904602, 0.3323393166065216]\n",
      "[6.612677097320557, 10.853912353515625, 159.15512084960938, 1185.344482421875, 5880329.0, 1.0368379591016426e+22, inf, nan, nan, nan]\n",
      "[0.9946647882461548, 1.036719560623169, 1.5053038597106934, 1.8308990001678467, 3.821728467941284, 2.6196582317352295, 2.604541301727295, 0.3382554054260254, 0.092488132417202, 0.04618081450462341]\n",
      "[5.428316593170166, 30.76510238647461, 39.872093200683594, 8.442594528198242, 3.9793648719787598, 2.595180034637451, 1.7993829250335693, 1.3098223209381104, 1.028847575187683, 0.8191713094711304]\n",
      "[1.7584041357040405, 15.9899263381958, 18.116167068481445, 3.203357696533203, 0.27280253171920776, 0.11517955362796783, 0.04818036034703255, 0.033756058663129807, 0.02581247314810753, 0.02026447281241417]\n",
      "[0.018896233290433884, 0.03100924752652645, 0.15227437019348145, 2.1096062660217285, 11.446964263916016, 7.745399475097656, 4.291487216949463, 2.803450345993042, 0.9597245454788208, 0.48411497473716736]\n",
      "[0.7098677158355713, 9.177492141723633, 8.137476921081543, 13.81298542022705, 9.08000659942627, 1.562159776687622, 1.1243566274642944, 0.9493792653083801, 0.8552916646003723, 0.7756640911102295]\n"
     ]
    },
    {
     "name": "stdout",
     "output_type": "stream",
     "text": [
      "[0.629740834236145, 1.9257314205169678, 7.374448299407959, 8.183260917663574, 1.0307155847549438, 0.5046770572662354, 0.9971688389778137, 1.1608582735061646, 1.1287363767623901, 0.28376203775405884]\n",
      "[0.9456977844238281, 2.476346969604492, 0.44329848885536194, 0.9053601026535034, 1.1893243789672852, 3.3873729705810547, 2.154914140701294, 1.3182308673858643, 1.4117190837860107, 1.361151933670044]\n",
      "[0.6089128255844116, 7.0301642417907715, 7.901973724365234, 4.633544445037842, 0.9592796564102173, 0.25035250186920166, 0.22458615899085999, 0.24995212256908417, 0.3144979476928711, 0.36729130148887634]\n",
      "[1.1253477334976196, 0.44930610060691833, 0.45891013741493225, 1.648569107055664, 2.9801478385925293, 3.604564666748047, 0.8275678753852844, 5.1477460861206055, 6.01295804977417, 3.289607524871826]\n",
      "[0.19117534160614014, 0.4648577570915222, 3.751824140548706, 46.90296173095703, 28.393096923828125, 11.620281219482422, 6.189306735992432, 4.091619491577148, 3.02398681640625, 2.5447611808776855]\n",
      "[0.8089529275894165, 2.693877696990967, 19.830455780029297, 16.874481201171875, 22.77724266052246, 68.61360168457031, 470.895263671875, 2792.73583984375, 97260080.0, 4.293874558771226e+24]\n",
      "[1.8703649044036865, 9.541849136352539, 5.031882286071777, 4.492756366729736, 0.914455235004425, 0.6635656356811523, 0.5389692783355713, 0.4628119468688965, 0.39850080013275146, 0.40094757080078125]\n",
      "[0.9957706332206726, 8.017862319946289, 15.81884479522705, 6.532269477844238, 10.462625503540039, 0.9044411778450012, 0.13644751906394958, 0.037747859954833984, 0.036425091326236725, 0.012402704916894436]\n",
      "[3.0638396739959717, 3.7397284507751465, 22.081905364990234, 66.25910186767578, 233.2519989013672, 179.24160766601562, 405.6192626953125, 501621.5, 11958877184.0, 1.742271859530087e+35]\n",
      "[0.8998430371284485, 8.535636901855469, 5.461009502410889, 12.776268005371094, 27.228668212890625, 149.5315399169922, 55.994834899902344, 659.05029296875, 112468.5, 1505130496.0]\n",
      "[2.328047513961792, 20.57065773010254, 62.73555374145508, 470.2882385253906, 3732.30517578125, 576634.0, 1.2424987126267904e+16, 6.425663173602563e+31, inf, nan]\n",
      "[3.7944679260253906, 18.100345611572266, 55.388267517089844, 44.469749450683594, 178.59317016601562, 992.3521728515625, 59191.91796875, 81076805632.0, inf, inf]\n",
      "[9.394339561462402, 24.084806442260742, 8.183595657348633, 5.64005184173584, 10.465161323547363, 13.92817211151123, 19.89027976989746, 4.716987609863281, 0.8599054217338562, 0.23362930119037628]\n",
      "[1.3076341152191162, 1.961687445640564, 4.674892425537109, 5.329679012298584, 1.3728103637695312, 0.4567376971244812, 0.3290550112724304, 0.0868137925863266, 0.0534466989338398, 0.0460059680044651]\n",
      "[19.04106330871582, 229.3365478515625, 647032.1875, 2.6694845242277888e+17, inf, nan, nan, nan, nan, nan]\n",
      "[1.6681394577026367, 3.179133176803589, 4.420434951782227, 3.971151828765869, 6.128243923187256, 2.1324868202209473, 1.8036772012710571, 0.26538729667663574, 0.16316813230514526, 0.13150255382061005]\n",
      "[0.7427516579627991, 5.6263933181762695, 16.74484634399414, 9.265386581420898, 3.6662487983703613, 4.835899829864502, 12.462087631225586, 1.4982655048370361, 0.7160057425498962, 0.4654938578605652]\n",
      "[1.5915591716766357, 18.773357391357422, 18.738292694091797, 14.750299453735352, 1.5943933725357056, 1.2848297357559204, 1.1176525354385376, 1.0118118524551392, 0.9361111521720886, 0.8620845675468445]\n",
      "[10.833456039428711, 37.79244613647461, 25.268529891967773, 43.27920913696289, 39.54057693481445, 12.000421524047852, 6.660269737243652, 4.290838241577148, 2.7394156455993652, 1.605176568031311]\n",
      "[0.5220585465431213, 4.293400764465332, 24.01402473449707, 34.234840393066406, 49.47949981689453, 45.52609634399414, 3.216616153717041, 2.3395087718963623, 1.612741470336914, 1.1561472415924072]\n",
      "[4.673478603363037, 22.30495834350586, 53.6668815612793, 10.213369369506836, 7.456265926361084, 10.722524642944336, 4.891182899475098, 3.639303684234619, 3.2682559490203857, 3.3726775646209717]\n",
      "[7.651060581207275, 37.105796813964844, 33.65612030029297, 195.00729370117188, 155.16038513183594, 215.275146484375, 5113.15869140625, 5807150.5, 4.939154710020007e+20, inf]\n",
      "[0.7501487135887146, 8.348773956298828, 15.278816223144531, 6.875161647796631, 1.6890928745269775, 0.20521727204322815, 0.0393652617931366, 0.0309340450912714, 0.02611684426665306, 0.022918667644262314]\n",
      "[0.051346659660339355, 0.08699104189872742, 0.21486464142799377, 0.826063334941864, 4.396611213684082, 4.799173355102539, 6.326180934906006, 5.754417896270752, 6.766785621643066, 1.1356550455093384]\n",
      "[1.7194499969482422, 1.2559226751327515, 1.1313626766204834, 2.8851141929626465, 15.72429084777832, 18.698688507080078, 14.678791999816895, 9.540613174438477, 12.600828170776367, 3.7502007484436035]\n",
      "[6.955780982971191, 4.237128257751465, 6.282913684844971, 15.019790649414062, 19.246646881103516, 7.8066911697387695, 4.765120506286621, 2.448396682739258, 0.9791933298110962, 0.4979799687862396]\n",
      "[0.9307737350463867, 1.7876800298690796, 5.329883098602295, 29.037878036499023, 10.34647274017334, 3.5992302894592285, 2.5379934310913086, 2.827989339828491, 5.040382385253906, 7.043091773986816]\n",
      "[2.742509126663208, 27.030254364013672, 87.07037353515625, 59.10703659057617, 1310.1397705078125, 9.933890342712402, 6.292713165283203, 5.9869585037231445, 5.792929172515869, 5.588172912597656]\n",
      "[1.1820461750030518, 9.511086463928223, 1.9853241443634033, 5.245491981506348, 4.908035755157471, 1.6460199356079102, 0.8248262405395508, 1.641587257385254, 1.0724854469299316, 2.5196988582611084]\n",
      "[3.036592483520508, 9.264448165893555, 18.26765251159668, 54.17094039916992, 13.066203117370605, 4.626250743865967, 2.924736738204956, 2.1464314460754395, 1.987017273902893, 1.6990982294082642]\n",
      "[0.9935959577560425, 0.7686985731124878, 10.27640438079834, 10.445791244506836, 4.125429630279541, 9.752223014831543, 12.171862602233887, 1.0161268711090088, 0.5402325391769409, 0.4107654094696045]\n",
      "[1.051650047302246, 6.4545135498046875, 3.152945041656494, 2.3665943145751953, 1.9209362268447876, 1.5703532695770264, 0.8279479146003723, 0.6276154518127441, 0.5387815237045288, 0.48755842447280884]\n",
      "[3.315612316131592, 10.141109466552734, 13.53803825378418, 3.905301570892334, 0.7942588329315186, 0.22557279467582703, 0.10175524652004242, 0.054992564022541046, 0.03398406505584717, 0.024156803265213966]\n",
      "[0.08775205165147781, 3.137157440185547, 45.412147521972656, 90.39126586914062, 356.068115234375, 125880.6640625, 3220470094626816.0, 3.6920783123458635e+31, inf, nan]\n",
      "[0.867017924785614, 3.585559368133545, 3.6481356620788574, 5.057011604309082, 1.865377426147461, 0.37562689185142517, 0.06492681801319122, 0.04073965921998024, 0.029173022136092186, 0.0262310691177845]\n",
      "[0.7123410701751709, 7.7464752197265625, 33.65891647338867, 36.581172943115234, 38.36286163330078, 4.818896293640137, 2.8677897453308105, 2.1595280170440674, 1.714463472366333, 1.4242489337921143]\n",
      "[4.627610206604004, 25.7689208984375, 117.3526611328125, 270.16021728515625, 16667.0078125, 2555189504.0, 1.597364478746527e+33, inf, nan, nan]\n",
      "[4.195807456970215, 31.367694854736328, 30.94342041015625, 1428.8406982421875, 2751314.5, 229571639115776.0, inf, nan, nan, nan]\n",
      "[0.7257140874862671, 1.5778090953826904, 7.693833351135254, 3.8178622722625732, 4.434260368347168, 0.8008298873901367, 0.24497643113136292, 0.06843029707670212, 0.024262670427560806, 0.01142876222729683]\n",
      "[2.7307536602020264, 5.640900611877441, 6.547957420349121, 9.240317344665527, 11.473226547241211, 4.138172149658203, 1.8400846719741821, 0.3395158648490906, 0.09289620071649551, 0.05460755154490471]\n",
      "[1.715116262435913, 6.913278102874756, 6.815870761871338, 4.307412147521973, 8.627725601196289, 6.277276515960693, 9.767415046691895, 7.385204315185547, 0.1910918653011322, 0.070822574198246]\n",
      "[1.486249566078186, 3.2650890350341797, 9.000378608703613, 8.420560836791992, 2.041417360305786, 2.2319083213806152, 2.7420654296875, 0.5386947393417358, 0.3052200973033905, 0.23770785331726074]\n",
      "[0.29691511392593384, 0.8293506503105164, 9.155843734741211, 17.038305282592773, 12.428614616394043, 2.8373804092407227, 1.0038864612579346, 0.28951579332351685, 0.20673683285713196, 0.17814792692661285]\n",
      "[3.100121259689331, 12.606072425842285, 41.83915710449219, 2.9227309226989746, 1.2312883138656616, 1.087877631187439, 1.0205602645874023, 0.9612275958061218, 0.9059497117996216, 0.8595746755599976]\n",
      "[3.3964667320251465, 8.655604362487793, 17.721643447875977, 7.783865451812744, 1.7902473211288452, 0.9728127717971802, 0.23327431082725525, 0.07325665652751923, 0.04713965207338333, 0.04280289635062218]\n",
      "[0.6193554997444153, 1.8332951068878174, 16.907644271850586, 25.57451820373535, 7.52068567276001, 1.6471636295318604, 0.23201322555541992, 0.1236603856086731, 0.07967271655797958, 0.0563240647315979]\n",
      "[0.4058082699775696, 1.822627305984497, 6.429278373718262, 12.287763595581055, 6.740261077880859, 7.355367183685303, 0.1207381933927536, 0.0761929303407669, 0.070086270570755, 0.0593995526432991]\n",
      "[1.6705926656723022, 8.08006477355957, 0.660785436630249, 3.16686749458313, 0.9164460301399231, 2.5505030155181885, 6.585989952087402, 6.870964050292969, 1.286169171333313, 0.5740997791290283]\n",
      "[1.1019047498703003, 3.5126585960388184, 7.488523960113525, 3.861701488494873, 0.4587041735649109, 1.6214063167572021, 4.50406551361084, 3.2519021034240723, 1.1235477924346924, 0.4149231016635895]\n",
      "[6.415611267089844, 23.96466827392578, 57.23598098754883, 99.12535095214844, 9.569326400756836, 6.872193336486816, 5.849705696105957, 5.254210472106934, 4.857058048248291, 4.56541109085083]\n"
     ]
    },
    {
     "name": "stdout",
     "output_type": "stream",
     "text": [
      "[1.0831421613693237, 4.212594509124756, 14.322305679321289, 2.5530614852905273, 2.5904812812805176, 0.22616493701934814, 0.06087189167737961, 0.03336319699883461, 0.021801766008138657, 0.015376998111605644]\n",
      "[4.008362770080566, 58.85051727294922, 55.208045959472656, 245.3658905029297, 31.75075340270996, 7.2493085861206055, 5.112332344055176, 4.268795967102051, 3.8294296264648438, 3.5279507637023926]\n",
      "[2.527820110321045, 7.655392646789551, 4.833085536956787, 3.6440186500549316, 1.262703776359558, 1.3993873596191406, 4.028168678283691, 8.217721939086914, 4.583356857299805, 1.0802843570709229]\n",
      "[0.7468816637992859, 0.9754661321640015, 5.193191051483154, 32.5762939453125, 15.751077651977539, 23.537128448486328, 10.207473754882812, 3.0172054767608643, 1.735106110572815, 1.2045433521270752]\n",
      "[4.829183578491211, 22.33477210998535, 111.51777648925781, 168.58499145507812, 24974.154296875, 154824769536.0, inf, inf, nan, nan]\n",
      "[2.894225597381592, 11.581009864807129, 81.44737243652344, 50.233741760253906, 437.849365234375, 74.115234375, 35.56231689453125, 226.681396484375, 49.158729553222656, 45.30189514160156]\n",
      "[7.122868537902832, 64.73085021972656, 477.0355529785156, 18382.119140625, 986671936.0, 1.4298345150389618e+23, 1.547762037178943e+30, inf, nan, nan]\n",
      "[0.17710691690444946, 2.905613422393799, 43.55767822265625, 53.568153381347656, 165.1962127685547, 52.6126708984375, 122.135986328125, 33.25918960571289, 1.7527300119400024, 1.3295300006866455]\n",
      "[3.0239338874816895, 0.47542548179626465, 0.5857983827590942, 5.475188732147217, 27.728124618530273, 12.772809982299805, 7.216246604919434, 2.2064201831817627, 1.5383832454681396, 1.2845523357391357]\n",
      "[2.738568067550659, 8.796098709106445, 6.140955924987793, 3.7262611389160156, 1.9117769002914429, 0.33479589223861694, 0.12205419689416885, 0.09352710098028183, 0.08229315280914307, 0.07475434243679047]\n",
      "[5.218387603759766, 20.146503448486328, 40.009117126464844, 6.8586578369140625, 12.485586166381836, 6.538870811462402, 5.566191673278809, 4.716832160949707, 3.1206605434417725, 2.253894329071045]\n",
      "[0.6788737773895264, 1.2094048261642456, 4.685965538024902, 6.8841447830200195, 0.5565364956855774, 0.5808461904525757, 1.8154160976409912, 5.081514358520508, 6.569805145263672, 0.5381219983100891]\n",
      "[1.5221915245056152, 10.17432689666748, 1.8750860691070557, 0.8333365321159363, 0.5037508010864258, 0.28031599521636963, 0.18022073805332184, 0.12655632197856903, 0.08382092416286469, 0.04735827445983887]\n",
      "[0.8551141619682312, 5.407077312469482, 24.958209991455078, 27.117868423461914, 37.16642379760742, 68.65992736816406, 4.799699306488037, 2.331773281097412, 1.5817242860794067, 1.235638976097107]\n",
      "[0.2841849625110626, 3.477147340774536, 5.648806095123291, 2.827019214630127, 7.362851619720459, 10.546354293823242, 9.279722213745117, 5.464350700378418, 1.3673503398895264, 0.7023686170578003]\n",
      "[1.1264359951019287, 9.04358196258545, 12.46269416809082, 2.927410125732422, 1.2668673992156982, 0.6901615262031555, 0.5274665355682373, 0.44503292441368103, 0.3898469805717468, 0.3449903130531311]\n",
      "[4.649450778961182, 17.91795539855957, 39.06418991088867, 552.8798828125, 32305.39453125, 70414860288.0, inf, inf, nan, nan]\n",
      "[0.8209245800971985, 4.413743019104004, 9.476057052612305, 6.259369850158691, 3.7604877948760986, 1.3229418992996216, 0.7990978360176086, 0.201106458902359, 0.07059105485677719, 0.039526913315057755]\n",
      "[1.5180712938308716, 3.163329601287842, 2.852222204208374, 2.4043562412261963, 1.4735589027404785, 1.0096371173858643, 0.45089244842529297, 0.23640231788158417, 0.14104436337947845, 0.10617748647928238]\n",
      "[3.758838176727295, 22.65097427368164, 129.53070068359375, 469.67657470703125, 5670.87744140625, 1839041.75, 4.6175811874586624e+17, inf, nan, nan]\n",
      "[1.1953414678573608, 9.688394546508789, 45.84515380859375, 18.237104415893555, 21.576387405395508, 3.647897243499756, 1.648887276649475, 1.1968562602996826, 1.020521879196167, 0.9156907200813293]\n",
      "[0.7685623168945312, 1.932023048400879, 3.4145514965057373, 4.442034721374512, 1.903786301612854, 1.1304540634155273, 1.043508529663086, 0.34655338525772095, 0.24361605942249298, 0.11646447330713272]\n",
      "[9.093957901000977, 23.647377014160156, 20.825307846069336, 13.359150886535645, 8.630556106567383, 4.627182960510254, 4.103605270385742, 3.7721500396728516, 3.488847255706787, 3.251279354095459]\n",
      "[1.0878385305404663, 1.0577726364135742, 2.1511037349700928, 5.432995319366455, 3.0590813159942627, 0.3072219491004944, 0.3463950753211975, 0.4010070860385895, 0.1617487072944641, 0.12503227591514587]\n",
      "[3.2179222106933594, 6.083540916442871, 22.817546844482422, 17.3939208984375, 26.535236358642578, 7.708573341369629, 5.624636173248291, 3.672429323196411, 3.311232328414917, 3.07059645652771]\n",
      "[3.5149245262145996, 22.117206573486328, 10.30799674987793, 10.9357271194458, 20.979047775268555, 11.082707405090332, 3.330397129058838, 2.5708916187286377, 2.293462038040161, 2.1362528800964355]\n",
      "[0.2305687963962555, 3.1589951515197754, 13.009946823120117, 4.316418647766113, 2.3346335887908936, 0.6598357558250427, 0.24588115513324738, 0.1731378734111786, 0.15656621754169464, 0.14222680032253265]\n",
      "[1.1518949270248413, 2.062469482421875, 4.869100570678711, 7.945273399353027, 13.321395874023438, 13.013811111450195, 7.4758148193359375, 1.7548208236694336, 1.0733685493469238, 0.5848023891448975]\n",
      "[0.7503620386123657, 9.43747615814209, 5.198248863220215, 5.946574687957764, 1.897801399230957, 2.420506238937378, 1.3906590938568115, 0.6627553701400757, 0.3603287935256958, 0.27740177512168884]\n",
      "[2.356377124786377, 17.36027717590332, 31.53934097290039, 11.838290214538574, 4.203780174255371, 3.4536635875701904, 3.033140182495117, 2.693005084991455, 2.456078290939331, 2.3085103034973145]\n",
      "[0.5377072095870972, 7.736960411071777, 8.865817070007324, 25.63606834411621, 20.884506225585938, 108.43875885009766, 34.131317138671875, 1.1400307416915894, 0.853823184967041, 0.7835792303085327]\n",
      "[9.500650405883789, 147.74386596679688, 1438.07763671875, 92422.890625, 806590848.0, 1.416054387910246e+33, inf, nan, nan, nan]\n",
      "[0.27026963233947754, 4.425707817077637, 25.036922454833984, 18.377111434936523, 5.111301898956299, 3.0569007396698, 1.5526390075683594, 3.2589287757873535, 0.8858238458633423, 0.738579273223877]\n",
      "[3.5422635078430176, 2.151527166366577, 0.9629898071289062, 1.433403730392456, 3.226536989212036, 6.960885047912598, 2.7732677459716797, 0.3299313187599182, 0.15912294387817383, 0.11353783309459686]\n",
      "[4.873651027679443, 10.38626766204834, 5.283517360687256, 2.9857523441314697, 2.0324089527130127, 0.9281309843063354, 0.907509982585907, 0.9412664175033569, 1.456082820892334, 1.0682814121246338]\n",
      "[3.433790683746338, 16.348159790039062, 25.86283302307129, 62.540252685546875, 21.869945526123047, 4.047904014587402, 3.237122058868408, 2.852017402648926, 2.698441982269287, 2.541719913482666]\n",
      "[4.746847629547119, 13.574877738952637, 9.701031684875488, 11.295341491699219, 7.93475341796875, 1.7227061986923218, 0.8733469247817993, 0.7172091603279114, 0.601385772228241, 0.3681620955467224]\n",
      "[0.3530579209327698, 2.4419169425964355, 36.021636962890625, 17.43931007385254, 35.969581604003906, 6.063259124755859, 0.6718815565109253, 0.5645620226860046, 0.49787575006484985, 0.45183348655700684]\n",
      "[10.016436576843262, 5.973516464233398, 31.1799373626709, 93.41490173339844, 7.567460060119629, 7.249640464782715, 6.9893388748168945, 6.771350860595703, 6.5523834228515625, 6.337266445159912]\n",
      "[2.9430575370788574, 11.166418075561523, 16.30071449279785, 4.5187907218933105, 2.4426445960998535, 1.703080177307129, 1.2980924844741821, 1.0050387382507324, 0.7627571225166321, 0.576758623123169]\n",
      "[0.6220923662185669, 0.8901380300521851, 1.0606446266174316, 1.2578279972076416, 1.3570350408554077, 1.3654470443725586, 3.499976634979248, 4.49278450012207, 3.5088627338409424, 1.3614864349365234]\n",
      "[0.9285901188850403, 2.2853446006774902, 13.570180892944336, 4.025292873382568, 2.67787504196167, 1.051354169845581, 0.6084979772567749, 0.3240646719932556, 0.21039316058158875, 0.15580017864704132]\n",
      "[1.4695662260055542, 5.126279354095459, 13.860743522644043, 17.92976188659668, 20.00501251220703, 10.076691627502441, 3.3420307636260986, 2.4415977001190186, 2.057561159133911, 1.623558759689331]\n",
      "[9.228825569152832, 270.835693359375, 25818.494140625, 602820992.0, 6.658565333299514e+25, inf, nan, nan, nan, nan]\n",
      "[8.269194602966309, 59.89863967895508, 8.796897888183594, 129.4735870361328, 153.4374237060547, 45.88283157348633, 4.220367908477783, 3.9878337383270264, 3.6166744232177734, 3.3631432056427]\n",
      "[1.2659755945205688, 0.6300172805786133, 0.3663429915904999, 0.5125353336334229, 0.6191345453262329, 0.8510177731513977, 0.7420246601104736, 0.7123835682868958, 0.5993984937667847, 0.5513955354690552]\n",
      "[1.4016540050506592, 1.728772759437561, 0.8314202427864075, 1.3515080213546753, 0.09169583022594452, 0.04038961976766586, 0.034267570823431015, 0.029902273789048195, 0.026517927646636963, 0.024754026904702187]\n",
      "[1.3955919742584229, 2.7092783451080322, 2.992204189300537, 3.5823967456817627, 4.001946449279785, 1.682480812072754, 1.2365413904190063, 1.327086329460144, 0.4808281362056732, 0.13216307759284973]\n",
      "[0.837734043598175, 3.0047411918640137, 11.613893508911133, 12.296537399291992, 11.120195388793945, 9.558744430541992, 0.7847574353218079, 0.37230342626571655, 0.25483566522598267, 0.183782160282135]\n",
      "[8.290644645690918, 98.54067993164062, 106.07447814941406, 181.42303466796875, 604.1688232421875, 54.0146369934082, 8.716470718383789, 7.428639888763428, 7.356308937072754, 7.287406921386719]\n"
     ]
    },
    {
     "name": "stdout",
     "output_type": "stream",
     "text": [
      "[3.0604138374328613, 4.576498031616211, 2.0877983570098877, 2.2186689376831055, 2.5619614124298096, 3.67999005317688, 1.5006197690963745, 1.0660983324050903, 0.31599095463752747, 0.18097750842571259]\n",
      "[3.9070117473602295, 20.108089447021484, 46.38494110107422, 5.493555545806885, 9.546243667602539, 9.120251655578613, 4.955931186676025, 2.4681899547576904, 2.0007407665252686, 1.7521007061004639]\n",
      "[4.407554626464844, 8.472692489624023, 7.406599521636963, 48.49821090698242, 77.69458770751953, 314.1492004394531, 3162.8603515625, 87543.484375, 76924827205632.0, 1.992487317749294e+32]\n",
      "[4.05634069442749, 4.233675956726074, 10.564404487609863, 23.843904495239258, 5.81023645401001, 8.874509811401367, 4.847044944763184, 2.3413171768188477, 1.6051013469696045, 1.4780676364898682]\n",
      "[0.04943571612238884, 0.13963407278060913, 0.8051366806030273, 12.637242317199707, 29.88591957092285, 19.772598266601562, 153.58213806152344, 13.773000717163086, 7.5353240966796875, 3.1755566596984863]\n",
      "[2.8820555210113525, 20.346202850341797, 17.354646682739258, 1.610547661781311, 1.6537230014801025, 3.0277252197265625, 1.3736131191253662, 0.9896629452705383, 0.5381210446357727, 0.11681497097015381]\n",
      "[4.016048431396484, 44.9546012878418, 59.58905029296875, 1947.9896240234375, 2709.071533203125, 490467.0, 99366504.0, 1.0400559864355706e+27, inf, nan]\n",
      "[11.926608085632324, 122.66619873046875, 9602.2646484375, 752641344.0, 8.584232199667939e+26, inf, nan, nan, nan, nan]\n",
      "[2.2104086875915527, 14.618162155151367, 41.32184982299805, 18.36920928955078, 18.603734970092773, 84.76028442382812, 16.064605712890625, 12.082109451293945, 2.337750196456909, 1.942753791809082]\n",
      "[0.9041104316711426, 0.8204660415649414, 3.770188808441162, 4.048989295959473, 8.621598243713379, 2.6256518363952637, 0.32468539476394653, 0.09890447556972504, 0.09208361059427261, 0.11623804271221161]\n",
      "[6.3194427490234375, 46.00358581542969, 59.02759552001953, 556.3409423828125, 13456.6357421875, 22364618.0, 1.0162570717545129e+25, inf, nan, nan]\n",
      "[1.7102928161621094, 10.436972618103027, 11.723283767700195, 7.259436130523682, 12.044808387756348, 3.972944974899292, 1.0635759830474854, 0.8483679890632629, 0.9620704650878906, 1.1861417293548584]\n",
      "[12.291461944580078, 11.22555160522461, 5.457077503204346, 1.0081595182418823, 0.5870952606201172, 0.4027211666107178, 0.28812822699546814, 0.21043595671653748, 0.15642544627189636, 0.11684904247522354]\n",
      "[10.016118049621582, 127.3841323852539, 13598.568359375, 254887120.0, 6.565871305417372e+22, inf, nan, nan, nan, nan]\n",
      "[4.116872310638428, 19.026897430419922, 63.94063186645508, 46.76972961425781, 127.4622802734375, 5.484248161315918, 3.3413124084472656, 2.865022659301758, 2.588707447052002, 2.407175302505493]\n",
      "[0.11280055344104767, 4.34037446975708, 42.71508026123047, 108.75550842285156, 773.0775146484375, 184473.15625, 839804032.0, 8.06057359783315e+23, inf, nan]\n",
      "[2.083110809326172, 15.351158142089844, 19.508724212646484, 6.891422271728516, 1.860945463180542, 0.39639970660209656, 0.22451265156269073, 0.14890532195568085, 0.18326173722743988, 0.24351921677589417]\n",
      "[5.789431095123291, 12.022995948791504, 2.8179893493652344, 3.2524971961975098, 18.46087646484375, 53.20892333984375, 7.957964897155762, 7.729093074798584, 6.131511688232422, 5.4222588539123535]\n",
      "[0.3700021207332611, 2.7821459770202637, 12.169919967651367, 14.243064880371094, 10.001771926879883, 1.5246508121490479, 0.31784898042678833, 0.18024758994579315, 0.13422247767448425, 0.11098664999008179]\n",
      "[0.07452274113893509, 0.5751017928123474, 5.20264196395874, 9.342475891113281, 13.174688339233398, 2.005932092666626, 0.5905261635780334, 0.21487896144390106, 0.07877786457538605, 0.04711240530014038]\n",
      "[0.6299203634262085, 0.8236448168754578, 0.14286170899868011, 0.10475526005029678, 0.12170374393463135, 0.2819001078605652, 1.1894394159317017, 4.915181636810303, 6.3051323890686035, 1.6304466724395752]\n",
      "[0.215658038854599, 1.9264795780181885, 5.322264194488525, 7.625166416168213, 7.888899803161621, 6.767971038818359, 6.112161159515381, 2.3700664043426514, 0.21860094368457794, 0.15983697772026062]\n",
      "[4.412712574005127, 13.379318237304688, 14.689396858215332, 13.488574028015137, 6.026944160461426, 5.11549711227417, 4.7615065574646, 1.8480989933013916, 1.4483520984649658, 1.1809073686599731]\n",
      "[9.476241111755371, 134.43829345703125, 98.20885467529297, 5275.36962890625, 1868.416015625, 876671.875, 18171081785344.0, inf, nan, nan]\n",
      "[17.054119110107422, 365.2454833984375, 5813.4609375, 470581.9375, 706453372928.0, inf, inf, nan, nan, nan]\n",
      "[4.006094932556152, 6.289072513580322, 14.988410949707031, 9.651704788208008, 2.0469021797180176, 1.5153841972351074, 1.2731093168258667, 1.095130205154419, 1.1112399101257324, 1.1363525390625]\n",
      "[1.9804140329360962, 9.210931777954102, 21.266218185424805, 33.134761810302734, 16.725751876831055, 2.7062153816223145, 2.6885104179382324, 3.4235401153564453, 4.1622467041015625, 4.875884056091309]\n",
      "[0.15741857886314392, 0.19237132370471954, 3.5059502124786377, 27.071619033813477, 8.704916954040527, 4.329483985900879, 3.8683018684387207, 2.317577600479126, 1.3492810726165771, 0.9362319707870483]\n",
      "[0.24825918674468994, 3.5983211994171143, 29.648456573486328, 7.90453577041626, 4.92207145690918, 4.73234224319458, 3.7887256145477295, 3.4586341381073, 1.554862380027771, 1.196838617324829]\n",
      "[5.5468878746032715, 10.566774368286133, 46.87046432495117, 104.11531829833984, 14.644670486450195, 12.038125991821289, 18.164880752563477, 2.5946640968322754, 2.2124035358428955, 1.9597886800765991]\n",
      "[2.1413958072662354, 13.493104934692383, 37.716064453125, 69.57899475097656, 32.74541473388672, 5608.29052734375, 9768585.0, 3.269298527857027e+22, inf, nan]\n",
      "[0.7320324182510376, 4.537091255187988, 3.4247570037841797, 7.496449947357178, 1.4317662715911865, 0.26555588841438293, 0.23194411396980286, 0.24912846088409424, 0.24420268833637238, 0.2714146375656128]\n",
      "[1.3336703777313232, 10.114489555358887, 6.897050380706787, 3.273253917694092, 3.1778054237365723, 1.2193663120269775, 0.5933412313461304, 0.37915101647377014, 0.3226756155490875, 0.2748172879219055]\n",
      "[7.239561557769775, 30.353591918945312, 50.046119689941406, 6.961318016052246, 32.50539779663086, 131.29513549804688, 166.09683227539062, 77.18780517578125, 1006.19482421875, 473.8126525878906]\n",
      "[7.089285373687744, 19.60396957397461, 9.494332313537598, 2.171443223953247, 3.2367184162139893, 8.246442794799805, 15.749719619750977, 2.116926670074463, 2.188337802886963, 3.03068208694458]\n",
      "[1.159973382949829, 3.8812294006347656, 0.837180495262146, 1.0656654834747314, 1.2199742794036865, 1.7722841501235962, 1.479444980621338, 0.943088710308075, 0.4685540199279785, 0.14956533908843994]\n",
      "[0.06752973794937134, 1.894780158996582, 27.23642349243164, 69.51110076904297, 3732.750732421875, 93180752.0, 1.087311488975444e+22, inf, nan, nan]\n",
      "[0.7928163409233093, 3.667668104171753, 10.269929885864258, 2.417680025100708, 1.5836114883422852, 0.7496871948242188, 0.283122718334198, 0.09124423563480377, 0.07061557471752167, 0.05528419092297554]\n",
      "[3.7451319694519043, 48.39142608642578, 64.09181213378906, 939.5828857421875, 158558.953125, 5295947907072.0, inf, nan, nan, nan]\n",
      "[1.0260083675384521, 6.437288761138916, 21.323272705078125, 8.232131958007812, 0.653882622718811, 0.5362535715103149, 0.4805086553096771, 1.4301252365112305, 3.529384136199951, 5.302452087402344]\n",
      "[0.7273836135864258, 5.840250492095947, 6.853220462799072, 17.298063278198242, 11.96025276184082, 6.2474470138549805, 12.74063777923584, 1.0516252517700195, 0.7980203628540039, 0.7179495096206665]\n",
      "[0.5609617233276367, 1.5292940139770508, 9.54610538482666, 1.6102319955825806, 1.6492325067520142, 5.282477855682373, 2.705817937850952, 2.7580533027648926, 0.1688460111618042, 0.10112208127975464]\n",
      "[1.2172996997833252, 5.581446647644043, 17.20568084716797, 19.700599670410156, 17.384593963623047, 87.97135925292969, 3.444506883621216, 3.968500852584839, 13.117663383483887, 32.00325393676758]\n",
      "[3.4658379554748535, 7.561588287353516, 10.997190475463867, 16.7842960357666, 12.993598937988281, 10.062268257141113, 2.1405138969421387, 1.2434827089309692, 1.0389959812164307, 1.242217779159546]\n",
      "[3.094031572341919, 8.878351211547852, 1.4338816404342651, 1.474401593208313, 1.716295838356018, 4.5408196449279785, 0.5344017744064331, 0.19921384751796722, 0.13837575912475586, 0.10357649624347687]\n",
      "[1.0826494693756104, 3.937457323074341, 27.3570613861084, 511.5682067871094, 11772.498046875, 2232143360.0, 4.683833664865576e+31, inf, nan, nan]\n",
      "[0.19947825372219086, 2.8953943252563477, 15.336166381835938, 16.09759521484375, 5.636157989501953, 5.190296173095703, 1.5758588314056396, 1.1381984949111938, 0.09064168483018875, 0.051804691553115845]\n",
      "[1.9171779155731201, 10.578958511352539, 42.3123893737793, 9.508654594421387, 1.8809411525726318, 0.6911885738372803, 0.3729344308376312, 0.22660966217517853, 0.1741405874490738, 0.19312338531017303]\n",
      "[1.3810861110687256, 1.993687391281128, 1.3721553087234497, 0.8045104742050171, 0.48992568254470825, 0.5795786380767822, 0.8450607061386108, 1.0822747945785522, 0.7217839956283569, 0.48156577348709106]\n",
      "[1.60153329372406, 11.896445274353027, 10.963857650756836, 21.469097137451172, 7.302060604095459, 1.1953871250152588, 0.7808400392532349, 0.5287362337112427, 0.36959248781204224, 0.2863149344921112]\n"
     ]
    },
    {
     "name": "stdout",
     "output_type": "stream",
     "text": [
      "[1.4720582962036133, 3.1515402793884277, 3.5715458393096924, 17.111669540405273, 24.501508712768555, 2.171611785888672, 1.346627116203308, 1.0254814624786377, 0.8459450602531433, 0.665177583694458]\n",
      "[0.08162108063697815, 0.16087117791175842, 3.0764424800872803, 17.080047607421875, 5.493567943572998, 1.276853084564209, 3.127181053161621, 4.921764850616455, 0.8126391172409058, 0.32163554430007935]\n",
      "[0.3482283651828766, 0.08659553527832031, 0.09610521048307419, 0.8759449124336243, 3.107725143432617, 3.495344638824463, 0.5898709297180176, 0.3999002277851105, 0.6316243410110474, 0.08609603345394135]\n",
      "[1.115863561630249, 2.289801597595215, 3.9137611389160156, 6.180672645568848, 5.957222938537598, 1.4847509860992432, 0.5220314860343933, 0.11139263957738876, 0.0634099468588829, 0.04827450215816498]\n",
      "[3.59558367729187, 12.935453414916992, 11.47669792175293, 31.79561996459961, 19.746631622314453, 26.009662628173828, 1.609894037246704, 2.1354267597198486, 0.8187235593795776, 0.749096155166626]\n",
      "[6.927694797515869, 8.548445701599121, 14.312151908874512, 28.473485946655273, 7.7373456954956055, 0.42715150117874146, 0.19806727766990662, 0.1593834012746811, 0.13362276554107666, 0.11472276598215103]\n",
      "[6.0151286125183105, 27.768875122070312, 77.81575775146484, 7.150374412536621, 6.408822536468506, 6.12418270111084, 5.92891788482666, 5.765803337097168, 5.633200645446777, 5.504899024963379]\n",
      "[1.5770622491836548, 15.301900863647461, 59.05696487426758, 13.938191413879395, 9.415342330932617, 13.873873710632324, 4.081917762756348, 0.9406244158744812, 0.6478954553604126, 0.5605020523071289]\n",
      "[3.0663933753967285, 5.6474714279174805, 1.3808410167694092, 1.407141089439392, 2.32565975189209, 3.794675827026367, 3.2087082862854004, 0.5676141381263733, 0.21941527724266052, 0.061528611928224564]\n",
      "[5.107000827789307, 70.72471618652344, 110.57763671875, 10.769670486450195, 20.37143898010254, 5.800894737243652, 4.030871868133545, 3.741980791091919, 3.4655003547668457, 3.1676430702209473]\n",
      "[1.12868332862854, 2.951220989227295, 19.321834564208984, 27.767810821533203, 12.848806381225586, 5.066545486450195, 4.135393142700195, 3.8962020874023438, 3.589251756668091, 3.518263578414917]\n",
      "[0.05312616378068924, 0.1583642214536667, 1.5702905654907227, 6.997844696044922, 3.4986572265625, 2.56654691696167, 1.863101601600647, 0.2016926109790802, 0.06626959890127182, 0.03634903207421303]\n",
      "[4.706455707550049, 35.70676040649414, 86.4052505493164, 32.383399963378906, 30.560516357421875, 50.027305603027344, 5.926614284515381, 5.273735523223877, 4.955951690673828, 4.729705810546875]\n",
      "[0.42355236411094666, 3.9805374145507812, 16.758451461791992, 12.606452941894531, 47.529144287109375, 41.856361389160156, 233.0926513671875, 44.93760681152344, 4.8855390548706055, 3.6993165016174316]\n",
      "[2.05906081199646, 5.789138317108154, 6.800851345062256, 4.955838680267334, 1.8194477558135986, 1.1620914936065674, 1.1040470600128174, 0.2886381447315216, 0.07965809106826782, 0.06988644599914551]\n",
      "[1.1691348552703857, 8.499300003051758, 21.425174713134766, 30.483291625976562, 20.283445358276367, 33.154075622558594, 1.5566757917404175, 1.1575273275375366, 0.9381282925605774, 0.798266589641571]\n",
      "[1.7201915979385376, 3.6425399780273438, 1.7895915508270264, 1.3927894830703735, 0.6155423521995544, 0.23304533958435059, 0.2458345592021942, 0.21258631348609924, 0.20125088095664978, 0.05366908386349678]\n",
      "[2.0363895893096924, 10.446101188659668, 41.63268280029297, 284.82623291015625, 5748.92431640625, 1512027.125, 5.363906917066342e+16, inf, nan, nan]\n",
      "[1.4499890804290771, 4.928660869598389, 12.276488304138184, 11.137110710144043, 4.95156192779541, 9.295371055603027, 2.830740451812744, 0.6877363324165344, 0.3092544674873352, 0.2461618185043335]\n",
      "[1.2560067176818848, 12.386488914489746, 22.064891815185547, 4.388095855712891, 0.3222962021827698, 0.04509362578392029, 0.0156053826212883, 0.011484835296869278, 0.010105980560183525, 0.009197368286550045]\n",
      "[1.5667102336883545, 9.947423934936523, 14.784910202026367, 6.469682216644287, 4.63419246673584, 11.832695007324219, 1.4106390476226807, 0.48157256841659546, 0.07853279262781143, 0.03308860585093498]\n",
      "[0.16738954186439514, 0.5559878349304199, 11.764649391174316, 58.397979736328125, 233.10775756835938, 1236.5029296875, 819.2886962890625, 119994.4609375, 481750581248.0, 4.202797005222527e+36]\n",
      "[1.565772294998169, 12.588277816772461, 45.1526985168457, 8.983288764953613, 8.273435592651367, 1.3984715938568115, 0.9113625288009644, 0.6023831367492676, 0.4170099198818207, 0.33917394280433655]\n",
      "[0.0264422707259655, 0.04634791985154152, 0.15147848427295685, 0.7610034942626953, 4.001776695251465, 2.6032681465148926, 1.0208429098129272, 1.078739881515503, 1.8822104930877686, 1.97733473777771]\n",
      "[7.21545934677124, 23.835805892944336, 30.513660430908203, 21.248260498046875, 19.246171951293945, 17.70587158203125, 6.6904401779174805, 5.267637729644775, 4.013421058654785, 2.703371286392212]\n",
      "[0.9429839849472046, 9.15942096710205, 33.09010696411133, 7.601626396179199, 0.6972633600234985, 0.4521814286708832, 0.37855589389801025, 0.33733686804771423, 0.3058106601238251, 0.2800876200199127]\n",
      "[1.2781517505645752, 14.405787467956543, 8.825017929077148, 14.15766429901123, 0.3330126404762268, 0.2556442618370056, 0.2621028423309326, 0.28163719177246094, 0.29592931270599365, 0.3255167603492737]\n",
      "[5.010117530822754, 7.077059745788574, 1.5156488418579102, 3.86712384223938, 3.809234619140625, 2.8634390830993652, 1.2071471214294434, 0.6860077381134033, 0.28095299005508423, 0.10477955639362335]\n",
      "[0.9196029901504517, 5.880181789398193, 18.330303192138672, 15.772130966186523, 26.904659271240234, 2.523994207382202, 4.5059285163879395, 29.72239112854004, 18.07114028930664, 11.414909362792969]\n",
      "[0.2600378096103668, 1.4719072580337524, 20.894367218017578, 8.659111976623535, 19.55907440185547, 16.153118133544922, 1.35528564453125, 0.33313536643981934, 0.08764248341321945, 0.02288583107292652]\n",
      "[0.9527525901794434, 4.386651039123535, 4.600220680236816, 17.29320526123047, 13.005388259887695, 8.928400993347168, 5.790080547332764, 0.46816033124923706, 0.31051111221313477, 0.2862318754196167]\n",
      "[0.3616790175437927, 0.5762119293212891, 1.1509047746658325, 3.7119011878967285, 20.530271530151367, 32.64976501464844, 36.43147277832031, 27.52052879333496, 44.44445037841797, 16.87626838684082]\n",
      "[6.252441883087158, 38.0493278503418, 15.909669876098633, 14.877182006835938, 12.154277801513672, 10.516942024230957, 6.925443172454834, 5.074203014373779, 3.2368500232696533, 2.7595386505126953]\n",
      "[2.769498348236084, 37.943634033203125, 79.42034149169922, 228.7625274658203, 1475.3536376953125, 600.9046020507812, 6500.2119140625, 80188.9296875, 7263593955328.0, 234115514368.0]\n",
      "[0.7150408625602722, 2.0611183643341064, 7.583561897277832, 31.3055362701416, 14.141491889953613, 121.14479064941406, 52.4644775390625, 4.354487419128418, 63.33845901489258, 152.07980346679688]\n",
      "[0.16367043554782867, 2.206319570541382, 21.248388290405273, 11.820127487182617, 47.443572998046875, 67.79480743408203, 183.40383911132812, 454.65557861328125, 21.59600257873535, 986.7001953125]\n",
      "[5.324402809143066, 10.344930648803711, 4.768933296203613, 7.1836042404174805, 9.54387092590332, 2.7246572971343994, 1.722781777381897, 1.3949391841888428, 1.2224693298339844, 1.085087537765503]\n",
      "[2.38629412651062, 5.591597557067871, 29.707345962524414, 68.02236938476562, 103.6936264038086, 12.671655654907227, 8.495906829833984, 6.916848659515381, 6.101104259490967, 5.42432165145874]\n",
      "[1.8792823553085327, 5.11924409866333, 8.76548957824707, 5.194050312042236, 0.6335821747779846, 0.3635220527648926, 0.2561919093132019, 0.19862887263298035, 0.16064384579658508, 0.1326787918806076]\n",
      "[5.421164035797119, 29.278024673461914, 60.54047775268555, 952.09228515625, 593778.5, 1304958167154688.0, inf, nan, nan, nan]\n",
      "[6.983611106872559, 13.093687057495117, 25.883590698242188, 10.627408981323242, 26.328622817993164, 18.005016326904297, 9.753950119018555, 6.413832187652588, 5.680917739868164, 5.16170072555542]\n",
      "[2.2361295223236084, 15.999496459960938, 26.743335723876953, 31.711162567138672, 70.51023864746094, 6.243870735168457, 20.859241485595703, 17.32945442199707, 2.782440185546875, 1.915553092956543]\n",
      "[0.7622169256210327, 1.967751145362854, 12.034055709838867, 12.238248825073242, 15.329185485839844, 1.0652010440826416, 0.469979852437973, 0.3573392927646637, 0.2292323112487793, 0.19103936851024628]\n",
      "[1.0405237674713135, 1.6084436178207397, 3.3618061542510986, 25.065378189086914, 42.03776931762695, 89.7074203491211, 30.31890869140625, 1488.7132568359375, 270065.75, 279057984.0]\n",
      "[3.2211673259735107, 4.157788276672363, 10.272637367248535, 9.283712387084961, 6.209769248962402, 5.008612155914307, 2.6484925746917725, 0.6300971508026123, 0.34191304445266724, 0.23562471568584442]\n",
      "[0.2150309532880783, 1.259840726852417, 18.994651794433594, 13.720202445983887, 12.81456470489502, 5.225526809692383, 0.9033044576644897, 0.2957269251346588, 0.1586427390575409, 0.0977056547999382]\n",
      "[0.4121858477592468, 2.6217074394226074, 3.7942986488342285, 8.871820449829102, 10.323465347290039, 1.3884483575820923, 1.0677268505096436, 0.9160711169242859, 0.5723368525505066, 0.2561160922050476]\n",
      "[0.7270522713661194, 1.3340932130813599, 10.306166648864746, 8.039725303649902, 3.0643749237060547, 1.6834596395492554, 0.958060622215271, 0.16129551827907562, 0.07037155330181122, 0.04586083069443703]\n",
      "[7.676203727722168, 55.02018356323242, 421.1231994628906, 35770.54296875, 39260.8203125, 1564239705669632.0, inf, nan, nan, nan]\n",
      "[3.6563401222229004, 15.196004867553711, 3.0693917274475098, 0.7929408550262451, 0.2945590615272522, 0.2504902184009552, 0.28176259994506836, 0.3947450518608093, 0.6495782136917114, 1.0395337343215942]\n"
     ]
    },
    {
     "name": "stdout",
     "output_type": "stream",
     "text": [
      "[1.300119400024414, 1.17926025390625, 9.367740631103516, 5.651474475860596, 10.36318588256836, 4.003733158111572, 5.954789161682129, 0.1391616314649582, 0.09781038016080856, 0.07122118026018143]\n",
      "[0.9819167852401733, 9.513948440551758, 0.843197226524353, 1.0245535373687744, 3.219480514526367, 6.564061641693115, 2.7426419258117676, 3.2010066509246826, 1.0717227458953857, 0.36228305101394653]\n",
      "[0.8637033700942993, 1.6676247119903564, 21.78196144104004, 30.000652313232422, 32.39308547973633, 10.469374656677246, 2.3665215969085693, 0.7389982342720032, 0.4505622386932373, 0.3394728899002075]\n",
      "[5.018026351928711, 15.85236930847168, 28.10009765625, 5.419142246246338, 2.488743305206299, 0.7681301832199097, 0.5868547558784485, 0.43486061692237854, 0.39423999190330505, 0.46924036741256714]\n",
      "[1.214277982711792, 5.889034748077393, 6.085082054138184, 1.1320449113845825, 0.11993887275457382, 0.048060834407806396, 0.031842783093452454, 0.024705717340111732, 0.018315117806196213, 0.015011665411293507]\n",
      "[0.899461567401886, 3.3395588397979736, 11.73240852355957, 7.4987053871154785, 11.332014083862305, 10.245549201965332, 3.4256176948547363, 2.0988707542419434, 1.1545155048370361, 0.7861634492874146]\n",
      "[1.1420371532440186, 2.2472479343414307, 7.061304569244385, 7.628405570983887, 1.783060073852539, 0.2575828433036804, 0.10975965112447739, 0.0524078793823719, 0.03224358707666397, 0.021751923486590385]\n",
      "[4.657232761383057, 1.680446982383728, 0.3976729214191437, 2.4199719429016113, 1.602648377418518, 1.6527551412582397, 0.120921790599823, 0.19442743062973022, 0.9885659217834473, 1.4017517566680908]\n",
      "[0.8414139747619629, 2.983720302581787, 8.888774871826172, 20.67157745361328, 8.227128982543945, 8.117558479309082, 2.3467843532562256, 2.7961721420288086, 0.07892711460590363, 0.02737848088145256]\n",
      "[1.18330979347229, 5.110995769500732, 4.0364603996276855, 12.093509674072266, 2.775153636932373, 0.5270393490791321, 0.05365363508462906, 0.035536445677280426, 0.027398984879255295, 0.021592479199171066]\n",
      "[1.2478002309799194, 1.4514899253845215, 0.9029965400695801, 1.271828532218933, 2.7110707759857178, 15.456008911132812, 10.6915864944458, 7.593251705169678, 0.5721414089202881, 0.161088228225708]\n",
      "[8.058187484741211, 10.925882339477539, 30.546985626220703, 18.123470306396484, 41.367801666259766, 4.72307825088501, 3.5199711322784424, 2.9471423625946045, 2.4366397857666016, 2.0071239471435547]\n",
      "[1.187013864517212, 5.301614284515381, 4.732617378234863, 7.985105037689209, 2.1891114711761475, 2.624000072479248, 1.707564115524292, 1.3439134359359741, 0.5419400930404663, 0.3691868185997009]\n",
      "[5.781434535980225, 161.35418701171875, 14398.482421875, 5011849728.0, 1.4106430413193514e+25, inf, nan, nan, nan, nan]\n",
      "[1.0729001760482788, 4.864274501800537, 8.764876365661621, 7.375093936920166, 1.772573471069336, 0.8113985061645508, 0.7996848821640015, 0.8346818685531616, 0.5636135339736938, 0.5609041452407837]\n",
      "[0.044798582792282104, 0.22457687556743622, 1.60238778591156, 7.78562068939209, 9.618168830871582, 5.827114105224609, 2.833508014678955, 1.3933786153793335, 0.3017866611480713, 0.15176638960838318]\n",
      "[2.0029542446136475, 7.67730712890625, 6.0779008865356445, 5.894903182983398, 3.5246307849884033, 1.4429512023925781, 0.3206031918525696, 0.12454072386026382, 0.06414772570133209, 0.04810198396444321]\n",
      "[5.432812690734863, 8.899418830871582, 18.295839309692383, 146.24119567871094, 22.762727737426758, 11.642160415649414, 16.282135009765625, 6.374043941497803, 3.6502845287323, 2.5646259784698486]\n",
      "[0.61418616771698, 2.7615835666656494, 6.085119724273682, 8.169865608215332, 3.441896438598633, 1.9141467809677124, 0.16648009419441223, 0.06519057601690292, 0.06490980833768845, 0.051656801253557205]\n",
      "[0.5439416170120239, 0.7672339081764221, 3.634540557861328, 11.65080451965332, 4.071199893951416, 1.5799068212509155, 0.42117947340011597, 0.03296155110001564, 0.011996006593108177, 0.008177291601896286]\n",
      "[3.995283603668213, 18.895565032958984, 27.405380249023438, 15.81273078918457, 20.23674201965332, 26.105072021484375, 13.153970718383789, 5.22887659072876, 3.985903263092041, 3.0215859413146973]\n",
      "[0.5704270005226135, 0.4400574564933777, 0.2804770767688751, 0.350581556558609, 0.6615362167358398, 1.268822431564331, 1.4152435064315796, 0.9406115412712097, 0.6758146286010742, 0.07657025009393692]\n",
      "[0.00878429040312767, 0.00600697984918952, 0.024174721911549568, 0.7014356851577759, 13.433523178100586, 30.90018653869629, 33.63481521606445, 49.05584716796875, 130.8917999267578, 102.92940521240234]\n",
      "[4.787358283996582, 4.613299369812012, 5.641144275665283, 10.292847633361816, 14.329217910766602, 21.292898178100586, 17.48843765258789, 36.02531814575195, 8.48672103881836, 4.727749824523926]\n",
      "[1.070237398147583, 1.227107286453247, 2.381791830062866, 12.488641738891602, 10.339638710021973, 7.326603889465332, 12.30029010772705, 0.18342217803001404, 0.12951675057411194, 0.10269612073898315]\n",
      "[1.0292553901672363, 2.6897389888763428, 7.011858940124512, 9.033153533935547, 0.6073774695396423, 0.21817520260810852, 0.12425351142883301, 0.03252514451742172, 0.018304744735360146, 0.014143389649689198]\n",
      "[0.6914586424827576, 6.552646636962891, 34.696922302246094, 104.88287353515625, 12.234212875366211, 258.9833679199219, 21270.140625, 416385.375, 5.882823164962013e+18, inf]\n",
      "[0.19165123999118805, 0.46466612815856934, 3.596127986907959, 20.339879989624023, 29.026620864868164, 66.59767150878906, 40.779212951660156, 20.75411033630371, 5.707056999206543, 4.244740009307861]\n",
      "[0.7695427536964417, 1.4241241216659546, 15.298698425292969, 10.81187629699707, 5.644192218780518, 2.4533400535583496, 1.1739757061004639, 0.5287002325057983, 0.3107519745826721, 0.19891472160816193]\n",
      "[2.288084030151367, 12.157121658325195, 13.715423583984375, 17.350841522216797, 24.886974334716797, 6.730169773101807, 8.909398078918457, 5.427312850952148, 2.090158700942993, 0.9333089590072632]\n",
      "[6.666059970855713, 17.88542366027832, 9.762922286987305, 41.016441345214844, 21.307241439819336, 5.169499397277832, 3.9507014751434326, 3.599358320236206, 3.2132821083068848, 2.712848424911499]\n",
      "[0.701550304889679, 6.301062107086182, 19.590946197509766, 15.08537769317627, 5.610249042510986, 2.4608139991760254, 1.8511930704116821, 1.2772465944290161, 0.9628955721855164, 0.8096467852592468]\n",
      "[0.6769979000091553, 2.008165121078491, 5.750729560852051, 4.160409450531006, 13.921630859375, 23.138978958129883, 20.4676456451416, 59.28867721557617, 60.89324951171875, 2620.26611328125]\n",
      "[2.5962586402893066, 5.503147602081299, 13.952049255371094, 20.757822036743164, 7.827801704406738, 3.144040584564209, 2.8206067085266113, 2.0446572303771973, 1.520378828048706, 1.2195032835006714]\n",
      "[0.3781048059463501, 2.027949810028076, 5.219731330871582, 7.881675720214844, 2.2580761909484863, 0.8424656987190247, 1.1950995922088623, 0.7511695623397827, 1.2079529762268066, 1.3847907781600952]\n",
      "[1.5284672975540161, 16.751808166503906, 156.83558654785156, 48.73192596435547, 953.3054809570312, 16.778839111328125, 3.3358287811279297, 2.1367037296295166, 1.9232181310653687, 1.7975828647613525]\n",
      "[0.9624811410903931, 0.42905062437057495, 2.3698811531066895, 9.68515396118164, 3.672851085662842, 1.0872251987457275, 1.5163650512695312, 5.494748115539551, 7.0291924476623535, 0.8760083317756653]\n",
      "[0.6350394487380981, 4.943314075469971, 14.908991813659668, 7.129988670349121, 4.064906597137451, 3.638698101043701, 4.3159403800964355, 3.410263776779175, 2.289443254470825, 1.0482929944992065]\n",
      "[1.0293670892715454, 6.369546413421631, 19.47447967529297, 45.23930358886719, 58.322715759277344, 1114.4798583984375, 266.1513977050781, 337.5536193847656, 3883.861328125, 2.9156808853149414]\n",
      "[1.2412813901901245, 2.869476795196533, 16.140762329101562, 18.899097442626953, 21.724422454833984, 13.889823913574219, 5.523272514343262, 3.213726758956909, 2.0723071098327637, 1.6014795303344727]\n",
      "[4.623703956604004, 11.961800575256348, 21.679948806762695, 5.6667656898498535, 3.190870761871338, 2.5763862133026123, 5.463944435119629, 5.663054466247559, 2.364743947982788, 1.4016749858856201]\n",
      "[9.000134468078613, 62.68718719482422, 165.593017578125, 1515.193115234375, 2754.20068359375, 187051.703125, 16067.5751953125, 29227997184.0, 4114788.75, 2004296.75]\n",
      "[1.1343806982040405, 3.2662670612335205, 15.011807441711426, 0.3039401173591614, 0.1504424661397934, 0.9763807058334351, 9.211978912353516, 14.460535049438477, 1.3101933002471924, 0.7313944101333618]\n",
      "[5.509933948516846, 3.08052134513855, 8.408830642700195, 16.929880142211914, 11.800297737121582, 8.534106254577637, 20.66141700744629, 16.435169219970703, 17.304210662841797, 4.2229719161987305]\n",
      "[3.1970410346984863, 5.1686835289001465, 10.357365608215332, 59.13044357299805, 91.4266357421875, 33.23102951049805, 193.04568481445312, 9154.876953125, 452487488.0, 4.020512509034176e+30]\n",
      "[9.49356460571289, 71.56475830078125, 22.04910659790039, 85.65538024902344, 32.9867057800293, 8.529475212097168, 8.187833786010742, 7.89312219619751, 7.616761207580566, 7.372564792633057]\n",
      "[0.8411661386489868, 2.5152971744537354, 16.112878799438477, 1.7193416357040405, 0.4970363676548004, 0.09314220398664474, 0.027190715074539185, 0.017701594159007072, 0.013432075269520283, 0.010628873482346535]\n",
      "[0.19788631796836853, 0.10065088421106339, 0.1045328825712204, 0.39478087425231934, 1.5212513208389282, 3.268094301223755, 4.640432834625244, 2.2548835277557373, 1.0521742105484009, 0.8173453211784363]\n",
      "[1.188539981842041, 10.670753479003906, 12.768937110900879, 7.32122802734375, 5.564828872680664, 2.336470127105713, 0.9729547500610352, 0.45460692048072815, 0.17014136910438538, 0.12034185975790024]\n",
      "[1.06320321559906, 1.926074743270874, 6.402207374572754, 7.240592956542969, 11.991413116455078, 4.080793380737305, 0.9682291150093079, 0.7095916867256165, 0.45751580595970154, 0.2634681761264801]\n"
     ]
    },
    {
     "name": "stdout",
     "output_type": "stream",
     "text": [
      "[1.5822720527648926, 3.426501750946045, 1.4149795770645142, 1.2929805517196655, 1.318656325340271, 1.0811858177185059, 0.7029444575309753, 0.503231406211853, 0.3308563828468323, 0.2892886698246002]\n",
      "[0.3665063977241516, 1.0029098987579346, 7.738008975982666, 18.690332412719727, 16.751298904418945, 10.077324867248535, 3.810034990310669, 1.2641639709472656, 0.4861976206302643, 0.39413443207740784]\n",
      "[11.70872688293457, 113.22064208984375, 456.8052673339844, 9919.9951171875, 9216.7177734375, 1693955584.0, 8180052.0, 320619.34375, 162959.703125, 1149304.625]\n"
     ]
    }
   ],
   "source": [
    "num_iterations = 400\n",
    "function_tasks = SineDistribution(0.1, 5, 0, np.pi, -5, 5)\n",
    "\n",
    "global_error = 0\n",
    "count = 0\n",
    "\n",
    "for i in range(num_iterations):\n",
    "    og_net=maml.net.net\n",
    "    optim=torch.optim.SGD\n",
    "    lr=0.01\n",
    "    \n",
    "    task=function_tasks.sample_task()\n",
    "    x,y=task.sample_data(K)\n",
    "    x=x.to(device)\n",
    "    y=y.to(device)\n",
    "    outputs,axis=test(og_net,x,y,lr,optim)\n",
    "    \n",
    "    error = 0\n",
    "    L = []\n",
    "    for i in range(len(x.numpy())):\n",
    "        L.append(int((5+x.numpy()[i][0])*100))\n",
    "    pred = []\n",
    "    for i in range(len(x.numpy())):\n",
    "        pred.append(outputs['minitrained'][L[i]][0])\n",
    "    y_ = []\n",
    "    for i in range(len(y.numpy())):\n",
    "        y_.append(y.numpy()[i][0])\n",
    "        \n",
    "    error = (np.linalg.norm(np.array(y_)-np.array(pred)))\n",
    "    if error < 1000 and error > -1000:\n",
    "        global_error += error\n",
    "        count +=1\n",
    "        \n",
    "global_error = global_error/count"
   ]
  },
  {
   "cell_type": "code",
   "execution_count": 281,
   "metadata": {},
   "outputs": [
    {
     "data": {
      "text/plain": [
       "<Figure size 720x360 with 0 Axes>"
      ]
     },
     "metadata": {},
     "output_type": "display_data"
    },
    {
     "data": {
      "image/png": "[encoded data removed]",
      "text/plain": [
       "<Figure size 432x288 with 1 Axes>"
      ]
     },
     "metadata": {
      "needs_background": "light"
     },
     "output_type": "display_data"
    }
   ],
   "source": [
    "plt.figure(figsize=(10,5))\n",
    "fig, ax = plt.subplots()\n",
    "ax.set_xlabel(\"Training steps *1000\")\n",
    "ax.set_ylabel(\"RMSE on test data\")\n",
    "plt.plot(rmse_evolution)\n",
    "plt.show()"
   ]
  },
  {
   "cell_type": "markdown",
   "metadata": {},
   "source": [
    "# Multiple plots"
   ]
  },
  {
   "cell_type": "code",
   "execution_count": 186,
   "metadata": {},
   "outputs": [
    {
     "name": "stdout",
     "output_type": "stream",
     "text": [
      "[6.038161754608154, 22.173749923706055, 23.51516342163086, 121.32780456542969, 84.37623596191406, 1827.892822265625, 13.463519096374512, 13.101374626159668, 12.854454040527344, 12.619606971740723]\n",
      "[6.077156066894531, 22.157947540283203, 22.001792907714844, 48.69547653198242, 79.58250427246094, 146.56912231445312, 15.0438871383667, 14.466064453125, 14.166326522827148, 13.902145385742188]\n",
      "[6.128620624542236, 21.45108413696289, 54.0301628112793, 3.798896074295044, 4.877624034881592, 9.212177276611328, 3.463322401046753, 1.2861989736557007, 0.6480376124382019, 0.4918895363807678]\n",
      "[6.080233573913574, 20.977643966674805, 52.493621826171875, 4.110617637634277, 4.732529163360596, 7.960615634918213, 3.4565975666046143, 1.4252264499664307, 0.9316142797470093, 0.6115319728851318]\n",
      "[6.127723217010498, 21.028438568115234, 50.98862838745117, 39.335208892822266, 56.99491500854492, 83.3930892944336, 14.89831256866455, 11.770726203918457, 10.488679885864258, 9.76795768737793]\n",
      "[6.311974048614502, 21.47254180908203, 43.157711029052734, 199.74752807617188, 107.99517822265625, 11602.9052734375, 20819.6328125, 32.14211654663086, 6.484219551086426, 9.550621032714844]\n",
      "[5.855008125305176, 20.901493072509766, 49.26323699951172, 32.25938034057617, 65.84658813476562, 796.912841796875, 7059.61962890625, 9726.466796875, 13595.373046875, 251679536.0]\n",
      "[5.981968879699707, 20.418949127197266, 31.270244598388672, 117.67127990722656, 59.45524978637695, 812.4559936523438, 13.2474365234375, 12.879905700683594, 12.571611404418945, 12.288679122924805]\n",
      "[5.943065166473389, 18.88141441345215, 46.955360412597656, 111.90476989746094, 945.1358642578125, 199737.046875, 52328.17578125, 6185424531750912.0, inf, nan]\n",
      "[6.010800838470459, 17.59763526916504, 38.02703857421875, 34.69426345825195, 202.9333038330078, 7500.60400390625, 64869.23046875, 21733232640.0, 1.9578315261528244e+19, inf]\n",
      "[6.038817405700684, 18.134849548339844, 40.793968200683594, 33.124176025390625, 229.3246612548828, 5805.9619140625, 177868.453125, 871970432.0, 1.8016046897314346e+20, inf]\n",
      "[6.065143585205078, 20.183439254760742, 44.30900955200195, 118.88081359863281, 748.1489868164062, 187317.953125, 45.497074127197266, 42.639286041259766, 38.90909957885742, 34.76848220825195]\n",
      "[6.071861267089844, 19.754730224609375, 40.34803009033203, 71.21311950683594, 374.7854309082031, 44014.96875, 19.315189361572266, 594.6666259765625, 19.80478858947754, 18.27812957763672]\n",
      "[6.205990314483643, 20.700231552124023, 38.68238067626953, 96.00340270996094, 521.311767578125, 169198.046875, 522415.59375, 1.2070496631783424e+16, inf, nan]\n",
      "[6.109967231750488, 20.586111068725586, 40.43315505981445, 101.61162567138672, 604.11962890625, 235128.25, 44.41512680053711, 41.9957275390625, 40.017601013183594, 38.187957763671875]\n",
      "[6.003284931182861, 20.542499542236328, 41.364078521728516, 145.15818786621094, 872.05712890625, 668411.5, 403.0301513671875, 32722880.0, 639204.125, 2.36623643414836e+18]\n",
      "[6.015965938568115, 20.328231811523438, 33.36864471435547, 201.72149658203125, 76.48699188232422, 19393.98828125, 16833.18359375, 30.132305145263672, 13.80578899383545, 8.912674903869629]\n",
      "[5.865494251251221, 20.069543838500977, 28.63812828063965, 86.87440490722656, 37.07561111450195, 44.82521438598633, 7316.1357421875, 68.733154296875, 14.859001159667969, 14.443275451660156]\n",
      "[5.993692398071289, 19.623170852661133, 35.93239974975586, 54.69133758544922, 170.26451110839844, 13071.634765625, 140874.703125, 59.504051208496094, 39313.28125, 67.93580627441406]\n",
      "[5.871005535125732, 18.722122192382812, 37.4386100769043, 45.081581115722656, 344.35028076171875, 21000.97265625, 16.956209182739258, 15.325597763061523, 13.947909355163574, 12.674667358398438]\n"
     ]
    },
    {
     "name": "stderr",
     "output_type": "stream",
     "text": [
      "<ipython-input-181-c4cf0caec96c>:28: UserWarning: To copy construct from a tensor, it is recommended to use sourceTensor.clone().detach() or sourceTensor.clone().detach().requires_grad_(True), rather than torch.tensor(sourceTensor).\n",
      "  outputs['initial']= og_net(torch.tensor(axis).view(-1, 1)).detach().cpu().clone().numpy()\n",
      "<ipython-input-181-c4cf0caec96c>:28: UserWarning: To copy construct from a tensor, it is recommended to use sourceTensor.clone().detach() or sourceTensor.clone().detach().requires_grad_(True), rather than torch.tensor(sourceTensor).\n",
      "  outputs['initial']= og_net(torch.tensor(axis).view(-1, 1)).detach().cpu().clone().numpy()\n",
      "<ipython-input-181-c4cf0caec96c>:28: UserWarning: To copy construct from a tensor, it is recommended to use sourceTensor.clone().detach() or sourceTensor.clone().detach().requires_grad_(True), rather than torch.tensor(sourceTensor).\n",
      "  outputs['initial']= og_net(torch.tensor(axis).view(-1, 1)).detach().cpu().clone().numpy()\n",
      "<ipython-input-181-c4cf0caec96c>:28: UserWarning: To copy construct from a tensor, it is recommended to use sourceTensor.clone().detach() or sourceTensor.clone().detach().requires_grad_(True), rather than torch.tensor(sourceTensor).\n",
      "  outputs['initial']= og_net(torch.tensor(axis).view(-1, 1)).detach().cpu().clone().numpy()\n",
      "<ipython-input-181-c4cf0caec96c>:28: UserWarning: To copy construct from a tensor, it is recommended to use sourceTensor.clone().detach() or sourceTensor.clone().detach().requires_grad_(True), rather than torch.tensor(sourceTensor).\n",
      "  outputs['initial']= og_net(torch.tensor(axis).view(-1, 1)).detach().cpu().clone().numpy()\n",
      "<ipython-input-181-c4cf0caec96c>:28: UserWarning: To copy construct from a tensor, it is recommended to use sourceTensor.clone().detach() or sourceTensor.clone().detach().requires_grad_(True), rather than torch.tensor(sourceTensor).\n",
      "  outputs['initial']= og_net(torch.tensor(axis).view(-1, 1)).detach().cpu().clone().numpy()\n",
      "<ipython-input-181-c4cf0caec96c>:28: UserWarning: To copy construct from a tensor, it is recommended to use sourceTensor.clone().detach() or sourceTensor.clone().detach().requires_grad_(True), rather than torch.tensor(sourceTensor).\n",
      "  outputs['initial']= og_net(torch.tensor(axis).view(-1, 1)).detach().cpu().clone().numpy()\n",
      "<ipython-input-181-c4cf0caec96c>:28: UserWarning: To copy construct from a tensor, it is recommended to use sourceTensor.clone().detach() or sourceTensor.clone().detach().requires_grad_(True), rather than torch.tensor(sourceTensor).\n",
      "  outputs['initial']= og_net(torch.tensor(axis).view(-1, 1)).detach().cpu().clone().numpy()\n",
      "<ipython-input-181-c4cf0caec96c>:28: UserWarning: To copy construct from a tensor, it is recommended to use sourceTensor.clone().detach() or sourceTensor.clone().detach().requires_grad_(True), rather than torch.tensor(sourceTensor).\n",
      "  outputs['initial']= og_net(torch.tensor(axis).view(-1, 1)).detach().cpu().clone().numpy()\n",
      "<ipython-input-181-c4cf0caec96c>:28: UserWarning: To copy construct from a tensor, it is recommended to use sourceTensor.clone().detach() or sourceTensor.clone().detach().requires_grad_(True), rather than torch.tensor(sourceTensor).\n",
      "  outputs['initial']= og_net(torch.tensor(axis).view(-1, 1)).detach().cpu().clone().numpy()\n",
      "<ipython-input-181-c4cf0caec96c>:28: UserWarning: To copy construct from a tensor, it is recommended to use sourceTensor.clone().detach() or sourceTensor.clone().detach().requires_grad_(True), rather than torch.tensor(sourceTensor).\n",
      "  outputs['initial']= og_net(torch.tensor(axis).view(-1, 1)).detach().cpu().clone().numpy()\n",
      "<ipython-input-181-c4cf0caec96c>:28: UserWarning: To copy construct from a tensor, it is recommended to use sourceTensor.clone().detach() or sourceTensor.clone().detach().requires_grad_(True), rather than torch.tensor(sourceTensor).\n",
      "  outputs['initial']= og_net(torch.tensor(axis).view(-1, 1)).detach().cpu().clone().numpy()\n",
      "<ipython-input-181-c4cf0caec96c>:28: UserWarning: To copy construct from a tensor, it is recommended to use sourceTensor.clone().detach() or sourceTensor.clone().detach().requires_grad_(True), rather than torch.tensor(sourceTensor).\n",
      "  outputs['initial']= og_net(torch.tensor(axis).view(-1, 1)).detach().cpu().clone().numpy()\n",
      "<ipython-input-181-c4cf0caec96c>:28: UserWarning: To copy construct from a tensor, it is recommended to use sourceTensor.clone().detach() or sourceTensor.clone().detach().requires_grad_(True), rather than torch.tensor(sourceTensor).\n",
      "  outputs['initial']= og_net(torch.tensor(axis).view(-1, 1)).detach().cpu().clone().numpy()\n",
      "<ipython-input-181-c4cf0caec96c>:28: UserWarning: To copy construct from a tensor, it is recommended to use sourceTensor.clone().detach() or sourceTensor.clone().detach().requires_grad_(True), rather than torch.tensor(sourceTensor).\n",
      "  outputs['initial']= og_net(torch.tensor(axis).view(-1, 1)).detach().cpu().clone().numpy()\n",
      "<ipython-input-181-c4cf0caec96c>:28: UserWarning: To copy construct from a tensor, it is recommended to use sourceTensor.clone().detach() or sourceTensor.clone().detach().requires_grad_(True), rather than torch.tensor(sourceTensor).\n",
      "  outputs['initial']= og_net(torch.tensor(axis).view(-1, 1)).detach().cpu().clone().numpy()\n",
      "<ipython-input-181-c4cf0caec96c>:28: UserWarning: To copy construct from a tensor, it is recommended to use sourceTensor.clone().detach() or sourceTensor.clone().detach().requires_grad_(True), rather than torch.tensor(sourceTensor).\n",
      "  outputs['initial']= og_net(torch.tensor(axis).view(-1, 1)).detach().cpu().clone().numpy()\n",
      "<ipython-input-181-c4cf0caec96c>:28: UserWarning: To copy construct from a tensor, it is recommended to use sourceTensor.clone().detach() or sourceTensor.clone().detach().requires_grad_(True), rather than torch.tensor(sourceTensor).\n",
      "  outputs['initial']= og_net(torch.tensor(axis).view(-1, 1)).detach().cpu().clone().numpy()\n",
      "<ipython-input-181-c4cf0caec96c>:28: UserWarning: To copy construct from a tensor, it is recommended to use sourceTensor.clone().detach() or sourceTensor.clone().detach().requires_grad_(True), rather than torch.tensor(sourceTensor).\n",
      "  outputs['initial']= og_net(torch.tensor(axis).view(-1, 1)).detach().cpu().clone().numpy()\n",
      "<ipython-input-181-c4cf0caec96c>:28: UserWarning: To copy construct from a tensor, it is recommended to use sourceTensor.clone().detach() or sourceTensor.clone().detach().requires_grad_(True), rather than torch.tensor(sourceTensor).\n",
      "  outputs['initial']= og_net(torch.tensor(axis).view(-1, 1)).detach().cpu().clone().numpy()\n",
      "<ipython-input-181-c4cf0caec96c>:28: UserWarning: To copy construct from a tensor, it is recommended to use sourceTensor.clone().detach() or sourceTensor.clone().detach().requires_grad_(True), rather than torch.tensor(sourceTensor).\n",
      "  outputs['initial']= og_net(torch.tensor(axis).view(-1, 1)).detach().cpu().clone().numpy()\n",
      "<ipython-input-181-c4cf0caec96c>:28: UserWarning: To copy construct from a tensor, it is recommended to use sourceTensor.clone().detach() or sourceTensor.clone().detach().requires_grad_(True), rather than torch.tensor(sourceTensor).\n",
      "  outputs['initial']= og_net(torch.tensor(axis).view(-1, 1)).detach().cpu().clone().numpy()\n"
     ]
    },
    {
     "name": "stdout",
     "output_type": "stream",
     "text": [
      "[5.77085018157959, 18.961999893188477, 36.66959762573242, 27.760629653930664, 154.65553283691406, 5595.78857421875, 15019.484375, 8.999650955200195, 5.460452079772949, 4.654001712799072]\n",
      "[5.683823108673096, 18.796226501464844, 40.46764373779297, 38.63180160522461, 329.8455505371094, 10555.56640625, 15.410909652709961, 13.787591934204102, 12.732758522033691, 12.06267261505127]\n",
      "[5.502506256103516, 19.155948638916016, 28.283382415771484, 104.99537658691406, 34.06245040893555, 295.6584167480469, 7489.79833984375, 14.612950325012207, 14.065289497375488, 13.453153610229492]\n",
      "[5.488346576690674, 19.374605178833008, 29.266504287719727, 158.908447265625, 36.99073791503906, 1194.4276123046875, 5906.9755859375, 246700.21875, 17606048219136.0, 4.038740542236918e+17]\n",
      "[5.420110702514648, 18.913955688476562, 34.00028610229492, 101.21684265136719, 245.91287231445312, 91684.2890625, 3731618.0, 1355.82177734375, 40493968.0, 18728.072265625]\n",
      "[5.402190208435059, 19.758914947509766, 34.40960693359375, 60.50121307373047, 81.90423583984375, 12195.8916015625, 714.947265625, 10.147271156311035, 9.368297576904297, 8.846839904785156]\n",
      "[5.422961235046387, 20.439441680908203, 28.61075210571289, 74.67040252685547, 46.91783905029297, 351.54364013671875, 138.1064453125, 18.49626922607422, 16.733890533447266, 15.479952812194824]\n",
      "[5.55900239944458, 20.97740936279297, 30.13028907775879, 73.56056213378906, 39.18450927734375, 714.5178833007812, 530.1192626953125, 7.302302360534668, 6.584437370300293, 6.105869770050049]\n",
      "[5.6024017333984375, 20.08186912536621, 30.840560913085938, 108.31941223144531, 29.898502349853516, 196.38104248046875, 2758.411865234375, 13.743585586547852, 13.235902786254883, 12.751440048217773]\n",
      "[5.502804756164551, 20.488605499267578, 32.9953498840332, 102.14842987060547, 33.500518798828125, 471.6993713378906, 11350.4892578125, 215513.75, 1110.44921875, 263.9229431152344]\n",
      "[5.57321834564209, 20.850475311279297, 36.17294692993164, 85.24623107910156, 79.78067779541016, 22830.421875, 1801.5338134765625, 11.21471881866455, 10.648286819458008, 10.313395500183105]\n",
      "[5.476296424865723, 20.10749053955078, 42.624698638916016, 30.98703956604004, 181.75137329101562, 5632.4765625, 40682.25, 59014796804096.0, 1.2368074248340636e+19, inf]\n",
      "[5.492074012756348, 20.085729598999023, 38.16663360595703, 70.92194366455078, 62.389739990234375, 10977.501953125, 221.81460571289062, 13.66044807434082, 12.5265474319458, 11.583613395690918]\n",
      "[5.37155818939209, 19.885923385620117, 41.61562728881836, 32.294219970703125, 145.17733764648438, 8264.6552734375, 10627.6953125, 287233179648.0, 713551572369408.0, inf]\n",
      "[5.237460136413574, 19.543376922607422, 35.316192626953125, 85.35928344726562, 47.40673828125, 4481.083984375, 23944.556640625, 3128404.5, 4353468240232448.0, 1.954144604007358e+35]\n",
      "[5.462899684906006, 20.432355880737305, 36.1263542175293, 59.05501174926758, 42.5090217590332, 4157.1474609375, 37014.33984375, 18556642.0, 6.76534342421735e+19, inf]\n",
      "[5.526843070983887, 20.630741119384766, 38.22938537597656, 53.33934783935547, 56.6444206237793, 6342.6884765625, 44.53566360473633, 7613.8056640625, 5.368658542633057, 4.939610958099365]\n",
      "[5.428755760192871, 19.506826400756836, 34.1932258605957, 33.12852478027344, 28.402761459350586, 203.3531494140625, 880.8751831054688, 45.440643310546875, 7.842115879058838, 7.243622779846191]\n",
      "[5.6792707443237305, 19.366973876953125, 33.39790344238281, 24.435245513916016, 25.591520309448242, 178.96139526367188, 314.66729736328125, 138.37466430664062, 9.37588882446289, 9.132893562316895]\n",
      "[5.513266563415527, 17.874719619750977, 31.073986053466797, 36.93385696411133, 44.99034881591797, 1986.664306640625, 24872.126953125, 2415016.75, 716697568804864.0, inf]\n",
      "[5.507015228271484, 18.46778106689453, 35.438995361328125, 19.946584701538086, 43.364967346191406, 1334.274658203125, 13255.0048828125, 99301.125, 1358149376.0, 2.868756472669385e+25]\n",
      "[5.526606559753418, 18.899967193603516, 32.583744049072266, 55.035560607910156, 50.778709411621094, 3650.88330078125, 20706.71875, 325161.90625, 1580654657536.0, 9.980694260363766e+26]\n",
      "[5.484549522399902, 17.092914581298828, 32.40152359008789, 2.883263349533081, 2.0183210372924805, 6.300167083740234, 13.122756958007812, 45.56907653808594, 24.654260635375977, 8.038878440856934]\n"
     ]
    },
    {
     "name": "stderr",
     "output_type": "stream",
     "text": [
      "<ipython-input-181-c4cf0caec96c>:28: UserWarning: To copy construct from a tensor, it is recommended to use sourceTensor.clone().detach() or sourceTensor.clone().detach().requires_grad_(True), rather than torch.tensor(sourceTensor).\n",
      "  outputs['initial']= og_net(torch.tensor(axis).view(-1, 1)).detach().cpu().clone().numpy()\n",
      "<ipython-input-181-c4cf0caec96c>:28: UserWarning: To copy construct from a tensor, it is recommended to use sourceTensor.clone().detach() or sourceTensor.clone().detach().requires_grad_(True), rather than torch.tensor(sourceTensor).\n",
      "  outputs['initial']= og_net(torch.tensor(axis).view(-1, 1)).detach().cpu().clone().numpy()\n",
      "<ipython-input-181-c4cf0caec96c>:28: UserWarning: To copy construct from a tensor, it is recommended to use sourceTensor.clone().detach() or sourceTensor.clone().detach().requires_grad_(True), rather than torch.tensor(sourceTensor).\n",
      "  outputs['initial']= og_net(torch.tensor(axis).view(-1, 1)).detach().cpu().clone().numpy()\n",
      "<ipython-input-181-c4cf0caec96c>:28: UserWarning: To copy construct from a tensor, it is recommended to use sourceTensor.clone().detach() or sourceTensor.clone().detach().requires_grad_(True), rather than torch.tensor(sourceTensor).\n",
      "  outputs['initial']= og_net(torch.tensor(axis).view(-1, 1)).detach().cpu().clone().numpy()\n",
      "<ipython-input-181-c4cf0caec96c>:28: UserWarning: To copy construct from a tensor, it is recommended to use sourceTensor.clone().detach() or sourceTensor.clone().detach().requires_grad_(True), rather than torch.tensor(sourceTensor).\n",
      "  outputs['initial']= og_net(torch.tensor(axis).view(-1, 1)).detach().cpu().clone().numpy()\n",
      "<ipython-input-181-c4cf0caec96c>:28: UserWarning: To copy construct from a tensor, it is recommended to use sourceTensor.clone().detach() or sourceTensor.clone().detach().requires_grad_(True), rather than torch.tensor(sourceTensor).\n",
      "  outputs['initial']= og_net(torch.tensor(axis).view(-1, 1)).detach().cpu().clone().numpy()\n",
      "<ipython-input-181-c4cf0caec96c>:28: UserWarning: To copy construct from a tensor, it is recommended to use sourceTensor.clone().detach() or sourceTensor.clone().detach().requires_grad_(True), rather than torch.tensor(sourceTensor).\n",
      "  outputs['initial']= og_net(torch.tensor(axis).view(-1, 1)).detach().cpu().clone().numpy()\n",
      "<ipython-input-181-c4cf0caec96c>:28: UserWarning: To copy construct from a tensor, it is recommended to use sourceTensor.clone().detach() or sourceTensor.clone().detach().requires_grad_(True), rather than torch.tensor(sourceTensor).\n",
      "  outputs['initial']= og_net(torch.tensor(axis).view(-1, 1)).detach().cpu().clone().numpy()\n",
      "<ipython-input-181-c4cf0caec96c>:28: UserWarning: To copy construct from a tensor, it is recommended to use sourceTensor.clone().detach() or sourceTensor.clone().detach().requires_grad_(True), rather than torch.tensor(sourceTensor).\n",
      "  outputs['initial']= og_net(torch.tensor(axis).view(-1, 1)).detach().cpu().clone().numpy()\n",
      "<ipython-input-181-c4cf0caec96c>:28: UserWarning: To copy construct from a tensor, it is recommended to use sourceTensor.clone().detach() or sourceTensor.clone().detach().requires_grad_(True), rather than torch.tensor(sourceTensor).\n",
      "  outputs['initial']= og_net(torch.tensor(axis).view(-1, 1)).detach().cpu().clone().numpy()\n",
      "<ipython-input-181-c4cf0caec96c>:28: UserWarning: To copy construct from a tensor, it is recommended to use sourceTensor.clone().detach() or sourceTensor.clone().detach().requires_grad_(True), rather than torch.tensor(sourceTensor).\n",
      "  outputs['initial']= og_net(torch.tensor(axis).view(-1, 1)).detach().cpu().clone().numpy()\n",
      "<ipython-input-181-c4cf0caec96c>:28: UserWarning: To copy construct from a tensor, it is recommended to use sourceTensor.clone().detach() or sourceTensor.clone().detach().requires_grad_(True), rather than torch.tensor(sourceTensor).\n",
      "  outputs['initial']= og_net(torch.tensor(axis).view(-1, 1)).detach().cpu().clone().numpy()\n",
      "<ipython-input-181-c4cf0caec96c>:28: UserWarning: To copy construct from a tensor, it is recommended to use sourceTensor.clone().detach() or sourceTensor.clone().detach().requires_grad_(True), rather than torch.tensor(sourceTensor).\n",
      "  outputs['initial']= og_net(torch.tensor(axis).view(-1, 1)).detach().cpu().clone().numpy()\n",
      "<ipython-input-181-c4cf0caec96c>:28: UserWarning: To copy construct from a tensor, it is recommended to use sourceTensor.clone().detach() or sourceTensor.clone().detach().requires_grad_(True), rather than torch.tensor(sourceTensor).\n",
      "  outputs['initial']= og_net(torch.tensor(axis).view(-1, 1)).detach().cpu().clone().numpy()\n",
      "<ipython-input-181-c4cf0caec96c>:28: UserWarning: To copy construct from a tensor, it is recommended to use sourceTensor.clone().detach() or sourceTensor.clone().detach().requires_grad_(True), rather than torch.tensor(sourceTensor).\n",
      "  outputs['initial']= og_net(torch.tensor(axis).view(-1, 1)).detach().cpu().clone().numpy()\n",
      "<ipython-input-181-c4cf0caec96c>:28: UserWarning: To copy construct from a tensor, it is recommended to use sourceTensor.clone().detach() or sourceTensor.clone().detach().requires_grad_(True), rather than torch.tensor(sourceTensor).\n",
      "  outputs['initial']= og_net(torch.tensor(axis).view(-1, 1)).detach().cpu().clone().numpy()\n",
      "<ipython-input-181-c4cf0caec96c>:28: UserWarning: To copy construct from a tensor, it is recommended to use sourceTensor.clone().detach() or sourceTensor.clone().detach().requires_grad_(True), rather than torch.tensor(sourceTensor).\n",
      "  outputs['initial']= og_net(torch.tensor(axis).view(-1, 1)).detach().cpu().clone().numpy()\n",
      "<ipython-input-181-c4cf0caec96c>:28: UserWarning: To copy construct from a tensor, it is recommended to use sourceTensor.clone().detach() or sourceTensor.clone().detach().requires_grad_(True), rather than torch.tensor(sourceTensor).\n",
      "  outputs['initial']= og_net(torch.tensor(axis).view(-1, 1)).detach().cpu().clone().numpy()\n",
      "<ipython-input-181-c4cf0caec96c>:28: UserWarning: To copy construct from a tensor, it is recommended to use sourceTensor.clone().detach() or sourceTensor.clone().detach().requires_grad_(True), rather than torch.tensor(sourceTensor).\n",
      "  outputs['initial']= og_net(torch.tensor(axis).view(-1, 1)).detach().cpu().clone().numpy()\n",
      "<ipython-input-181-c4cf0caec96c>:28: UserWarning: To copy construct from a tensor, it is recommended to use sourceTensor.clone().detach() or sourceTensor.clone().detach().requires_grad_(True), rather than torch.tensor(sourceTensor).\n",
      "  outputs['initial']= og_net(torch.tensor(axis).view(-1, 1)).detach().cpu().clone().numpy()\n",
      "<ipython-input-181-c4cf0caec96c>:28: UserWarning: To copy construct from a tensor, it is recommended to use sourceTensor.clone().detach() or sourceTensor.clone().detach().requires_grad_(True), rather than torch.tensor(sourceTensor).\n",
      "  outputs['initial']= og_net(torch.tensor(axis).view(-1, 1)).detach().cpu().clone().numpy()\n",
      "<ipython-input-181-c4cf0caec96c>:28: UserWarning: To copy construct from a tensor, it is recommended to use sourceTensor.clone().detach() or sourceTensor.clone().detach().requires_grad_(True), rather than torch.tensor(sourceTensor).\n",
      "  outputs['initial']= og_net(torch.tensor(axis).view(-1, 1)).detach().cpu().clone().numpy()\n",
      "<ipython-input-181-c4cf0caec96c>:28: UserWarning: To copy construct from a tensor, it is recommended to use sourceTensor.clone().detach() or sourceTensor.clone().detach().requires_grad_(True), rather than torch.tensor(sourceTensor).\n",
      "  outputs['initial']= og_net(torch.tensor(axis).view(-1, 1)).detach().cpu().clone().numpy()\n",
      "<ipython-input-181-c4cf0caec96c>:28: UserWarning: To copy construct from a tensor, it is recommended to use sourceTensor.clone().detach() or sourceTensor.clone().detach().requires_grad_(True), rather than torch.tensor(sourceTensor).\n",
      "  outputs['initial']= og_net(torch.tensor(axis).view(-1, 1)).detach().cpu().clone().numpy()\n"
     ]
    },
    {
     "name": "stdout",
     "output_type": "stream",
     "text": [
      "[5.552350044250488, 17.21142578125, 32.36910629272461, 3.998436450958252, 15.870272636413574, 6.765532493591309, 8.536575317382812, 8.463876724243164, 2.0023837089538574, 0.9365593791007996]\n",
      "[5.421132564544678, 17.478496551513672, 28.614665985107422, 27.905048370361328, 24.48141098022461, 37.44507598876953, 1032.83984375, 848.6915283203125, 311.3933410644531, 11.82982349395752]\n",
      "[5.605257034301758, 17.63856315612793, 31.531774520874023, 3.133855104446411, 6.118531227111816, 10.596441268920898, 24.559289932250977, 47.01020812988281, 11.199262619018555, 6.157347679138184]\n",
      "[5.794764995574951, 18.42208480834961, 31.005239486694336, 4.702237129211426, 23.83315086364746, 21.5113525390625, 24.267269134521484, 14.987234115600586, 6.815123558044434, 5.808962821960449]\n",
      "[5.821946144104004, 18.314538955688477, 27.4627742767334, 6.347692966461182, 2.9005236625671387, 3.0421884059906006, 1.2740861177444458, 1.1215437650680542, 1.2764374017715454, 1.7654802799224854]\n",
      "[5.596436977386475, 16.243698120117188, 28.341960906982422, 8.190052032470703, 10.416083335876465, 19.490476608276367, 73.12518310546875, 6.38446569442749, 4.199190616607666, 2.254443883895874]\n",
      "[5.5718231201171875, 16.642988204956055, 26.107051849365234, 3.6265869140625, 4.341538429260254, 9.347831726074219, 7.620267391204834, 11.813019752502441, 3.0324392318725586, 2.1427063941955566]\n",
      "[5.718549728393555, 17.279321670532227, 25.74172592163086, 2.4810659885406494, 1.6960833072662354, 0.9528061151504517, 0.7114580869674683, 0.7848025560379028, 0.7059512138366699, 0.9096271395683289]\n"
     ]
    },
    {
     "name": "stderr",
     "output_type": "stream",
     "text": [
      "<ipython-input-181-c4cf0caec96c>:28: UserWarning: To copy construct from a tensor, it is recommended to use sourceTensor.clone().detach() or sourceTensor.clone().detach().requires_grad_(True), rather than torch.tensor(sourceTensor).\n",
      "  outputs['initial']= og_net(torch.tensor(axis).view(-1, 1)).detach().cpu().clone().numpy()\n",
      "<ipython-input-181-c4cf0caec96c>:28: UserWarning: To copy construct from a tensor, it is recommended to use sourceTensor.clone().detach() or sourceTensor.clone().detach().requires_grad_(True), rather than torch.tensor(sourceTensor).\n",
      "  outputs['initial']= og_net(torch.tensor(axis).view(-1, 1)).detach().cpu().clone().numpy()\n",
      "<ipython-input-181-c4cf0caec96c>:28: UserWarning: To copy construct from a tensor, it is recommended to use sourceTensor.clone().detach() or sourceTensor.clone().detach().requires_grad_(True), rather than torch.tensor(sourceTensor).\n",
      "  outputs['initial']= og_net(torch.tensor(axis).view(-1, 1)).detach().cpu().clone().numpy()\n",
      "<ipython-input-181-c4cf0caec96c>:28: UserWarning: To copy construct from a tensor, it is recommended to use sourceTensor.clone().detach() or sourceTensor.clone().detach().requires_grad_(True), rather than torch.tensor(sourceTensor).\n",
      "  outputs['initial']= og_net(torch.tensor(axis).view(-1, 1)).detach().cpu().clone().numpy()\n",
      "<ipython-input-181-c4cf0caec96c>:28: UserWarning: To copy construct from a tensor, it is recommended to use sourceTensor.clone().detach() or sourceTensor.clone().detach().requires_grad_(True), rather than torch.tensor(sourceTensor).\n",
      "  outputs['initial']= og_net(torch.tensor(axis).view(-1, 1)).detach().cpu().clone().numpy()\n"
     ]
    },
    {
     "data": {
      "image/png": "[encoded data removed]",
      "text/plain": [
       "<Figure size 720x360 with 1 Axes>"
      ]
     },
     "metadata": {
      "needs_background": "light"
     },
     "output_type": "display_data"
    }
   ],
   "source": [
    "K=10\n",
    "num_iterations = 50\n",
    "\n",
    "og_net=maml.net.net\n",
    "optim=torch.optim.SGD\n",
    "lr=0.01\n",
    "plt.figure(figsize=(10,5))\n",
    "function_tasks = SineDistribution(0.1, 5, 0, np.pi, -5, 5)\n",
    "task=function_tasks.sample_task()\n",
    "x,y=task.sample_data(K)\n",
    "x=x.to(device)\n",
    "y=y.to(device)\n",
    "epsilon = 0.05\n",
    "output_sum = [0 for i in range(1000)]\n",
    "\n",
    "error = 0\n",
    "\n",
    "x = x + epsilon*torch.randn(1, K, 1)\n",
    "y= y + epsilon*torch.randn(1, K, 1)\n",
    "outputs,axis=test(og_net,x,y,lr,optim)\n",
    "plt.plot(axis.cpu().clone().numpy(),task.true_sine(axis.cpu().clone().numpy()), '-', color=(0, 0, 1, 0.5), label='true function')\n",
    "plt.scatter(x.cpu().clone().numpy(), y.cpu().clone().numpy(), label='data')\n",
    "plt.plot(axis.cpu().clone().numpy(), outputs['initial'], ':', color=(0.7, 0, 0, 1), label='initial weights')\n",
    "plt.plot(axis.cpu().clone().numpy(), outputs['minitrained'], '-', color=(0.5, 0, 0, 1), label='minitrained weights')\n",
    "plt.legend(loc='upper center', bbox_to_anchor=(0.5, -0.05),fancybox=True, shadow=True, ncol=5)\n",
    "\n",
    "\n",
    "for i in range(num_iterations):\n",
    "    x = x + epsilon*torch.randn(1, K, 1)\n",
    "    y= y + epsilon*torch.randn(1, K, 1)\n",
    "    outputs,axis=test(og_net,x,y,lr,optim)\n",
    "    #print(outputs['minitrained'])\n",
    "    for k in range(1000):\n",
    "        output_sum[k] += (outputs['minitrained'][k])\n",
    "        \n",
    "    a = outputs['minitrained']\n",
    "    L = [] \n",
    "    for i in range(len(a)):\n",
    "        L.append(a[i][0])\n",
    "    L = np.array(L)\n",
    "    \n",
    "    error += np.linalg.norm(task.true_sine(axis.cpu().clone().numpy()) - L)\n",
    "    plt.plot(axis.cpu().clone().numpy(),task.true_sine(axis.cpu().clone().numpy()), '-', color=(0, 0, 1, 0.5), label='true function')\n",
    "    plt.scatter(x.cpu().clone().numpy(), y.cpu().clone().numpy(), label='data')\n",
    "    plt.plot(axis.cpu().clone().numpy(), outputs['initial'], ':', color=(0.7, 0, 0, 1), label='initial weights')\n",
    "    plt.plot(axis.cpu().clone().numpy(), outputs['minitrained'], '-', color=(0.5, 0, 0, 1), label='minitrained weights')\n",
    "    #plt.legend(loc='lower right')\n",
    "\n",
    "error = error/num_iterations\n",
    "output_sum = (np.array(output_sum)/num_iterations).tolist()\n",
    "plt.show()"
   ]
  },
  {
   "cell_type": "markdown",
   "metadata": {},
   "source": [
    "# RMSE evolution"
   ]
  },
  {
   "cell_type": "code",
   "execution_count": null,
   "metadata": {},
   "outputs": [],
   "source": [
    "K = 10\n",
    "min_amp,max_amp,min_phase,max_phase,min_x,max_x = 0.1, 5, 0, np.pi, -5, 5 #Classic ones\n",
    "#min_amp,max_amp,min_phase,max_phase,min_x,max_x = -1, 1, 0, np.pi/3, -3, 3 #It sucks\n",
    "\n",
    "sine_tasks=SineDistribution(min_amp,max_amp,min_phase,max_phase,min_x,max_x)\n",
    "#NPs like: -1, 1, 0, np.pi/3, -3, 3\n",
    "#Classic: 0.1, 5, 0, np.pi, -5, 5\n",
    "net=SineNet()\n",
    "net=net.to(device)\n",
    "maml=SineMAML(net,alpha=0.01,beta=0.001,tasks=sine_tasks,k=10, num_metatasks=10)\n",
    "\n",
    "rmse_evolution = []\n",
    "for train_step in range(150):\n",
    "    maml.outer_loop(num_epochs=100)\n",
    "    num_iterations = 50\n",
    "    sine_tasks=SineDistribution(min_amp,max_amp,min_phase,max_phase,min_x,max_x)\n",
    "    global_error = 0\n",
    "\n",
    "    for i in range(num_iterations):\n",
    "        og_net=maml.net.net\n",
    "        optim=torch.optim.SGD\n",
    "        lr=0.01\n",
    "        \n",
    "        task=sine_tasks.sample_task()\n",
    "        x,y=task.sample_data(K)\n",
    "        x=x.to(device)\n",
    "        y=y.to(device)\n",
    "\n",
    "        outputs,axis=test(og_net,x,y,lr,optim)\n",
    "  \n",
    "        error = 0\n",
    "        L = []\n",
    "        for i in range(len(x.numpy())):\n",
    "            L.append(int((5+x.numpy()[i][0])*100))\n",
    "        pred = []\n",
    "        for i in range(len(x.numpy())):\n",
    "            pred.append(outputs['minitrained'][L[i]][0])\n",
    "        y_ = []\n",
    "        for i in range(len(y.numpy())):\n",
    "            y_.append(y.numpy()[i][0])\n",
    "        global_error+=(np.linalg.norm(np.array(y_)-np.array(pred)))\n",
    "    global_error = global_error/num_iterations\n",
    "    rmse_evolution.append(global_error)"
   ]
  },
  {
   "cell_type": "code",
   "execution_count": 15,
   "metadata": {},
   "outputs": [
    {
     "data": {
      "text/plain": [
       "[<matplotlib.lines.Line2D at 0x7fb151af3940>]"
      ]
     },
     "execution_count": 15,
     "metadata": {},
     "output_type": "execute_result"
    },
    {
     "data": {
      "image/png": "[encoded data removed]",
      "text/plain": [
       "<Figure size 432x288 with 1 Axes>"
      ]
     },
     "metadata": {
      "needs_background": "light"
     },
     "output_type": "display_data"
    }
   ],
   "source": [
    "plt.plot(maml.meta_losses)"
   ]
  },
  {
   "cell_type": "code",
   "execution_count": null,
   "metadata": {},
   "outputs": [],
   "source": []
  }
 ],
 "metadata": {
  "accelerator": "GPU",
  "colab": {
   "provenance": []
  },
  "gpuClass": "standard",
  "kernelspec": {
   "display_name": "Python 3",
   "language": "python",
   "name": "python3"
  },
  "language_info": {
   "codemirror_mode": {
    "name": "ipython",
    "version": 3
   },
   "file_extension": ".py",
   "mimetype": "text/x-python",
   "name": "python",
   "nbconvert_exporter": "python",
   "pygments_lexer": "ipython3",
   "version": "3.8.8"
  }
 },
 "nbformat": 4,
 "nbformat_minor": 1
}
